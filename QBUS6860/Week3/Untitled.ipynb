{
 "cells": [
  {
   "cell_type": "code",
   "execution_count": 67,
   "id": "2fe87b26",
   "metadata": {},
   "outputs": [
    {
     "data": {
      "text/html": [
       "<div>\n",
       "<style scoped>\n",
       "    .dataframe tbody tr th:only-of-type {\n",
       "        vertical-align: middle;\n",
       "    }\n",
       "\n",
       "    .dataframe tbody tr th {\n",
       "        vertical-align: top;\n",
       "    }\n",
       "\n",
       "    .dataframe thead th {\n",
       "        text-align: right;\n",
       "    }\n",
       "</style>\n",
       "<table border=\"1\" class=\"dataframe\">\n",
       "  <thead>\n",
       "    <tr style=\"text-align: right;\">\n",
       "      <th></th>\n",
       "      <th>sector</th>\n",
       "      <th>marketcap</th>\n",
       "      <th>anrevenue</th>\n",
       "      <th>size</th>\n",
       "      <th>roi</th>\n",
       "    </tr>\n",
       "  </thead>\n",
       "  <tbody>\n",
       "    <tr>\n",
       "      <th>0</th>\n",
       "      <td>telecom</td>\n",
       "      <td>12</td>\n",
       "      <td>1.0</td>\n",
       "      <td>250</td>\n",
       "      <td>8</td>\n",
       "    </tr>\n",
       "    <tr>\n",
       "      <th>1</th>\n",
       "      <td>telecom</td>\n",
       "      <td>18</td>\n",
       "      <td>1.5</td>\n",
       "      <td>5000</td>\n",
       "      <td>5</td>\n",
       "    </tr>\n",
       "    <tr>\n",
       "      <th>2</th>\n",
       "      <td>manufacturing</td>\n",
       "      <td>60</td>\n",
       "      <td>2.0</td>\n",
       "      <td>5000</td>\n",
       "      <td>9</td>\n",
       "    </tr>\n",
       "    <tr>\n",
       "      <th>3</th>\n",
       "      <td>retail</td>\n",
       "      <td>20</td>\n",
       "      <td>3.0</td>\n",
       "      <td>50</td>\n",
       "      <td>10</td>\n",
       "    </tr>\n",
       "    <tr>\n",
       "      <th>4</th>\n",
       "      <td>retail</td>\n",
       "      <td>25</td>\n",
       "      <td>2.0</td>\n",
       "      <td>250</td>\n",
       "      <td>11</td>\n",
       "    </tr>\n",
       "    <tr>\n",
       "      <th>...</th>\n",
       "      <td>...</td>\n",
       "      <td>...</td>\n",
       "      <td>...</td>\n",
       "      <td>...</td>\n",
       "      <td>...</td>\n",
       "    </tr>\n",
       "    <tr>\n",
       "      <th>94</th>\n",
       "      <td>manufacturing</td>\n",
       "      <td>62</td>\n",
       "      <td>10.0</td>\n",
       "      <td>5000</td>\n",
       "      <td>12</td>\n",
       "    </tr>\n",
       "    <tr>\n",
       "      <th>95</th>\n",
       "      <td>manufacturing</td>\n",
       "      <td>67</td>\n",
       "      <td>9.0</td>\n",
       "      <td>5000</td>\n",
       "      <td>12</td>\n",
       "    </tr>\n",
       "    <tr>\n",
       "      <th>96</th>\n",
       "      <td>manufacturing</td>\n",
       "      <td>58</td>\n",
       "      <td>9.5</td>\n",
       "      <td>5000</td>\n",
       "      <td>13</td>\n",
       "    </tr>\n",
       "    <tr>\n",
       "      <th>97</th>\n",
       "      <td>manufacturing</td>\n",
       "      <td>57</td>\n",
       "      <td>9.1</td>\n",
       "      <td>5000</td>\n",
       "      <td>14</td>\n",
       "    </tr>\n",
       "    <tr>\n",
       "      <th>98</th>\n",
       "      <td>manufacturing</td>\n",
       "      <td>60</td>\n",
       "      <td>9.2</td>\n",
       "      <td>5000</td>\n",
       "      <td>1</td>\n",
       "    </tr>\n",
       "  </tbody>\n",
       "</table>\n",
       "<p>99 rows × 5 columns</p>\n",
       "</div>"
      ],
      "text/plain": [
       "           sector  marketcap  anrevenue  size  roi\n",
       "0         telecom         12        1.0   250    8\n",
       "1         telecom         18        1.5  5000    5\n",
       "2   manufacturing         60        2.0  5000    9\n",
       "3          retail         20        3.0    50   10\n",
       "4          retail         25        2.0   250   11\n",
       "..            ...        ...        ...   ...  ...\n",
       "94  manufacturing         62       10.0  5000   12\n",
       "95  manufacturing         67        9.0  5000   12\n",
       "96  manufacturing         58        9.5  5000   13\n",
       "97  manufacturing         57        9.1  5000   14\n",
       "98  manufacturing         60        9.2  5000    1\n",
       "\n",
       "[99 rows x 5 columns]"
      ]
     },
     "execution_count": 67,
     "metadata": {},
     "output_type": "execute_result"
    }
   ],
   "source": [
    "import pandas as pd\n",
    "import numpy as np\n",
    "import seaborn as sns\n",
    "import matplotlib.pyplot as plt\n",
    "data = pd.read_csv('./finset.csv')\n",
    "data"
   ]
  },
  {
   "cell_type": "code",
   "execution_count": 68,
   "id": "3cefcc80",
   "metadata": {},
   "outputs": [
    {
     "data": {
      "text/plain": [
       "sector       False\n",
       "marketcap    False\n",
       "anrevenue    False\n",
       "size         False\n",
       "roi          False\n",
       "dtype: bool"
      ]
     },
     "execution_count": 68,
     "metadata": {},
     "output_type": "execute_result"
    }
   ],
   "source": [
    "data.isnull().any()"
   ]
  },
  {
   "cell_type": "code",
   "execution_count": 69,
   "id": "cad42dd6",
   "metadata": {},
   "outputs": [
    {
     "data": {
      "text/html": [
       "<div>\n",
       "<style scoped>\n",
       "    .dataframe tbody tr th:only-of-type {\n",
       "        vertical-align: middle;\n",
       "    }\n",
       "\n",
       "    .dataframe tbody tr th {\n",
       "        vertical-align: top;\n",
       "    }\n",
       "\n",
       "    .dataframe thead th {\n",
       "        text-align: right;\n",
       "    }\n",
       "</style>\n",
       "<table border=\"1\" class=\"dataframe\">\n",
       "  <thead>\n",
       "    <tr style=\"text-align: right;\">\n",
       "      <th></th>\n",
       "      <th>marketcap</th>\n",
       "      <th>anrevenue</th>\n",
       "      <th>size</th>\n",
       "      <th>roi</th>\n",
       "    </tr>\n",
       "    <tr>\n",
       "      <th>sector</th>\n",
       "      <th></th>\n",
       "      <th></th>\n",
       "      <th></th>\n",
       "      <th></th>\n",
       "    </tr>\n",
       "  </thead>\n",
       "  <tbody>\n",
       "    <tr>\n",
       "      <th>manufacturing</th>\n",
       "      <td>59.596154</td>\n",
       "      <td>8.353846</td>\n",
       "      <td>4451.923077</td>\n",
       "      <td>9.250000</td>\n",
       "    </tr>\n",
       "    <tr>\n",
       "      <th>retail</th>\n",
       "      <td>20.681818</td>\n",
       "      <td>2.045455</td>\n",
       "      <td>2552.272727</td>\n",
       "      <td>10.318182</td>\n",
       "    </tr>\n",
       "    <tr>\n",
       "      <th>telecom</th>\n",
       "      <td>11.120000</td>\n",
       "      <td>1.308000</td>\n",
       "      <td>1952.000000</td>\n",
       "      <td>11.600000</td>\n",
       "    </tr>\n",
       "  </tbody>\n",
       "</table>\n",
       "</div>"
      ],
      "text/plain": [
       "               marketcap  anrevenue         size        roi\n",
       "sector                                                     \n",
       "manufacturing  59.596154   8.353846  4451.923077   9.250000\n",
       "retail         20.681818   2.045455  2552.272727  10.318182\n",
       "telecom        11.120000   1.308000  1952.000000  11.600000"
      ]
     },
     "execution_count": 69,
     "metadata": {},
     "output_type": "execute_result"
    }
   ],
   "source": [
    "data.groupby('sector').mean()"
   ]
  },
  {
   "cell_type": "code",
   "execution_count": 70,
   "id": "35a20f22",
   "metadata": {},
   "outputs": [
    {
     "data": {
      "text/html": [
       "<div>\n",
       "<style scoped>\n",
       "    .dataframe tbody tr th:only-of-type {\n",
       "        vertical-align: middle;\n",
       "    }\n",
       "\n",
       "    .dataframe tbody tr th {\n",
       "        vertical-align: top;\n",
       "    }\n",
       "\n",
       "    .dataframe thead th {\n",
       "        text-align: right;\n",
       "    }\n",
       "</style>\n",
       "<table border=\"1\" class=\"dataframe\">\n",
       "  <thead>\n",
       "    <tr style=\"text-align: right;\">\n",
       "      <th></th>\n",
       "      <th>sector</th>\n",
       "      <th>marketcap</th>\n",
       "      <th>anrevenue</th>\n",
       "      <th>size</th>\n",
       "      <th>roi</th>\n",
       "    </tr>\n",
       "  </thead>\n",
       "  <tbody>\n",
       "    <tr>\n",
       "      <th>98</th>\n",
       "      <td>manufacturing</td>\n",
       "      <td>60</td>\n",
       "      <td>9.2</td>\n",
       "      <td>5000</td>\n",
       "      <td>1</td>\n",
       "    </tr>\n",
       "    <tr>\n",
       "      <th>39</th>\n",
       "      <td>telecom</td>\n",
       "      <td>14</td>\n",
       "      <td>1.2</td>\n",
       "      <td>5000</td>\n",
       "      <td>1</td>\n",
       "    </tr>\n",
       "    <tr>\n",
       "      <th>48</th>\n",
       "      <td>manufacturing</td>\n",
       "      <td>60</td>\n",
       "      <td>5.0</td>\n",
       "      <td>5000</td>\n",
       "      <td>1</td>\n",
       "    </tr>\n",
       "    <tr>\n",
       "      <th>13</th>\n",
       "      <td>retail</td>\n",
       "      <td>14</td>\n",
       "      <td>1.5</td>\n",
       "      <td>5000</td>\n",
       "      <td>1</td>\n",
       "    </tr>\n",
       "    <tr>\n",
       "      <th>40</th>\n",
       "      <td>telecom</td>\n",
       "      <td>14</td>\n",
       "      <td>2.0</td>\n",
       "      <td>250</td>\n",
       "      <td>2</td>\n",
       "    </tr>\n",
       "    <tr>\n",
       "      <th>...</th>\n",
       "      <td>...</td>\n",
       "      <td>...</td>\n",
       "      <td>...</td>\n",
       "      <td>...</td>\n",
       "      <td>...</td>\n",
       "    </tr>\n",
       "    <tr>\n",
       "      <th>91</th>\n",
       "      <td>manufacturing</td>\n",
       "      <td>60</td>\n",
       "      <td>13.7</td>\n",
       "      <td>5000</td>\n",
       "      <td>30</td>\n",
       "    </tr>\n",
       "    <tr>\n",
       "      <th>35</th>\n",
       "      <td>telecom</td>\n",
       "      <td>11</td>\n",
       "      <td>1.5</td>\n",
       "      <td>5000</td>\n",
       "      <td>34</td>\n",
       "    </tr>\n",
       "    <tr>\n",
       "      <th>92</th>\n",
       "      <td>manufacturing</td>\n",
       "      <td>61</td>\n",
       "      <td>14.8</td>\n",
       "      <td>250</td>\n",
       "      <td>35</td>\n",
       "    </tr>\n",
       "    <tr>\n",
       "      <th>37</th>\n",
       "      <td>telecom</td>\n",
       "      <td>13</td>\n",
       "      <td>1.3</td>\n",
       "      <td>5000</td>\n",
       "      <td>45</td>\n",
       "    </tr>\n",
       "    <tr>\n",
       "      <th>93</th>\n",
       "      <td>manufacturing</td>\n",
       "      <td>62</td>\n",
       "      <td>11.0</td>\n",
       "      <td>5000</td>\n",
       "      <td>61</td>\n",
       "    </tr>\n",
       "  </tbody>\n",
       "</table>\n",
       "<p>99 rows × 5 columns</p>\n",
       "</div>"
      ],
      "text/plain": [
       "           sector  marketcap  anrevenue  size  roi\n",
       "98  manufacturing         60        9.2  5000    1\n",
       "39        telecom         14        1.2  5000    1\n",
       "48  manufacturing         60        5.0  5000    1\n",
       "13         retail         14        1.5  5000    1\n",
       "40        telecom         14        2.0   250    2\n",
       "..            ...        ...        ...   ...  ...\n",
       "91  manufacturing         60       13.7  5000   30\n",
       "35        telecom         11        1.5  5000   34\n",
       "92  manufacturing         61       14.8   250   35\n",
       "37        telecom         13        1.3  5000   45\n",
       "93  manufacturing         62       11.0  5000   61\n",
       "\n",
       "[99 rows x 5 columns]"
      ]
     },
     "execution_count": 70,
     "metadata": {},
     "output_type": "execute_result"
    }
   ],
   "source": [
    "data.sort_values('roi')"
   ]
  },
  {
   "cell_type": "code",
   "execution_count": 71,
   "id": "20d03360",
   "metadata": {},
   "outputs": [
    {
     "data": {
      "image/png": "[encoded data removed]",
      "text/plain": [
       "<Figure size 432x288 with 1 Axes>"
      ]
     },
     "metadata": {},
     "output_type": "display_data"
    }
   ],
   "source": [
    "freq = data.value_counts(\"sector\")\n",
    "colors = ['#81ecec','#ff7675','#6c5ce7']\n",
    "plt.pie(freq, labels = freq.index, explode = (0.1, 0, 0), autopct = '%.0f', colors = colors, startangle = 90, counterclock = False)\n",
    "plt.axis('square')\n",
    "plt.legend(loc='upper right', bbox_to_anchor=(1.2, 0.2))\n",
    "plt.show()"
   ]
  },
  {
   "cell_type": "code",
   "execution_count": 72,
   "id": "7cff5390",
   "metadata": {},
   "outputs": [
    {
     "data": {
      "image/png": "[encoded data removed]",
      "text/plain": [
       "<Figure size 720x720 with 3 Axes>"
      ]
     },
     "metadata": {
      "needs_background": "light"
     },
     "output_type": "display_data"
    }
   ],
   "source": [
    "data_roi = data.sort_values('roi')\n",
    "fig, axes = plt.subplots(1, 3, figsize=(10,10))\n",
    "for index, item in enumerate(['marketcap', 'anrevenue', 'size']):\n",
    "    axes[index].set_title(item)\n",
    "    for i in data_roi['sector'].drop_duplicates():\n",
    "        x = data_roi[data_roi['sector']==i][item]\n",
    "        y = data_roi[data_roi['sector']==i]['roi']\n",
    "        axes[index].scatter(x, y)\n",
    "\n",
    "plt.show()"
   ]
  },
  {
   "cell_type": "code",
   "execution_count": 74,
   "id": "faefd902",
   "metadata": {},
   "outputs": [
    {
     "name": "stdout",
     "output_type": "stream",
     "text": [
      "New shape:  (91, 5)\n"
     ]
    },
    {
     "data": {
      "text/plain": [
       "<AxesSubplot:xlabel='roi'>"
      ]
     },
     "execution_count": 74,
     "metadata": {},
     "output_type": "execute_result"
    },
    {
     "data": {
      "image/png": "[encoded data removed]",
      "text/plain": [
       "<Figure size 432x288 with 1 Axes>"
      ]
     },
     "metadata": {
      "needs_background": "light"
     },
     "output_type": "display_data"
    }
   ],
   "source": [
    "q1 = np.percentile(data['roi'], 25, interpolation='midpoint')\n",
    "q3 = np.percentile(data['roi'], 75, interpolation='midpoint')\n",
    "iqr = q3 - q1\n",
    "upper = np.where(data['roi'] >= (q3 + 1.5*iqr))\n",
    "lower = np.where(data['roi'] <= (q1 - 1.5*iqr))\n",
    "data_temp = data\n",
    "data_temp = data_temp.drop(upper[0])\n",
    "data_temp = data_temp.drop(lower[0])\n",
    "print('New shape: ', data_temp.shape)\n",
    "sns.boxplot(x='roi', data=data_temp)"
   ]
  },
  {
   "cell_type": "code",
   "execution_count": 79,
   "id": "67caf0a1",
   "metadata": {},
   "outputs": [
    {
     "name": "stdout",
     "output_type": "stream",
     "text": [
      "New shape:  (85, 5)\n"
     ]
    },
    {
     "data": {
      "text/plain": [
       "<AxesSubplot:xlabel='roi'>"
      ]
     },
     "execution_count": 79,
     "metadata": {},
     "output_type": "execute_result"
    },
    {
     "data": {
      "image/png": "[encoded data removed]",
      "text/plain": [
       "<Figure size 432x288 with 1 Axes>"
      ]
     },
     "metadata": {
      "needs_background": "light"
     },
     "output_type": "display_data"
    }
   ],
   "source": [
    "q1 = np.percentile(data_temp['roi'], 25, interpolation='midpoint')\n",
    "q3 = np.percentile(data_temp['roi'], 75, interpolation='midpoint')\n",
    "iqr = q3 - q1\n",
    "upper = np.where(data_temp['roi'] >= (q3 + 1.5*iqr))\n",
    "lower = np.where(data_temp['roi'] <= (q1 - 1.5*iqr))\n",
    "data_temp = data_temp.drop(upper[0])\n",
    "data_temp = data_temp.drop(lower[0])\n",
    "print('New shape: ', data_temp.shape)\n",
    "sns.boxplot(x='roi', data=data_temp)"
   ]
  },
  {
   "cell_type": "code",
   "execution_count": null,
   "id": "944a03f9",
   "metadata": {},
   "outputs": [],
   "source": []
  }
 ],
 "metadata": {
  "kernelspec": {
   "display_name": "Python 3",
   "language": "python",
   "name": "python3"
  },
  "language_info": {
   "codemirror_mode": {
    "name": "ipython",
    "version": 3
   },
   "file_extension": ".py",
   "mimetype": "text/x-python",
   "name": "python",
   "nbconvert_exporter": "python",
   "pygments_lexer": "ipython3",
   "version": "3.8.8"
  }
 },
 "nbformat": 4,
 "nbformat_minor": 5
}
