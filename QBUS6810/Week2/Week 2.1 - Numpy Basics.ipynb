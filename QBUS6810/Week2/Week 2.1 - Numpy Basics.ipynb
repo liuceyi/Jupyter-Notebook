{
 "cells": [
  {
   "cell_type": "markdown",
   "metadata": {},
   "source": [
    "# Numpy Basics\n",
    "- np.array vs list\n",
    "- basic math functions (log, sin, cos)\n",
    "- indexing and slicing\n",
    "- arange vs linspace\n",
    "- np.random.rand vs np.random.randint\n",
    "\n",
    "While here we `import numpy as np` you really can `import numpy as anything` you want. So\n",
    "\n",
    "`import numpy as abcdefg`, `import numpy as nadlhs` work just fine.\n",
    "\n",
    "However, in 99.9% of programs, `numpy` is imported as `np`. When programmers encounter the other 0.1%, the get very angry and then change the name to `np` as it should be."
   ]
  },
  {
   "cell_type": "code",
   "execution_count": 1,
   "metadata": {},
   "outputs": [],
   "source": [
    "import numpy as np"
   ]
  },
  {
   "cell_type": "markdown",
   "metadata": {},
   "source": [
    "### `np.array`\n",
    "A numpy array is the most basic form of lists. They are essentially the same thing, but np.array lets you perform basic math operations on them"
   ]
  },
  {
   "cell_type": "code",
   "execution_count": 2,
   "metadata": {},
   "outputs": [],
   "source": [
    "temp_list = [1, 2, 3, 4]\n",
    "temp_array = np.array([1, 2, 3, 4])"
   ]
  },
  {
   "cell_type": "markdown",
   "metadata": {},
   "source": [
    "Suppose I want to multiply every element in the list/array by 2. If I want to use lists I need to write it like this"
   ]
  },
  {
   "cell_type": "code",
   "execution_count": 3,
   "metadata": {},
   "outputs": [
    {
     "data": {
      "text/plain": [
       "[2, 4, 6, 8]"
      ]
     },
     "execution_count": 3,
     "metadata": {},
     "output_type": "execute_result"
    }
   ],
   "source": [
    "# Need to use list comprehension\n",
    "[2 * x for x in temp_list]"
   ]
  },
  {
   "cell_type": "code",
   "execution_count": 4,
   "metadata": {},
   "outputs": [
    {
     "data": {
      "text/plain": [
       "array([2, 4, 6, 8])"
      ]
     },
     "execution_count": 4,
     "metadata": {},
     "output_type": "execute_result"
    }
   ],
   "source": [
    "# Using arrays I can just multiply by 2\n",
    "temp_array * 2"
   ]
  },
  {
   "cell_type": "code",
   "execution_count": 5,
   "metadata": {},
   "outputs": [
    {
     "data": {
      "text/plain": [
       "[1, 2, 3, 4, 1, 2, 3, 4]"
      ]
     },
     "execution_count": 5,
     "metadata": {},
     "output_type": "execute_result"
    }
   ],
   "source": [
    "# But you can't do the same using lists\n",
    "temp_list * 2"
   ]
  },
  {
   "cell_type": "markdown",
   "metadata": {},
   "source": [
    "### Other Math Functions\n",
    "The other major use of `numpy` is to use the math functions:\n"
   ]
  },
  {
   "cell_type": "code",
   "execution_count": 6,
   "metadata": {},
   "outputs": [
    {
     "name": "stdout",
     "output_type": "stream",
     "text": [
      "Cosine: [ 0.54030231 -0.41614684 -0.9899925  -0.65364362]\n",
      "Log (base e): [0.         0.69314718 1.09861229 1.38629436]\n",
      "Square Root: [1.         1.41421356 1.73205081 2.        ]\n"
     ]
    }
   ],
   "source": [
    "print('Cosine:', np.cos(temp_array))\n",
    "print('Log (base e):', np.log(temp_array))\n",
    "print('Square Root:', np.sqrt(temp_array))"
   ]
  },
  {
   "cell_type": "code",
   "execution_count": 7,
   "metadata": {
    "scrolled": true
   },
   "outputs": [
    {
     "name": "stdout",
     "output_type": "stream",
     "text": [
      "Sum: 10\n",
      "Mean: 2.5\n",
      "Standard Deviation : 1.118033988749895\n",
      "Variance : 1.25\n"
     ]
    }
   ],
   "source": [
    "print('Sum:', np.sum(temp_array))\n",
    "print('Mean:', np.mean(temp_array))\n",
    "print('Standard Deviation :', np.std(temp_array))\n",
    "print('Variance :', np.var(temp_array))"
   ]
  },
  {
   "cell_type": "markdown",
   "metadata": {},
   "source": [
    "Basically any math function you can think of, `numpy` will have it.\n"
   ]
  },
  {
   "cell_type": "markdown",
   "metadata": {},
   "source": [
    "# Indexing++ - Slicing\n",
    "\n",
    "Numpy arrays work almost identially to lists. One thing that both numpy and lists lets us do is called slicing, and is very important to understand. So make sure that this concept is familiar to you.\n",
    "\n",
    "Suppose we had a list (or array) and we wanted to select multiple from the start to the stop. We do this as\n",
    "\n",
    "```\n",
    "temp_list[start : stop]\n",
    "```\n",
    "\n",
    "So it is very simple, instead of giving the index you want to give it the start index followed by `:`, then the end index."
   ]
  },
  {
   "cell_type": "code",
   "execution_count": 4,
   "metadata": {},
   "outputs": [],
   "source": [
    "import numpy as np"
   ]
  },
  {
   "cell_type": "code",
   "execution_count": 5,
   "metadata": {},
   "outputs": [
    {
     "name": "stdout",
     "output_type": "stream",
     "text": [
      "temp_list[0:3] = [10, -1, 4]\n",
      "temp_array[0:3] = [10 -1  4]\n"
     ]
    }
   ],
   "source": [
    "temp_list = [10, -1, 4, 7, 9, 2]\n",
    "temp_array = np.array(temp_list)\n",
    "\n",
    "print(\"temp_list[0:3] =\", temp_list[0:3])\n",
    "print(\"temp_array[0:3] =\", temp_array[0:3])"
   ]
  },
  {
   "cell_type": "markdown",
   "metadata": {},
   "source": [
    "Notice, importantly, it doesn't actually end at the 3rd index (when you start counting from 0). It ends at the index right before 3, so 2."
   ]
  },
  {
   "cell_type": "code",
   "execution_count": 6,
   "metadata": {},
   "outputs": [
    {
     "name": "stdout",
     "output_type": "stream",
     "text": [
      "temp_list[2:4] = [4, 7]\n",
      "temp_array[2:4] = [4 7]\n"
     ]
    }
   ],
   "source": [
    "temp_list = [10, -1, 4, 7, 9, 2]\n",
    "temp_array = np.array(temp_list)\n",
    "\n",
    "print(\"temp_list[2:4] =\", temp_list[2:4])\n",
    "print(\"temp_array[2:4] =\", temp_array[2:4])"
   ]
  },
  {
   "cell_type": "code",
   "execution_count": 7,
   "metadata": {},
   "outputs": [
    {
     "name": "stdout",
     "output_type": "stream",
     "text": [
      "temp_list[:3] = [10, -1, 4]\n",
      "temp_array[:3] = [10 -1  4]\n"
     ]
    }
   ],
   "source": [
    "# If you don't give it a starting position, then it will start at the beginning of the list\n",
    "\n",
    "temp_list = [10, -1, 4, 7, 9, 2]\n",
    "temp_array = np.array(temp_list)\n",
    "\n",
    "print(\"temp_list[:3] =\", temp_list[:3])\n",
    "print(\"temp_array[:3] =\", temp_array[:3])"
   ]
  },
  {
   "cell_type": "code",
   "execution_count": 8,
   "metadata": {},
   "outputs": [
    {
     "name": "stdout",
     "output_type": "stream",
     "text": [
      "temp_list[3:] = [7, 9, 2]\n",
      "temp_array[3:] = [7 9 2]\n"
     ]
    }
   ],
   "source": [
    "# If you don't give it a ending position, then it will stop at the end of the list\n",
    "\n",
    "temp_list = [10, -1, 4, 7, 9, 2]\n",
    "temp_array = np.array(temp_list)\n",
    "\n",
    "print(\"temp_list[3:] =\", temp_list[3:])\n",
    "print(\"temp_array[3:] =\", temp_array[3:])"
   ]
  },
  {
   "cell_type": "code",
   "execution_count": 10,
   "metadata": {},
   "outputs": [
    {
     "name": "stdout",
     "output_type": "stream",
     "text": [
      "temp_list[-3:] = [7, 9, 2]\n",
      "temp_array[-3:] = [7 9 2]\n"
     ]
    }
   ],
   "source": [
    "# Note that this also works with negative indexing\n",
    "\n",
    "temp_list = [10, -1, 4, 7, 9, 2]\n",
    "temp_array = np.array(temp_list)\n",
    "\n",
    "print(\"temp_list[-3:] =\", temp_list[-3:])\n",
    "print(\"temp_array[-3:] =\", temp_array[-3:])"
   ]
  },
  {
   "cell_type": "code",
   "execution_count": 11,
   "metadata": {},
   "outputs": [
    {
     "name": "stdout",
     "output_type": "stream",
     "text": [
      "temp_list[:-2] = [10, -1, 4, 7]\n",
      "temp_array[:-2] = [10 -1  4  7]\n"
     ]
    }
   ],
   "source": [
    "# Notice here that you don't end at the -2 index, but right before -2\n",
    "\n",
    "temp_list = [10, -1, 4, 7, 9, 2]\n",
    "temp_array = np.array(temp_list)\n",
    "\n",
    "print(\"temp_list[:-2] =\", temp_list[:-2])\n",
    "print(\"temp_array[:-2] =\", temp_array[:-2])"
   ]
  },
  {
   "cell_type": "markdown",
   "metadata": {},
   "source": [
    "# Questions\n",
    "\n",
    "1. Suppose I had a list `temp_list = [10, -1, 4, 7, 9, 2]`. Recall, indexing works as `temp_list[start:stop]` meaning it will begin at start, and end right before stop. So what does `temp_list[3:3]` do? Check for yourself to see if you got this correct.\n",
    "\n",
    "2. Suppose you had a list/array named `list1`, and you wanted to get all numbers starting from the 0th number and ending right before the last number. Meaning that if `list1 = [0, 1, 2, 3, 4]`, you would want to return `[0, 1, 2, 3]`.\n",
    "\n",
    "    How would you do this (1) using negative indexing, and (2) using only positive indexices? (Hint, need to use `len`.)\n",
    "    \n",
    "3. A common thing when working with timeseries (and image convolutions) is that you want to work with windowed data. Meaning that instead of looking at the full array (or data) you want to look at specific chucks of the dataset.\n",
    "\n",
    "    In particular, suppose I had a dataset of length `n` and I was working with window length `window_length`. Instead of looking at the full `n` datapoints I first want\n",
    "    \n",
    "    1. Datapoints from 0 to `window_length - 1`, note that this has a length of `window_length`. Then I want\n",
    "    2. Datapoints from 1 to `window_length`. Then I want\n",
    "    3. Datapoints from 2 to `window_length + 2`. Then I want\n",
    "    4. ...\n",
    "    \n",
    "    How would you do this using a for loop?\n",
    "    \n",
    "### Advanced Questions\n",
    "1. Try to do Q3 using `as_strided`. See the below link for a helpful understanding of `as_strided` \n",
    "\n",
    "    https://towardsdatascience.com/advanced-numpy-master-stride-tricks-with-25-illustrated-exercises-923a9393ab20\n",
    "    \n",
    "    If they make you sign in, then just open the link in incognito-mode\n",
    "   \n",
    "   While the advanced questions are very difficult, I do expect this to be more difficult than the rest. This uses advanced NumPy techniques that you will never need."
   ]
  },
  {
   "cell_type": "markdown",
   "metadata": {},
   "source": [
    "\n",
    "### `np.arange` and `np.linspace`\n",
    "`arange` and `linspace` isn't very useful for us right now, but will be later on. But both functions give you a list of numbers between a `start` number and an `stop` number. The 'signuature' for both functions are as follows\n",
    "\n",
    "\n",
    "```\n",
    "np.arange(start, stop, step_size=1):\n",
    "    Return evenly spaced values within a given interval.\n",
    "\n",
    "    Values are generated within the half-open interval [start, stop) (in other\n",
    "    words, the interval including start but excluding stop). \n",
    "\n",
    "    Parameters\n",
    "    ----------\n",
    "        start : integer or real, optional\n",
    "            Start of interval. The interval includes this value. The default start value is 0.\n",
    "\n",
    "        stop : integer or real\n",
    "            End of interval. The interval does not include this value.\n",
    "\n",
    "        step_size : integer or real, optional\n",
    "            Spacing between values.\n",
    "\n",
    "\n",
    "np.linspace(start, stop, num=50):\n",
    "    Return evenly spaced numbers over a specified interval.\n",
    "\n",
    "    Returns num evenly spaced samples, calculated over the interval `[start, stop]`.\n",
    "\n",
    "    Parameters\n",
    "    ----------\n",
    "        start : integer or real, optional\n",
    "            Start of interval. The interval includes this value. The default start value is 0.\n",
    "\n",
    "        stop : integer or real\n",
    "            End of interval. The interval does include this value.\n",
    "\n",
    "        num : int, optinal\n",
    "            Number of samples to generate. Default is 50. Must be non-negative\n",
    "```\n",
    "\n",
    "So you can see that there are 2 main differences between `np.arange` and `np.linspace`. The first is that `linspace` includes the end point, but `arange` does not. The second is that in `arange` you need to say the spacing, while `linspace` you need to say the  "
   ]
  },
  {
   "cell_type": "code",
   "execution_count": 8,
   "metadata": {},
   "outputs": [
    {
     "data": {
      "text/plain": [
       "array([0.        , 0.02040816, 0.04081633, 0.06122449, 0.08163265,\n",
       "       0.10204082, 0.12244898, 0.14285714, 0.16326531, 0.18367347,\n",
       "       0.20408163, 0.2244898 , 0.24489796, 0.26530612, 0.28571429,\n",
       "       0.30612245, 0.32653061, 0.34693878, 0.36734694, 0.3877551 ,\n",
       "       0.40816327, 0.42857143, 0.44897959, 0.46938776, 0.48979592,\n",
       "       0.51020408, 0.53061224, 0.55102041, 0.57142857, 0.59183673,\n",
       "       0.6122449 , 0.63265306, 0.65306122, 0.67346939, 0.69387755,\n",
       "       0.71428571, 0.73469388, 0.75510204, 0.7755102 , 0.79591837,\n",
       "       0.81632653, 0.83673469, 0.85714286, 0.87755102, 0.89795918,\n",
       "       0.91836735, 0.93877551, 0.95918367, 0.97959184, 1.        ])"
      ]
     },
     "execution_count": 8,
     "metadata": {},
     "output_type": "execute_result"
    }
   ],
   "source": [
    "np.linspace(0, 1)"
   ]
  },
  {
   "cell_type": "code",
   "execution_count": 10,
   "metadata": {},
   "outputs": [
    {
     "data": {
      "text/plain": [
       "array([0. , 0.1, 0.2, 0.3, 0.4, 0.5, 0.6, 0.7, 0.8, 0.9])"
      ]
     },
     "execution_count": 10,
     "metadata": {},
     "output_type": "execute_result"
    }
   ],
   "source": [
    "np.arange(0, 1, 0.1)"
   ]
  },
  {
   "cell_type": "markdown",
   "metadata": {},
   "source": [
    "# Why Numpy - Very Advanced\n",
    "A natural question to ask is why use `numpy`, since we can do everything that `numpy` does with simple python code.\n",
    "\n",
    "In particular, if you wanted to multiply every number in a list by 2, in `numpy` this is written as `x * 2`, but using list comprehension (python) you needed to write this as `[y * 2 for y in x]`.\n",
    "\n",
    "Of course, just comparing the two code you can see that the code written using `numpy` is much simpler to read and write. But there is another important reason, and it is speed! In particular let us compare how long it takes `numpy` to multiply every number in the list by 2 vs. normal python."
   ]
  },
  {
   "cell_type": "code",
   "execution_count": 11,
   "metadata": {},
   "outputs": [],
   "source": [
    "import numpy as np\n",
    "import time\n",
    "\n",
    "def time_list_comprehension(x):\n",
    "    \"\"\" Return the time take to multiple every element in a list by 2 using \n",
    "        list comprehension (Pure Python)\n",
    "    \"\"\"\n",
    "    start = time.time()\n",
    "    out = [y * 2 for y in x]\n",
    "    end = time.time()\n",
    "    return end - start\n",
    "\n",
    "def time_numpy(x):\n",
    "    \"\"\" Return the time taken to multiple every element in a np.ndarray using\n",
    "        Numpy\n",
    "    \"\"\"\n",
    "    start = time.time()\n",
    "    out = x * 2\n",
    "    end = time.time()\n",
    "    return end - start"
   ]
  },
  {
   "cell_type": "code",
   "execution_count": 12,
   "metadata": {},
   "outputs": [],
   "source": [
    "list_comprehension_times = []\n",
    "numpy_times = []\n",
    "\n",
    "trials = 5\n",
    "array_lengths = np.linspace(10, 10**4, 100)\n",
    "for n in array_lengths:\n",
    "    x = np.random.rand(int(n))\n",
    "\n",
    "    list_comprehension_times.append(np.mean([time_list_comprehension(x) for _ in range(trials)]))\n",
    "    numpy_times.append(np.mean([time_numpy(x) for _ in range(trials)]))"
   ]
  },
  {
   "cell_type": "code",
   "execution_count": 13,
   "metadata": {},
   "outputs": [
    {
     "data": {
      "image/png": "[encoded data removed]",
      "text/plain": [
       "<Figure size 720x360 with 1 Axes>"
      ]
     },
     "metadata": {
      "needs_background": "light"
     },
     "output_type": "display_data"
    }
   ],
   "source": [
    "import matplotlib.pyplot as plt\n",
    "\n",
    "plt.figure(figsize=(10, 5))\n",
    "plt.plot(array_lengths, list_comprehension_times, label='list comprehension')\n",
    "plt.plot(array_lengths, numpy_times, label='numpy')\n",
    "\n",
    "plt.ylabel('Time Taken')\n",
    "plt.xlabel('Length of Array')\n",
    "\n",
    "plt.legend();"
   ]
  },
  {
   "cell_type": "markdown",
   "metadata": {},
   "source": [
    "Clearly, using `numpy` is much faster than using normal python, and will continue to be better as you use larger and larger array sizes. This is really why data scientists, and computer scientists, love to use `numpy` because it is just so quick and also easy to use (which is a hard combo to find).\n",
    "\n",
    "As to the reason why `numpy` is so much faster, it all comes to down to how Python is actually implemented. \n",
    "\n",
    "Something is considered to be written in 'Pure Python' if it is ONLY written in Python code. But Python is amazing because you can actually write code in C/C++ and have them actually run in Python! While this increases the complexity of the code, it makes it run much much faster. (This is because the code is no longer being ran in Python, but actually in C.)\n",
    "\n",
    "Numpy is a library that makes use of this integration of Python with C, thus allowing Numpy to run much faster. \n",
    "\n",
    "With our example where you multiple elements in a list by 2, using list comprehension `[y * 2 for y in x]` the for loop is being ran in Python. While using Numpy, a for loop is still being ran. But the loop is being ran in C, hence making it much much faster.\n",
    "\n",
    "### Note - Premature Optimization\n",
    "While Numpy is much faster than using Pure Python, it doesn't mean you should always use Numpy if you can just use normal Python. The reason comes down to premature optimization.\n",
    "\n",
    "Premature optimization is spending a lot of time on something that you may not actually need. “Premature optimization is the root of all evil” is a famous saying among software developers.\n",
    "    - [Matt Watson](https://stackify.com/premature-optimization-evil/#:~:text=What%20is%20premature%20optimization%3F,is%20credited%20to%20Donald%20Knuth.)\n",
    "\n",
    "So when it comes to using Numpy vs Python, really you should just use which is most comfortable to you. If you think writing it in Numpy is easier, then use Numpy. But if you think writing it in Python is easier, then use Python.\n",
    "\n",
    "Trust me, Numpy can get difficult very quickly (broadcasting, einsum, axis, contiguous arrays, etc.)."
   ]
  },
  {
   "cell_type": "markdown",
   "metadata": {},
   "source": [
    "# Questions\n",
    "\n",
    "Q1 : Variance is defined as\n",
    "$$\\sigma^2 = \\frac{1}{N}\\sum_{i=1}^N(x_i - \\mu)^2$$\n",
    "where $\\mu = \\frac{1}{N}\\sum_{i=1}^Nx_i$. This is known as the 2-pass algorithm for variance. \n",
    "\n",
    "Then given a random vector `x = np.random.rand(10000)`. Using `numpy` how would you compute the variance using the 2-pass formula.\n",
    "\n",
    "====================================================================================================\n",
    "\n",
    "Q2 : It can be shown using basic algebra that you can rewrite variance as\n",
    "$$\\sigma^2 = \\left(\\frac{1}{N}\\sum_{i=1}^Nx_i^2\\right) - \\mu^2=\\left(\\frac{1}{N}\\sum_{i=1}^Nx_i^2\\right) - \\left(\\frac{1}{N}\\sum_{i=1}^{N}x_i\\right)^2$$\n",
    "This is known as the one-pass algorithm for variance, and is typically shown in statistics textbooks. \n",
    "\n",
    "Then given a random vector `x = np.random.rand(10000)`, how would you compute the variance using the 1-pass formula.\n",
    "\n",
    "====================================================================================================\n",
    "\n",
    "Q3 : Due to very, very technical reasons, the 1-pass and 2-pass formulas above are not always accurate. One way to make the variance more accurate is called the corrected 2-pass algorithm, defined as below\n",
    "$$\\sigma^2 = \\frac{1}{N}\\left[\\sum_{i=1}^N(x_i - \\mu)^2 - \\frac{1}{N}\\left(\\sum_{i=0}^N(x_i-\\mu)\\right)^2\\right]$$\n",
    "How would you then compute the corrected 2-pass algorithm on the random vector `x`.\n",
    "\n",
    "====================================================================================================\n",
    "\n",
    "Q4 : I have given 3 different algorithms to compute the same thing, the variance. I claim that the corrected 2-pass algorithm is more accurate than the 1-pass and 2-pass algorithm. \n",
    "\n",
    "But with the computed values from the 1-pass, 2-pass, and corrected 2-pass, do you see much of a difference? (You shouldn't see one.) \n",
    "\n",
    "====================================================================================================\n",
    "\n",
    "Q5 : One property of variance is that it is invariant to shifts in the data, meaning that it stays the same when add a number to every point in the dataset. In particular\n",
    "$$\\textrm{Var}(x + k) = \\textrm{Var}(x)$$\n",
    "for any value of $k$. Let `x = np.random.rand(10000)`. \n",
    "\n",
    "Convince to yourself that this is true in python by computing the variance of `x` and then `x + k` where `k = ` any value you like.\n",
    "\n",
    "====================================================================================================\n",
    "\n",
    "Q6 : One function that we will encounter in this course is known as the logistic function. The logistic function is defined as\n",
    "$$f(x) = \\frac{1}{1 + e^{-x}}$$\n",
    "Then, given a vector `x = np.random.rand(100) - 0.5`, how would you write the logistic function?\n",
    "\n",
    "===================================================================================================="
   ]
  },
  {
   "cell_type": "markdown",
   "metadata": {},
   "source": [
    "### Advanced Questions - Numerical Analysis and Stability\n",
    "Q A1 : Use the definition of variance\n",
    "$$\\textrm{Var}(x) = \\mathbb{E}[x^2] + \\mathbb{E}[x]^2$$\n",
    "to prove that $\\textrm{Var}(x + k) = \\textrm{Var}(x)$.\n",
    "\n",
    "Hint: You will need to use the fact that if $x$ and $y$ are independent variables, then $\\mathbb{E}[x + y] = \\mathbb{E}[x] + \\mathbb{E}[y]$, and if $k$ is a constant then $\\mathbb{E}[kx]=k\\mathbb{E}[x]$.\n",
    "\n",
    "Q A2 : As explained above, the variance is invariant.\n",
    "$$\\textrm{Var}(x + k) = \\textrm{Var}(x)$$\n",
    "for any value of $k$.\n",
    "\n",
    "Define 3 functions in Python, `one_pass_variance, two_pass_variance, corrected_two_pass_variance` which computes the variance in their respective ways. Once you have written these function, the following code will compute $\\textrm{Var}(x + k)$ for $k=10^7, 10^8, \\cdots, 10^{14}$.\n",
    "\n",
    "Remember, variance is invariant to shifts in $x$, as such $\\textrm{Var}(x + k)$ should be the same NO MATTER the value of $k$. But, when you run the following code, do you see anything interesting?\n",
    "\n",
    "```\n",
    "x = np.random.rand(10000)\n",
    "for i in range(7, 15):\n",
    "    k = 10 ** i\n",
    "    print(f\"k = {k}\")\n",
    "    print('One Pass          :', one_pass_variance(x + k))\n",
    "    print('Two Pass          :', two_pass_variance(x + k))\n",
    "    print('Corrected Two Pass:', corrected_two_pass_variance(x + k))\n",
    "    print('-' * 40)\n",
    "```\n",
    "To put it short, yes you should see something interesting. In fact, sometimes you will get that the computed variance is negative, which is mathematically impossible! Variance is always positive.\n",
    "\n",
    "Given the 3 formulas, which one is the worst?\n",
    "\n",
    "====================================================================================================\n",
    "\n",
    "Q A3 (Very advanced, outside the scope of this course) : It is well known that the logistic function can be unstable very quickly. In particular, given that `sigmoid` is the sigmoid function (as defined in Q5), the following code should give you an overflow warning\n",
    "\n",
    "```\n",
    "def sigmoid(x):\n",
    "    # To complete yourself\n",
    "    ...\n",
    "\n",
    "x = (np.random.rand(100) - 0.5) * 5000\n",
    "sigmoid(x)\n",
    "```\n",
    "\n",
    "To fix this we actually write the sigmoid in terms of two functions\n",
    "\n",
    "$$f(x) = \\begin{cases}\n",
    "\\cfrac{1}{1 + e^{-x}}\\quad &\\textrm{if x > 0,}\\\\\n",
    "\\cfrac{e^x}{1 + e^{x}}\\quad &\\textrm{Otherwise}\n",
    "\\end{cases}$$\n",
    "\n",
    "How would you write this?\n",
    "\n",
    "====================================================================================================\n",
    "\n",
    "Q A4 (Very advanced, outside the scope of this course) : An overflow warning indicates that the numbers are too large for a computer to store. Why, then, does the A1 no longer given this error.\n",
    "\n",
    "Hint, the naive sigmoid in Q6 is fine when $x$ is positive. But has issues only when $x < -1000$, that is when $x$ has large negative values.\n",
    "\n",
    "===================================================================================================="
   ]
  },
  {
   "cell_type": "code",
   "execution_count": 14,
   "metadata": {},
   "outputs": [],
   "source": [
    "import numpy as np\n",
    "\n",
    "def one_pass_variance(x):\n",
    "    summand_1 = np.mean(x ** 2)\n",
    "    summand_2 = (np.mean(x)) ** 2\n",
    "    return summand_1 - summand_2\n",
    "\n",
    "def two_pass_variance(x):\n",
    "    mu = np.mean(x)\n",
    "    return np.mean((x - mu) ** 2)\n",
    "\n",
    "def corrected_two_pass_variance(x):\n",
    "    mu = np.mean(x)\n",
    "\n",
    "    N = len(x)\n",
    "    correction_factor = (np.sum(x - mu) ** 2) / N\n",
    "    return np.mean((x - mu) ** 2 - correction_factor)"
   ]
  },
  {
   "cell_type": "code",
   "execution_count": 15,
   "metadata": {},
   "outputs": [
    {
     "name": "stdout",
     "output_type": "stream",
     "text": [
      "True Variance     : 0.0834270932536627\n",
      "----------------------------------------\n",
      "k = 10000000\n",
      "One Pass          : 0.09375\n",
      "Two Pass          : 0.08342709325612502\n",
      "Corrected Two Pass: 0.08342709325611525\n",
      "----------------------------------------\n",
      "k = 100000000\n",
      "One Pass          : -2.0\n",
      "Two Pass          : 0.0834270932581275\n",
      "Corrected Two Pass: 0.08342709325769784\n",
      "----------------------------------------\n",
      "k = 1000000000\n",
      "One Pass          : -128.0\n",
      "Two Pass          : 0.08342709318792686\n",
      "Corrected Two Pass: 0.08342709317493165\n",
      "----------------------------------------\n",
      "k = 10000000000\n",
      "One Pass          : 32768.0\n",
      "Two Pass          : 0.08342709614594024\n",
      "Corrected Two Pass: 0.08342707333197104\n",
      "----------------------------------------\n",
      "k = 100000000000\n",
      "One Pass          : -2097152.0\n",
      "Two Pass          : 0.08342710038912482\n",
      "Corrected Two Pass: 0.08342610453520902\n",
      "----------------------------------------\n",
      "k = 1000000000000\n",
      "One Pass          : 134217728.0\n",
      "Two Pass          : 0.08342690173238516\n",
      "Corrected Two Pass: 0.08340112677514554\n",
      "----------------------------------------\n",
      "k = 10000000000000\n",
      "One Pass          : 17179869184.0\n",
      "Two Pass          : 0.08342790718078613\n",
      "Corrected Two Pass: 0.08336898956298827\n",
      "----------------------------------------\n",
      "k = 100000000000000\n",
      "One Pass          : 0.0\n",
      "Two Pass          : 0.083437255859375\n",
      "Corrected Two Pass: 0.049558251953125\n",
      "----------------------------------------\n"
     ]
    }
   ],
   "source": [
    "x = np.random.rand(10000)\n",
    "print('True Variance     :', np.var(x))\n",
    "print('-' * 40)\n",
    "for i in range(7, 15):\n",
    "    k = 10 ** i\n",
    "    print(f\"k = {k}\")\n",
    "    print('One Pass          :', one_pass_variance(x + k))\n",
    "    print('Two Pass          :', two_pass_variance(x + k))\n",
    "    print('Corrected Two Pass:', corrected_two_pass_variance(x + k))\n",
    "    print('-' * 40)"
   ]
  },
  {
   "cell_type": "code",
   "execution_count": null,
   "metadata": {},
   "outputs": [],
   "source": []
  }
 ],
 "metadata": {
  "kernelspec": {
   "display_name": "Python 3",
   "language": "python",
   "name": "python3"
  },
  "language_info": {
   "codemirror_mode": {
    "name": "ipython",
    "version": 3
   },
   "file_extension": ".py",
   "mimetype": "text/x-python",
   "name": "python",
   "nbconvert_exporter": "python",
   "pygments_lexer": "ipython3",
   "version": "3.7.6"
  }
 },
 "nbformat": 4,
 "nbformat_minor": 4
}
