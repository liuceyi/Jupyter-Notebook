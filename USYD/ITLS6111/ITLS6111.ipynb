{
 "cells": [
  {
   "cell_type": "markdown",
   "metadata": {},
   "source": [
    "# NSW Sales Process"
   ]
  },
  {
   "cell_type": "code",
   "execution_count": 1,
   "metadata": {},
   "outputs": [],
   "source": [
    "import pandas as pd"
   ]
  },
  {
   "cell_type": "code",
   "execution_count": 2,
   "metadata": {},
   "outputs": [
    {
     "data": {
      "text/html": [
       "<div>\n",
       "<style scoped>\n",
       "    .dataframe tbody tr th:only-of-type {\n",
       "        vertical-align: middle;\n",
       "    }\n",
       "\n",
       "    .dataframe tbody tr th {\n",
       "        vertical-align: top;\n",
       "    }\n",
       "\n",
       "    .dataframe thead th {\n",
       "        text-align: right;\n",
       "    }\n",
       "</style>\n",
       "<table border=\"1\" class=\"dataframe\">\n",
       "  <thead>\n",
       "    <tr style=\"text-align: right;\">\n",
       "      <th></th>\n",
       "      <th>weekenddt</th>\n",
       "      <th>shopnum</th>\n",
       "      <th>shoppostcode</th>\n",
       "      <th>qtyinshop</th>\n",
       "      <th>qtyonorder</th>\n",
       "      <th>qtysold</th>\n",
       "      <th>weekenddtYMD</th>\n",
       "      <th>producttype</th>\n",
       "      <th>supplierid</th>\n",
       "      <th>gtin</th>\n",
       "      <th>lonadj</th>\n",
       "      <th>latadj</th>\n",
       "      <th>shopgln</th>\n",
       "    </tr>\n",
       "  </thead>\n",
       "  <tbody>\n",
       "    <tr>\n",
       "      <th>0</th>\n",
       "      <td>26/01/2019</td>\n",
       "      <td>17</td>\n",
       "      <td>2640.0</td>\n",
       "      <td>2</td>\n",
       "      <td>0</td>\n",
       "      <td>0</td>\n",
       "      <td>2019-01-26</td>\n",
       "      <td>Educational Toys</td>\n",
       "      <td>1</td>\n",
       "      <td>9351635000011</td>\n",
       "      <td>146.913642</td>\n",
       "      <td>-36.074029</td>\n",
       "      <td>9351635099978</td>\n",
       "    </tr>\n",
       "    <tr>\n",
       "      <th>1</th>\n",
       "      <td>26/01/2019</td>\n",
       "      <td>17</td>\n",
       "      <td>2640.0</td>\n",
       "      <td>3</td>\n",
       "      <td>0</td>\n",
       "      <td>0</td>\n",
       "      <td>2019-01-26</td>\n",
       "      <td>Educational Toys</td>\n",
       "      <td>1</td>\n",
       "      <td>9351635000073</td>\n",
       "      <td>146.913642</td>\n",
       "      <td>-36.074029</td>\n",
       "      <td>9351635099978</td>\n",
       "    </tr>\n",
       "    <tr>\n",
       "      <th>2</th>\n",
       "      <td>26/01/2019</td>\n",
       "      <td>17</td>\n",
       "      <td>2640.0</td>\n",
       "      <td>3</td>\n",
       "      <td>0</td>\n",
       "      <td>0</td>\n",
       "      <td>2019-01-26</td>\n",
       "      <td>Educational Toys</td>\n",
       "      <td>1</td>\n",
       "      <td>9351635000080</td>\n",
       "      <td>146.913642</td>\n",
       "      <td>-36.074029</td>\n",
       "      <td>9351635099978</td>\n",
       "    </tr>\n",
       "    <tr>\n",
       "      <th>3</th>\n",
       "      <td>26/01/2019</td>\n",
       "      <td>17</td>\n",
       "      <td>2640.0</td>\n",
       "      <td>2</td>\n",
       "      <td>6</td>\n",
       "      <td>0</td>\n",
       "      <td>2019-01-26</td>\n",
       "      <td>Educational Toys</td>\n",
       "      <td>1</td>\n",
       "      <td>9351635000110</td>\n",
       "      <td>146.913642</td>\n",
       "      <td>-36.074029</td>\n",
       "      <td>9351635099978</td>\n",
       "    </tr>\n",
       "    <tr>\n",
       "      <th>4</th>\n",
       "      <td>26/01/2019</td>\n",
       "      <td>17</td>\n",
       "      <td>2640.0</td>\n",
       "      <td>7</td>\n",
       "      <td>0</td>\n",
       "      <td>0</td>\n",
       "      <td>2019-01-26</td>\n",
       "      <td>Educational Toys</td>\n",
       "      <td>1</td>\n",
       "      <td>9351635000134</td>\n",
       "      <td>146.913642</td>\n",
       "      <td>-36.074029</td>\n",
       "      <td>9351635099978</td>\n",
       "    </tr>\n",
       "    <tr>\n",
       "      <th>...</th>\n",
       "      <td>...</td>\n",
       "      <td>...</td>\n",
       "      <td>...</td>\n",
       "      <td>...</td>\n",
       "      <td>...</td>\n",
       "      <td>...</td>\n",
       "      <td>...</td>\n",
       "      <td>...</td>\n",
       "      <td>...</td>\n",
       "      <td>...</td>\n",
       "      <td>...</td>\n",
       "      <td>...</td>\n",
       "      <td>...</td>\n",
       "    </tr>\n",
       "    <tr>\n",
       "      <th>541181</th>\n",
       "      <td>18/01/2020</td>\n",
       "      <td>384</td>\n",
       "      <td>2154.0</td>\n",
       "      <td>5</td>\n",
       "      <td>0</td>\n",
       "      <td>0</td>\n",
       "      <td>2020-01-18</td>\n",
       "      <td>Home decorations</td>\n",
       "      <td>5</td>\n",
       "      <td>9351635015619</td>\n",
       "      <td>151.006386</td>\n",
       "      <td>-33.729960</td>\n",
       "      <td>9351635099701</td>\n",
       "    </tr>\n",
       "    <tr>\n",
       "      <th>541182</th>\n",
       "      <td>18/01/2020</td>\n",
       "      <td>384</td>\n",
       "      <td>2154.0</td>\n",
       "      <td>4</td>\n",
       "      <td>0</td>\n",
       "      <td>0</td>\n",
       "      <td>2020-01-18</td>\n",
       "      <td>Home decorations</td>\n",
       "      <td>5</td>\n",
       "      <td>9351635015626</td>\n",
       "      <td>151.006386</td>\n",
       "      <td>-33.729960</td>\n",
       "      <td>9351635099701</td>\n",
       "    </tr>\n",
       "    <tr>\n",
       "      <th>541183</th>\n",
       "      <td>18/01/2020</td>\n",
       "      <td>384</td>\n",
       "      <td>2154.0</td>\n",
       "      <td>2</td>\n",
       "      <td>6</td>\n",
       "      <td>0</td>\n",
       "      <td>2020-01-18</td>\n",
       "      <td>Home decorations</td>\n",
       "      <td>5</td>\n",
       "      <td>9351635015633</td>\n",
       "      <td>151.006386</td>\n",
       "      <td>-33.729960</td>\n",
       "      <td>9351635099701</td>\n",
       "    </tr>\n",
       "    <tr>\n",
       "      <th>541184</th>\n",
       "      <td>18/01/2020</td>\n",
       "      <td>384</td>\n",
       "      <td>2154.0</td>\n",
       "      <td>5</td>\n",
       "      <td>0</td>\n",
       "      <td>0</td>\n",
       "      <td>2020-01-18</td>\n",
       "      <td>Home decorations</td>\n",
       "      <td>5</td>\n",
       "      <td>9351635015640</td>\n",
       "      <td>151.006386</td>\n",
       "      <td>-33.729960</td>\n",
       "      <td>9351635099701</td>\n",
       "    </tr>\n",
       "    <tr>\n",
       "      <th>541185</th>\n",
       "      <td>18/01/2020</td>\n",
       "      <td>384</td>\n",
       "      <td>2154.0</td>\n",
       "      <td>3</td>\n",
       "      <td>0</td>\n",
       "      <td>0</td>\n",
       "      <td>2020-01-18</td>\n",
       "      <td>Home decorations</td>\n",
       "      <td>5</td>\n",
       "      <td>9351635015657</td>\n",
       "      <td>151.006386</td>\n",
       "      <td>-33.729960</td>\n",
       "      <td>9351635099701</td>\n",
       "    </tr>\n",
       "  </tbody>\n",
       "</table>\n",
       "<p>541186 rows × 13 columns</p>\n",
       "</div>"
      ],
      "text/plain": [
       "         weekenddt  shopnum  shoppostcode  qtyinshop  qtyonorder  qtysold  \\\n",
       "0       26/01/2019       17        2640.0          2           0        0   \n",
       "1       26/01/2019       17        2640.0          3           0        0   \n",
       "2       26/01/2019       17        2640.0          3           0        0   \n",
       "3       26/01/2019       17        2640.0          2           6        0   \n",
       "4       26/01/2019       17        2640.0          7           0        0   \n",
       "...            ...      ...           ...        ...         ...      ...   \n",
       "541181  18/01/2020      384        2154.0          5           0        0   \n",
       "541182  18/01/2020      384        2154.0          4           0        0   \n",
       "541183  18/01/2020      384        2154.0          2           6        0   \n",
       "541184  18/01/2020      384        2154.0          5           0        0   \n",
       "541185  18/01/2020      384        2154.0          3           0        0   \n",
       "\n",
       "       weekenddtYMD       producttype  supplierid           gtin      lonadj  \\\n",
       "0        2019-01-26  Educational Toys           1  9351635000011  146.913642   \n",
       "1        2019-01-26  Educational Toys           1  9351635000073  146.913642   \n",
       "2        2019-01-26  Educational Toys           1  9351635000080  146.913642   \n",
       "3        2019-01-26  Educational Toys           1  9351635000110  146.913642   \n",
       "4        2019-01-26  Educational Toys           1  9351635000134  146.913642   \n",
       "...             ...               ...         ...            ...         ...   \n",
       "541181   2020-01-18  Home decorations           5  9351635015619  151.006386   \n",
       "541182   2020-01-18  Home decorations           5  9351635015626  151.006386   \n",
       "541183   2020-01-18  Home decorations           5  9351635015633  151.006386   \n",
       "541184   2020-01-18  Home decorations           5  9351635015640  151.006386   \n",
       "541185   2020-01-18  Home decorations           5  9351635015657  151.006386   \n",
       "\n",
       "           latadj        shopgln  \n",
       "0      -36.074029  9351635099978  \n",
       "1      -36.074029  9351635099978  \n",
       "2      -36.074029  9351635099978  \n",
       "3      -36.074029  9351635099978  \n",
       "4      -36.074029  9351635099978  \n",
       "...           ...            ...  \n",
       "541181 -33.729960  9351635099701  \n",
       "541182 -33.729960  9351635099701  \n",
       "541183 -33.729960  9351635099701  \n",
       "541184 -33.729960  9351635099701  \n",
       "541185 -33.729960  9351635099701  \n",
       "\n",
       "[541186 rows x 13 columns]"
      ]
     },
     "execution_count": 2,
     "metadata": {},
     "output_type": "execute_result"
    }
   ],
   "source": [
    "data = pd.read_csv('NSWsales.csv')\n",
    "data"
   ]
  },
  {
   "cell_type": "code",
   "execution_count": 9,
   "metadata": {},
   "outputs": [
    {
     "data": {
      "text/plain": [
       "0         2019-01-26\n",
       "475912    2019-02-02\n",
       "347013    2019-02-09\n",
       "84635     2019-02-16\n",
       "328512    2019-02-23\n",
       "108919    2019-03-02\n",
       "39557     2019-03-09\n",
       "173380    2019-03-16\n",
       "458262    2019-03-23\n",
       "111386    2019-03-30\n",
       "438613    2019-04-06\n",
       "310996    2019-04-13\n",
       "205730    2019-04-20\n",
       "418249    2019-04-27\n",
       "238803    2019-05-04\n",
       "373815    2019-05-11\n",
       "352989    2019-05-18\n",
       "114841    2019-05-25\n",
       "396044    2019-06-01\n",
       "267588    2019-06-08\n",
       "504836    2019-06-15\n",
       "463976    2019-06-22\n",
       "268845    2019-06-29\n",
       "505910    2019-07-06\n",
       "336440    2019-07-13\n",
       "294054    2019-07-20\n",
       "445258    2019-07-27\n",
       "119351    2019-08-03\n",
       "508181    2019-08-10\n",
       "487268    2019-08-17\n",
       "120333    2019-08-24\n",
       "509256    2019-08-31\n",
       "532732    2019-09-07\n",
       "273839    2019-09-14\n",
       "489473    2019-09-21\n",
       "534208    2019-09-28\n",
       "534588    2019-10-05\n",
       "382078    2019-10-12\n",
       "56411     2019-10-19\n",
       "164925    2019-10-26\n",
       "362557    2019-11-02\n",
       "342265    2019-11-09\n",
       "102634    2019-11-16\n",
       "254382    2019-11-23\n",
       "255181    2019-11-30\n",
       "324394    2019-12-07\n",
       "365123    2019-12-14\n",
       "453019    2019-12-21\n",
       "514721    2019-12-28\n",
       "105276    2020-01-04\n",
       "191366    2020-01-11\n",
       "386672    2020-01-18\n",
       "Name: weekenddtYMD, dtype: object"
      ]
     },
     "execution_count": 9,
     "metadata": {},
     "output_type": "execute_result"
    }
   ],
   "source": [
    "data['weekenddtYMD'].sort_values().drop_duplicates()"
   ]
  },
  {
   "cell_type": "code",
   "execution_count": 10,
   "metadata": {},
   "outputs": [
    {
     "data": {
      "text/html": [
       "<div>\n",
       "<style scoped>\n",
       "    .dataframe tbody tr th:only-of-type {\n",
       "        vertical-align: middle;\n",
       "    }\n",
       "\n",
       "    .dataframe tbody tr th {\n",
       "        vertical-align: top;\n",
       "    }\n",
       "\n",
       "    .dataframe thead th {\n",
       "        text-align: right;\n",
       "    }\n",
       "</style>\n",
       "<table border=\"1\" class=\"dataframe\">\n",
       "  <thead>\n",
       "    <tr style=\"text-align: right;\">\n",
       "      <th></th>\n",
       "      <th>shopnum</th>\n",
       "      <th>weekenddtYMD</th>\n",
       "      <th>onorder</th>\n",
       "    </tr>\n",
       "  </thead>\n",
       "  <tbody>\n",
       "    <tr>\n",
       "      <th>0</th>\n",
       "      <td>17</td>\n",
       "      <td>2019-01-26</td>\n",
       "      <td>46</td>\n",
       "    </tr>\n",
       "    <tr>\n",
       "      <th>1</th>\n",
       "      <td>17</td>\n",
       "      <td>2019-02-02</td>\n",
       "      <td>14</td>\n",
       "    </tr>\n",
       "    <tr>\n",
       "      <th>2</th>\n",
       "      <td>17</td>\n",
       "      <td>2019-02-09</td>\n",
       "      <td>40</td>\n",
       "    </tr>\n",
       "    <tr>\n",
       "      <th>3</th>\n",
       "      <td>17</td>\n",
       "      <td>2019-02-16</td>\n",
       "      <td>21</td>\n",
       "    </tr>\n",
       "    <tr>\n",
       "      <th>4</th>\n",
       "      <td>17</td>\n",
       "      <td>2019-02-23</td>\n",
       "      <td>36</td>\n",
       "    </tr>\n",
       "    <tr>\n",
       "      <th>...</th>\n",
       "      <td>...</td>\n",
       "      <td>...</td>\n",
       "      <td>...</td>\n",
       "    </tr>\n",
       "    <tr>\n",
       "      <th>1347</th>\n",
       "      <td>384</td>\n",
       "      <td>2019-12-21</td>\n",
       "      <td>30</td>\n",
       "    </tr>\n",
       "    <tr>\n",
       "      <th>1348</th>\n",
       "      <td>384</td>\n",
       "      <td>2019-12-28</td>\n",
       "      <td>18</td>\n",
       "    </tr>\n",
       "    <tr>\n",
       "      <th>1349</th>\n",
       "      <td>384</td>\n",
       "      <td>2020-01-04</td>\n",
       "      <td>0</td>\n",
       "    </tr>\n",
       "    <tr>\n",
       "      <th>1350</th>\n",
       "      <td>384</td>\n",
       "      <td>2020-01-11</td>\n",
       "      <td>174</td>\n",
       "    </tr>\n",
       "    <tr>\n",
       "      <th>1351</th>\n",
       "      <td>384</td>\n",
       "      <td>2020-01-18</td>\n",
       "      <td>60</td>\n",
       "    </tr>\n",
       "  </tbody>\n",
       "</table>\n",
       "<p>1352 rows × 3 columns</p>\n",
       "</div>"
      ],
      "text/plain": [
       "      shopnum weekenddtYMD  onorder\n",
       "0          17   2019-01-26       46\n",
       "1          17   2019-02-02       14\n",
       "2          17   2019-02-09       40\n",
       "3          17   2019-02-16       21\n",
       "4          17   2019-02-23       36\n",
       "...       ...          ...      ...\n",
       "1347      384   2019-12-21       30\n",
       "1348      384   2019-12-28       18\n",
       "1349      384   2020-01-04        0\n",
       "1350      384   2020-01-11      174\n",
       "1351      384   2020-01-18       60\n",
       "\n",
       "[1352 rows x 3 columns]"
      ]
     },
     "execution_count": 10,
     "metadata": {},
     "output_type": "execute_result"
    }
   ],
   "source": [
    "data_group = data.groupby(['shopnum', 'weekenddtYMD'])['qtyonorder'].sum().reset_index().rename(columns={'qtyonorder':'onorder'})\n",
    "data_group"
   ]
  },
  {
   "cell_type": "code",
   "execution_count": 12,
   "metadata": {},
   "outputs": [
    {
     "data": {
      "text/html": [
       "<div>\n",
       "<style scoped>\n",
       "    .dataframe tbody tr th:only-of-type {\n",
       "        vertical-align: middle;\n",
       "    }\n",
       "\n",
       "    .dataframe tbody tr th {\n",
       "        vertical-align: top;\n",
       "    }\n",
       "\n",
       "    .dataframe thead th {\n",
       "        text-align: right;\n",
       "    }\n",
       "</style>\n",
       "<table border=\"1\" class=\"dataframe\">\n",
       "  <thead>\n",
       "    <tr style=\"text-align: right;\">\n",
       "      <th></th>\n",
       "      <th>shopnum</th>\n",
       "      <th>onorder</th>\n",
       "    </tr>\n",
       "  </thead>\n",
       "  <tbody>\n",
       "    <tr>\n",
       "      <th>0</th>\n",
       "      <td>17</td>\n",
       "      <td>33.557692</td>\n",
       "    </tr>\n",
       "    <tr>\n",
       "      <th>1</th>\n",
       "      <td>46</td>\n",
       "      <td>0.000000</td>\n",
       "    </tr>\n",
       "    <tr>\n",
       "      <th>2</th>\n",
       "      <td>202</td>\n",
       "      <td>108.500000</td>\n",
       "    </tr>\n",
       "    <tr>\n",
       "      <th>3</th>\n",
       "      <td>203</td>\n",
       "      <td>109.288462</td>\n",
       "    </tr>\n",
       "    <tr>\n",
       "      <th>4</th>\n",
       "      <td>204</td>\n",
       "      <td>128.423077</td>\n",
       "    </tr>\n",
       "    <tr>\n",
       "      <th>5</th>\n",
       "      <td>207</td>\n",
       "      <td>21.038462</td>\n",
       "    </tr>\n",
       "    <tr>\n",
       "      <th>6</th>\n",
       "      <td>208</td>\n",
       "      <td>38.365385</td>\n",
       "    </tr>\n",
       "    <tr>\n",
       "      <th>7</th>\n",
       "      <td>209</td>\n",
       "      <td>81.980769</td>\n",
       "    </tr>\n",
       "    <tr>\n",
       "      <th>8</th>\n",
       "      <td>211</td>\n",
       "      <td>54.557692</td>\n",
       "    </tr>\n",
       "    <tr>\n",
       "      <th>9</th>\n",
       "      <td>212</td>\n",
       "      <td>41.250000</td>\n",
       "    </tr>\n",
       "    <tr>\n",
       "      <th>10</th>\n",
       "      <td>214</td>\n",
       "      <td>53.750000</td>\n",
       "    </tr>\n",
       "    <tr>\n",
       "      <th>11</th>\n",
       "      <td>215</td>\n",
       "      <td>67.807692</td>\n",
       "    </tr>\n",
       "    <tr>\n",
       "      <th>12</th>\n",
       "      <td>219</td>\n",
       "      <td>415.057692</td>\n",
       "    </tr>\n",
       "    <tr>\n",
       "      <th>13</th>\n",
       "      <td>220</td>\n",
       "      <td>45.807692</td>\n",
       "    </tr>\n",
       "    <tr>\n",
       "      <th>14</th>\n",
       "      <td>222</td>\n",
       "      <td>102.461538</td>\n",
       "    </tr>\n",
       "    <tr>\n",
       "      <th>15</th>\n",
       "      <td>231</td>\n",
       "      <td>76.038462</td>\n",
       "    </tr>\n",
       "    <tr>\n",
       "      <th>16</th>\n",
       "      <td>233</td>\n",
       "      <td>37.076923</td>\n",
       "    </tr>\n",
       "    <tr>\n",
       "      <th>17</th>\n",
       "      <td>234</td>\n",
       "      <td>34.038462</td>\n",
       "    </tr>\n",
       "    <tr>\n",
       "      <th>18</th>\n",
       "      <td>236</td>\n",
       "      <td>56.961538</td>\n",
       "    </tr>\n",
       "    <tr>\n",
       "      <th>19</th>\n",
       "      <td>237</td>\n",
       "      <td>73.519231</td>\n",
       "    </tr>\n",
       "    <tr>\n",
       "      <th>20</th>\n",
       "      <td>238</td>\n",
       "      <td>96.134615</td>\n",
       "    </tr>\n",
       "    <tr>\n",
       "      <th>21</th>\n",
       "      <td>246</td>\n",
       "      <td>77.461538</td>\n",
       "    </tr>\n",
       "    <tr>\n",
       "      <th>22</th>\n",
       "      <td>259</td>\n",
       "      <td>45.826923</td>\n",
       "    </tr>\n",
       "    <tr>\n",
       "      <th>23</th>\n",
       "      <td>271</td>\n",
       "      <td>73.230769</td>\n",
       "    </tr>\n",
       "    <tr>\n",
       "      <th>24</th>\n",
       "      <td>278</td>\n",
       "      <td>34.576923</td>\n",
       "    </tr>\n",
       "    <tr>\n",
       "      <th>25</th>\n",
       "      <td>384</td>\n",
       "      <td>100.769231</td>\n",
       "    </tr>\n",
       "  </tbody>\n",
       "</table>\n",
       "</div>"
      ],
      "text/plain": [
       "    shopnum     onorder\n",
       "0        17   33.557692\n",
       "1        46    0.000000\n",
       "2       202  108.500000\n",
       "3       203  109.288462\n",
       "4       204  128.423077\n",
       "5       207   21.038462\n",
       "6       208   38.365385\n",
       "7       209   81.980769\n",
       "8       211   54.557692\n",
       "9       212   41.250000\n",
       "10      214   53.750000\n",
       "11      215   67.807692\n",
       "12      219  415.057692\n",
       "13      220   45.807692\n",
       "14      222  102.461538\n",
       "15      231   76.038462\n",
       "16      233   37.076923\n",
       "17      234   34.038462\n",
       "18      236   56.961538\n",
       "19      237   73.519231\n",
       "20      238   96.134615\n",
       "21      246   77.461538\n",
       "22      259   45.826923\n",
       "23      271   73.230769\n",
       "24      278   34.576923\n",
       "25      384  100.769231"
      ]
     },
     "execution_count": 12,
     "metadata": {},
     "output_type": "execute_result"
    }
   ],
   "source": [
    "data_mean = data_group.groupby('shopnum')['onorder'].mean().reset_index().rename(columns={'qtyonorder':'onorder'})\n",
    "data_mean"
   ]
  },
  {
   "cell_type": "code",
   "execution_count": 14,
   "metadata": {},
   "outputs": [],
   "source": [
    "data_mean.to_csv('NSWsales_group.csv')"
   ]
  },
  {
   "cell_type": "markdown",
   "metadata": {},
   "source": [
    "# Min DC Selection"
   ]
  },
  {
   "cell_type": "code",
   "execution_count": 72,
   "metadata": {},
   "outputs": [],
   "source": [
    "from bs4 import BeautifulSoup"
   ]
  },
  {
   "cell_type": "code",
   "execution_count": 103,
   "metadata": {},
   "outputs": [],
   "source": [
    "def getData(plan):\n",
    "    cost_uni_dist = {'sr': 0.336, 'lr': 0.54, 'ar': 0.8785}\n",
    "    cost_uni_time = 0.5167\n",
    "    cost_vehicles = {'sr': 70000, 'lr': 90000, 'ar': 200000}\n",
    "    f = open(\"Directions/{}.html\".format(plan),\"r\",encoding=\"utf-8\")\n",
    "    f = f.read()\n",
    "    bs = BeautifulSoup(f, 'html.parser')\n",
    "    heads_html = bs.find_all('tr', id='head')\n",
    "    route_list = []\n",
    "    vehicle_type = {'Small Rigid': 'sr', 'Large Rigid': 'lr', 'Articulated': 'ar'}\n",
    "    for head_html in heads_html:\n",
    "        route = {}\n",
    "        title = head_html.find('td', attrs={\"colspan\":4}).text.strip(\"Route: \")\n",
    "        dist = int(head_html.find('td', id='length').text.strip('km'))\n",
    "        time_raw = head_html.find('td', id='time').text\n",
    "        time_list = time_raw.strip(' min').split('hr')\n",
    "        if time_list[0] != '':\n",
    "            time_hour = int(time_list[0].strip())\n",
    "        else:\n",
    "            time_hour = 0\n",
    "        if time_list[1] != '':\n",
    "            time_min = int(time_list[1].strip())\n",
    "        else:\n",
    "            time_min = 0\n",
    "        time_format = time_hour * 60 + time_min\n",
    "        route['name'] = title\n",
    "        route['dist'] = dist\n",
    "        route['time'] = time_format\n",
    "        name_raw = re.split(r'(\\D*)', route['name'], 1)\n",
    "        route['type'] = vehicle_type[name_raw[1]]\n",
    "        route['vid'] = name_raw[2]  \n",
    "        route_list.append(route)\n",
    "    data_route = pd.DataFrame(route_list)\n",
    "    def getCost(arr):\n",
    "        vtype = arr['type']\n",
    "        arr['dist_cost'] = arr['dist'] * cost_uni_dist[vtype]\n",
    "        arr['time_cost'] = arr['time'] * cost_uni_time\n",
    "        arr['vehicle_cost'] = cost_vehicles[vtype]\n",
    "        cost = arr['dist_cost'] + arr['time_cost'] + arr['vehicle_cost']\n",
    "        arr['cost'] = cost\n",
    "        return arr\n",
    "    data_route = data_route.apply(getCost, axis=1)\n",
    "    return data_route"
   ]
  },
  {
   "cell_type": "code",
   "execution_count": 141,
   "metadata": {},
   "outputs": [],
   "source": [
    "dc_list = [1, 2, 3, 4]\n",
    "dc_data = []"
   ]
  },
  {
   "cell_type": "markdown",
   "metadata": {},
   "source": [
    "## 1 DC"
   ]
  },
  {
   "cell_type": "code",
   "execution_count": 173,
   "metadata": {},
   "outputs": [
    {
     "name": "stdout",
     "output_type": "stream",
     "text": [
      "Total cost:1764909.66\n",
      "Dist cost rate: 0.1360%,\n",
      "Time cost rate: 0.1422%,\n",
      "Vehicle cost rate: 99.7218%\n"
     ]
    },
    {
     "data": {
      "text/html": [
       "<div>\n",
       "<style scoped>\n",
       "    .dataframe tbody tr th:only-of-type {\n",
       "        vertical-align: middle;\n",
       "    }\n",
       "\n",
       "    .dataframe tbody tr th {\n",
       "        vertical-align: top;\n",
       "    }\n",
       "\n",
       "    .dataframe thead th {\n",
       "        text-align: right;\n",
       "    }\n",
       "</style>\n",
       "<table border=\"1\" class=\"dataframe\">\n",
       "  <thead>\n",
       "    <tr style=\"text-align: right;\">\n",
       "      <th></th>\n",
       "      <th>name</th>\n",
       "      <th>dist</th>\n",
       "      <th>time</th>\n",
       "      <th>type</th>\n",
       "      <th>vid</th>\n",
       "      <th>dist_cost</th>\n",
       "      <th>time_cost</th>\n",
       "      <th>vehicle_cost</th>\n",
       "      <th>cost</th>\n",
       "    </tr>\n",
       "  </thead>\n",
       "  <tbody>\n",
       "    <tr>\n",
       "      <th>0</th>\n",
       "      <td>Articulated01</td>\n",
       "      <td>210</td>\n",
       "      <td>515</td>\n",
       "      <td>ar</td>\n",
       "      <td>01</td>\n",
       "      <td>184.4850</td>\n",
       "      <td>266.1005</td>\n",
       "      <td>200000</td>\n",
       "      <td>200450.5855</td>\n",
       "    </tr>\n",
       "    <tr>\n",
       "      <th>1</th>\n",
       "      <td>Articulated02</td>\n",
       "      <td>290</td>\n",
       "      <td>554</td>\n",
       "      <td>ar</td>\n",
       "      <td>02</td>\n",
       "      <td>254.7650</td>\n",
       "      <td>286.2518</td>\n",
       "      <td>200000</td>\n",
       "      <td>200541.0168</td>\n",
       "    </tr>\n",
       "    <tr>\n",
       "      <th>2</th>\n",
       "      <td>Articulated03</td>\n",
       "      <td>290</td>\n",
       "      <td>554</td>\n",
       "      <td>ar</td>\n",
       "      <td>03</td>\n",
       "      <td>254.7650</td>\n",
       "      <td>286.2518</td>\n",
       "      <td>200000</td>\n",
       "      <td>200541.0168</td>\n",
       "    </tr>\n",
       "    <tr>\n",
       "      <th>3</th>\n",
       "      <td>Articulated04</td>\n",
       "      <td>316</td>\n",
       "      <td>374</td>\n",
       "      <td>ar</td>\n",
       "      <td>04</td>\n",
       "      <td>277.6060</td>\n",
       "      <td>193.2458</td>\n",
       "      <td>200000</td>\n",
       "      <td>200470.8518</td>\n",
       "    </tr>\n",
       "    <tr>\n",
       "      <th>4</th>\n",
       "      <td>Articulated05</td>\n",
       "      <td>307</td>\n",
       "      <td>522</td>\n",
       "      <td>ar</td>\n",
       "      <td>05</td>\n",
       "      <td>269.6995</td>\n",
       "      <td>269.7174</td>\n",
       "      <td>200000</td>\n",
       "      <td>200539.4169</td>\n",
       "    </tr>\n",
       "    <tr>\n",
       "      <th>5</th>\n",
       "      <td>Articulated06</td>\n",
       "      <td>423</td>\n",
       "      <td>691</td>\n",
       "      <td>ar</td>\n",
       "      <td>06</td>\n",
       "      <td>371.6055</td>\n",
       "      <td>357.0397</td>\n",
       "      <td>200000</td>\n",
       "      <td>200728.6452</td>\n",
       "    </tr>\n",
       "    <tr>\n",
       "      <th>6</th>\n",
       "      <td>Articulated08</td>\n",
       "      <td>330</td>\n",
       "      <td>574</td>\n",
       "      <td>ar</td>\n",
       "      <td>08</td>\n",
       "      <td>289.9050</td>\n",
       "      <td>296.5858</td>\n",
       "      <td>200000</td>\n",
       "      <td>200586.4908</td>\n",
       "    </tr>\n",
       "    <tr>\n",
       "      <th>7</th>\n",
       "      <td>Articulated91</td>\n",
       "      <td>273</td>\n",
       "      <td>454</td>\n",
       "      <td>ar</td>\n",
       "      <td>91</td>\n",
       "      <td>239.8305</td>\n",
       "      <td>234.5818</td>\n",
       "      <td>200000</td>\n",
       "      <td>200474.4123</td>\n",
       "    </tr>\n",
       "    <tr>\n",
       "      <th>8</th>\n",
       "      <td>Large Rigid01</td>\n",
       "      <td>360</td>\n",
       "      <td>407</td>\n",
       "      <td>lr</td>\n",
       "      <td>01</td>\n",
       "      <td>194.4000</td>\n",
       "      <td>210.2969</td>\n",
       "      <td>90000</td>\n",
       "      <td>90404.6969</td>\n",
       "    </tr>\n",
       "    <tr>\n",
       "      <th>9</th>\n",
       "      <td>Small Rigid91</td>\n",
       "      <td>189</td>\n",
       "      <td>211</td>\n",
       "      <td>sr</td>\n",
       "      <td>91</td>\n",
       "      <td>63.5040</td>\n",
       "      <td>109.0237</td>\n",
       "      <td>70000</td>\n",
       "      <td>70172.5277</td>\n",
       "    </tr>\n",
       "  </tbody>\n",
       "</table>\n",
       "</div>"
      ],
      "text/plain": [
       "            name  dist  time type vid  dist_cost  time_cost  vehicle_cost  \\\n",
       "0  Articulated01   210   515   ar  01   184.4850   266.1005        200000   \n",
       "1  Articulated02   290   554   ar  02   254.7650   286.2518        200000   \n",
       "2  Articulated03   290   554   ar  03   254.7650   286.2518        200000   \n",
       "3  Articulated04   316   374   ar  04   277.6060   193.2458        200000   \n",
       "4  Articulated05   307   522   ar  05   269.6995   269.7174        200000   \n",
       "5  Articulated06   423   691   ar  06   371.6055   357.0397        200000   \n",
       "6  Articulated08   330   574   ar  08   289.9050   296.5858        200000   \n",
       "7  Articulated91   273   454   ar  91   239.8305   234.5818        200000   \n",
       "8  Large Rigid01   360   407   lr  01   194.4000   210.2969         90000   \n",
       "9  Small Rigid91   189   211   sr  91    63.5040   109.0237         70000   \n",
       "\n",
       "          cost  \n",
       "0  200450.5855  \n",
       "1  200541.0168  \n",
       "2  200541.0168  \n",
       "3  200470.8518  \n",
       "4  200539.4169  \n",
       "5  200728.6452  \n",
       "6  200586.4908  \n",
       "7  200474.4123  \n",
       "8   90404.6969  \n",
       "9   70172.5277  "
      ]
     },
     "execution_count": 173,
     "metadata": {},
     "output_type": "execute_result"
    }
   ],
   "source": [
    "data_route = getData('1_13')\n",
    "cost = data_route['cost'].sum()\n",
    "print('Total cost:{:.2f}'.format(cost))\n",
    "dist_cost = data_route['dist_cost'].sum()\n",
    "time_cost = data_route['time_cost'].sum()\n",
    "vehicle_cost = data_route['vehicle_cost'].sum()\n",
    "dist_cost_rate = dist_cost / cost * 100\n",
    "time_cost_rate = time_cost / cost * 100\n",
    "vehicle_cost_rate = data_route['vehicle_cost'].sum() / cost * 100\n",
    "print('Dist cost rate: {:.4f}%,\\nTime cost rate: {:.4f}%,\\nVehicle cost rate: {:.4f}%'.format(dist_cost_rate, time_cost_rate, vehicle_cost_rate))\n",
    "dc_dict = {}\n",
    "dc_dict['cost'] = cost\n",
    "dc_dict['dist_cost'] = dist_cost\n",
    "dc_dict['time_cost'] = time_cost\n",
    "dc_dict['vehicle_cost'] = vehicle_cost\n",
    "dc_data.append(dc_dict)\n",
    "data_route"
   ]
  },
  {
   "cell_type": "code",
   "execution_count": null,
   "metadata": {},
   "outputs": [],
   "source": []
  },
  {
   "cell_type": "markdown",
   "metadata": {},
   "source": [
    "## 2 DCs"
   ]
  },
  {
   "cell_type": "code",
   "execution_count": 174,
   "metadata": {},
   "outputs": [
    {
     "name": "stdout",
     "output_type": "stream",
     "text": [
      "Total cost:1704100.43\n",
      "Dist cost rate: 0.1010%,\n",
      "Time cost rate: 0.1397%,\n",
      "Vehicle cost rate: 99.7594%\n"
     ]
    },
    {
     "data": {
      "text/html": [
       "<div>\n",
       "<style scoped>\n",
       "    .dataframe tbody tr th:only-of-type {\n",
       "        vertical-align: middle;\n",
       "    }\n",
       "\n",
       "    .dataframe tbody tr th {\n",
       "        vertical-align: top;\n",
       "    }\n",
       "\n",
       "    .dataframe thead th {\n",
       "        text-align: right;\n",
       "    }\n",
       "</style>\n",
       "<table border=\"1\" class=\"dataframe\">\n",
       "  <thead>\n",
       "    <tr style=\"text-align: right;\">\n",
       "      <th></th>\n",
       "      <th>name</th>\n",
       "      <th>dist</th>\n",
       "      <th>time</th>\n",
       "      <th>type</th>\n",
       "      <th>vid</th>\n",
       "      <th>dist_cost</th>\n",
       "      <th>time_cost</th>\n",
       "      <th>vehicle_cost</th>\n",
       "      <th>cost</th>\n",
       "    </tr>\n",
       "  </thead>\n",
       "  <tbody>\n",
       "    <tr>\n",
       "      <th>0</th>\n",
       "      <td>Articulated01</td>\n",
       "      <td>193</td>\n",
       "      <td>386</td>\n",
       "      <td>ar</td>\n",
       "      <td>01</td>\n",
       "      <td>169.5505</td>\n",
       "      <td>199.4462</td>\n",
       "      <td>200000</td>\n",
       "      <td>200368.9967</td>\n",
       "    </tr>\n",
       "    <tr>\n",
       "      <th>1</th>\n",
       "      <td>Articulated02</td>\n",
       "      <td>333</td>\n",
       "      <td>636</td>\n",
       "      <td>ar</td>\n",
       "      <td>02</td>\n",
       "      <td>292.5405</td>\n",
       "      <td>328.6212</td>\n",
       "      <td>200000</td>\n",
       "      <td>200621.1617</td>\n",
       "    </tr>\n",
       "    <tr>\n",
       "      <th>2</th>\n",
       "      <td>Articulated03</td>\n",
       "      <td>85</td>\n",
       "      <td>297</td>\n",
       "      <td>ar</td>\n",
       "      <td>03</td>\n",
       "      <td>74.6725</td>\n",
       "      <td>153.4599</td>\n",
       "      <td>200000</td>\n",
       "      <td>200228.1324</td>\n",
       "    </tr>\n",
       "    <tr>\n",
       "      <th>3</th>\n",
       "      <td>Articulated04</td>\n",
       "      <td>74</td>\n",
       "      <td>308</td>\n",
       "      <td>ar</td>\n",
       "      <td>04</td>\n",
       "      <td>65.0090</td>\n",
       "      <td>159.1436</td>\n",
       "      <td>200000</td>\n",
       "      <td>200224.1526</td>\n",
       "    </tr>\n",
       "    <tr>\n",
       "      <th>4</th>\n",
       "      <td>Articulated05</td>\n",
       "      <td>60</td>\n",
       "      <td>192</td>\n",
       "      <td>ar</td>\n",
       "      <td>05</td>\n",
       "      <td>52.7100</td>\n",
       "      <td>99.2064</td>\n",
       "      <td>200000</td>\n",
       "      <td>200151.9164</td>\n",
       "    </tr>\n",
       "    <tr>\n",
       "      <th>5</th>\n",
       "      <td>Articulated06</td>\n",
       "      <td>60</td>\n",
       "      <td>192</td>\n",
       "      <td>ar</td>\n",
       "      <td>06</td>\n",
       "      <td>52.7100</td>\n",
       "      <td>99.2064</td>\n",
       "      <td>200000</td>\n",
       "      <td>200151.9164</td>\n",
       "    </tr>\n",
       "    <tr>\n",
       "      <th>6</th>\n",
       "      <td>Articulated91</td>\n",
       "      <td>504</td>\n",
       "      <td>649</td>\n",
       "      <td>ar</td>\n",
       "      <td>91</td>\n",
       "      <td>442.7640</td>\n",
       "      <td>335.3383</td>\n",
       "      <td>200000</td>\n",
       "      <td>200778.1023</td>\n",
       "    </tr>\n",
       "    <tr>\n",
       "      <th>7</th>\n",
       "      <td>Large Rigid01</td>\n",
       "      <td>206</td>\n",
       "      <td>432</td>\n",
       "      <td>lr</td>\n",
       "      <td>01</td>\n",
       "      <td>111.2400</td>\n",
       "      <td>223.2144</td>\n",
       "      <td>90000</td>\n",
       "      <td>90334.4544</td>\n",
       "    </tr>\n",
       "    <tr>\n",
       "      <th>8</th>\n",
       "      <td>Small Rigid03</td>\n",
       "      <td>212</td>\n",
       "      <td>315</td>\n",
       "      <td>sr</td>\n",
       "      <td>03</td>\n",
       "      <td>71.2320</td>\n",
       "      <td>162.7605</td>\n",
       "      <td>70000</td>\n",
       "      <td>70233.9925</td>\n",
       "    </tr>\n",
       "    <tr>\n",
       "      <th>9</th>\n",
       "      <td>Small Rigid91</td>\n",
       "      <td>591</td>\n",
       "      <td>613</td>\n",
       "      <td>sr</td>\n",
       "      <td>91</td>\n",
       "      <td>198.5760</td>\n",
       "      <td>316.7371</td>\n",
       "      <td>70000</td>\n",
       "      <td>70515.3131</td>\n",
       "    </tr>\n",
       "    <tr>\n",
       "      <th>10</th>\n",
       "      <td>Small Rigid92</td>\n",
       "      <td>564</td>\n",
       "      <td>586</td>\n",
       "      <td>sr</td>\n",
       "      <td>92</td>\n",
       "      <td>189.5040</td>\n",
       "      <td>302.7862</td>\n",
       "      <td>70000</td>\n",
       "      <td>70492.2902</td>\n",
       "    </tr>\n",
       "  </tbody>\n",
       "</table>\n",
       "</div>"
      ],
      "text/plain": [
       "             name  dist  time type vid  dist_cost  time_cost  vehicle_cost  \\\n",
       "0   Articulated01   193   386   ar  01   169.5505   199.4462        200000   \n",
       "1   Articulated02   333   636   ar  02   292.5405   328.6212        200000   \n",
       "2   Articulated03    85   297   ar  03    74.6725   153.4599        200000   \n",
       "3   Articulated04    74   308   ar  04    65.0090   159.1436        200000   \n",
       "4   Articulated05    60   192   ar  05    52.7100    99.2064        200000   \n",
       "5   Articulated06    60   192   ar  06    52.7100    99.2064        200000   \n",
       "6   Articulated91   504   649   ar  91   442.7640   335.3383        200000   \n",
       "7   Large Rigid01   206   432   lr  01   111.2400   223.2144         90000   \n",
       "8   Small Rigid03   212   315   sr  03    71.2320   162.7605         70000   \n",
       "9   Small Rigid91   591   613   sr  91   198.5760   316.7371         70000   \n",
       "10  Small Rigid92   564   586   sr  92   189.5040   302.7862         70000   \n",
       "\n",
       "           cost  \n",
       "0   200368.9967  \n",
       "1   200621.1617  \n",
       "2   200228.1324  \n",
       "3   200224.1526  \n",
       "4   200151.9164  \n",
       "5   200151.9164  \n",
       "6   200778.1023  \n",
       "7    90334.4544  \n",
       "8    70233.9925  \n",
       "9    70515.3131  \n",
       "10   70492.2902  "
      ]
     },
     "execution_count": 174,
     "metadata": {},
     "output_type": "execute_result"
    }
   ],
   "source": [
    "data_route = getData('2_11_2')\n",
    "cost = data_route['cost'].sum()\n",
    "print('Total cost:{:.2f}'.format(cost))\n",
    "dist_cost = data_route['dist_cost'].sum()\n",
    "time_cost = data_route['time_cost'].sum()\n",
    "vehicle_cost = data_route['vehicle_cost'].sum()\n",
    "dist_cost_rate = dist_cost / cost * 100\n",
    "time_cost_rate = time_cost / cost * 100\n",
    "vehicle_cost_rate = data_route['vehicle_cost'].sum() / cost * 100\n",
    "print('Dist cost rate: {:.4f}%,\\nTime cost rate: {:.4f}%,\\nVehicle cost rate: {:.4f}%'.format(dist_cost_rate, time_cost_rate, vehicle_cost_rate))\n",
    "dc_dict = {}\n",
    "dc_dict['cost'] = cost\n",
    "dc_dict['dist_cost'] = dist_cost\n",
    "dc_dict['time_cost'] = time_cost\n",
    "dc_dict['vehicle_cost'] = vehicle_cost\n",
    "dc_data.append(dc_dict)\n",
    "data_route"
   ]
  },
  {
   "cell_type": "code",
   "execution_count": 175,
   "metadata": {},
   "outputs": [],
   "source": [
    "data_route.to_csv('data_route.csv')"
   ]
  },
  {
   "cell_type": "markdown",
   "metadata": {},
   "source": [
    "## 3 DCs"
   ]
  },
  {
   "cell_type": "code",
   "execution_count": 144,
   "metadata": {},
   "outputs": [
    {
     "name": "stdout",
     "output_type": "stream",
     "text": [
      "Total cost:1703767.07\n",
      "Dist cost rate: 0.0915%,\n",
      "Time cost rate: 0.1296%,\n",
      "Vehicle cost rate: 99.7789%\n"
     ]
    },
    {
     "data": {
      "text/html": [
       "<div>\n",
       "<style scoped>\n",
       "    .dataframe tbody tr th:only-of-type {\n",
       "        vertical-align: middle;\n",
       "    }\n",
       "\n",
       "    .dataframe tbody tr th {\n",
       "        vertical-align: top;\n",
       "    }\n",
       "\n",
       "    .dataframe thead th {\n",
       "        text-align: right;\n",
       "    }\n",
       "</style>\n",
       "<table border=\"1\" class=\"dataframe\">\n",
       "  <thead>\n",
       "    <tr style=\"text-align: right;\">\n",
       "      <th></th>\n",
       "      <th>name</th>\n",
       "      <th>dist</th>\n",
       "      <th>time</th>\n",
       "      <th>type</th>\n",
       "      <th>vid</th>\n",
       "      <th>dist_cost</th>\n",
       "      <th>time_cost</th>\n",
       "      <th>vehicle_cost</th>\n",
       "      <th>cost</th>\n",
       "    </tr>\n",
       "  </thead>\n",
       "  <tbody>\n",
       "    <tr>\n",
       "      <th>0</th>\n",
       "      <td>Articulated01</td>\n",
       "      <td>304</td>\n",
       "      <td>602</td>\n",
       "      <td>ar</td>\n",
       "      <td>01</td>\n",
       "      <td>267.0640</td>\n",
       "      <td>311.0534</td>\n",
       "      <td>200000</td>\n",
       "      <td>200578.1174</td>\n",
       "    </tr>\n",
       "    <tr>\n",
       "      <th>1</th>\n",
       "      <td>Articulated02</td>\n",
       "      <td>61</td>\n",
       "      <td>195</td>\n",
       "      <td>ar</td>\n",
       "      <td>02</td>\n",
       "      <td>53.5885</td>\n",
       "      <td>100.7565</td>\n",
       "      <td>200000</td>\n",
       "      <td>200154.3450</td>\n",
       "    </tr>\n",
       "    <tr>\n",
       "      <th>2</th>\n",
       "      <td>Articulated03</td>\n",
       "      <td>76</td>\n",
       "      <td>300</td>\n",
       "      <td>ar</td>\n",
       "      <td>03</td>\n",
       "      <td>66.7660</td>\n",
       "      <td>155.0100</td>\n",
       "      <td>200000</td>\n",
       "      <td>200221.7760</td>\n",
       "    </tr>\n",
       "    <tr>\n",
       "      <th>3</th>\n",
       "      <td>Articulated04</td>\n",
       "      <td>107</td>\n",
       "      <td>333</td>\n",
       "      <td>ar</td>\n",
       "      <td>04</td>\n",
       "      <td>93.9995</td>\n",
       "      <td>172.0611</td>\n",
       "      <td>200000</td>\n",
       "      <td>200266.0606</td>\n",
       "    </tr>\n",
       "    <tr>\n",
       "      <th>4</th>\n",
       "      <td>Articulated05</td>\n",
       "      <td>62</td>\n",
       "      <td>199</td>\n",
       "      <td>ar</td>\n",
       "      <td>05</td>\n",
       "      <td>54.4670</td>\n",
       "      <td>102.8233</td>\n",
       "      <td>200000</td>\n",
       "      <td>200157.2903</td>\n",
       "    </tr>\n",
       "    <tr>\n",
       "      <th>5</th>\n",
       "      <td>Articulated06</td>\n",
       "      <td>74</td>\n",
       "      <td>308</td>\n",
       "      <td>ar</td>\n",
       "      <td>06</td>\n",
       "      <td>65.0090</td>\n",
       "      <td>159.1436</td>\n",
       "      <td>200000</td>\n",
       "      <td>200224.1526</td>\n",
       "    </tr>\n",
       "    <tr>\n",
       "      <th>6</th>\n",
       "      <td>Articulated91</td>\n",
       "      <td>504</td>\n",
       "      <td>649</td>\n",
       "      <td>ar</td>\n",
       "      <td>91</td>\n",
       "      <td>442.7640</td>\n",
       "      <td>335.3383</td>\n",
       "      <td>200000</td>\n",
       "      <td>200778.1023</td>\n",
       "    </tr>\n",
       "    <tr>\n",
       "      <th>7</th>\n",
       "      <td>Large Rigid01</td>\n",
       "      <td>130</td>\n",
       "      <td>238</td>\n",
       "      <td>lr</td>\n",
       "      <td>01</td>\n",
       "      <td>70.2000</td>\n",
       "      <td>122.9746</td>\n",
       "      <td>90000</td>\n",
       "      <td>90193.1746</td>\n",
       "    </tr>\n",
       "    <tr>\n",
       "      <th>8</th>\n",
       "      <td>Small Rigid03</td>\n",
       "      <td>172</td>\n",
       "      <td>249</td>\n",
       "      <td>sr</td>\n",
       "      <td>03</td>\n",
       "      <td>57.7920</td>\n",
       "      <td>128.6583</td>\n",
       "      <td>70000</td>\n",
       "      <td>70186.4503</td>\n",
       "    </tr>\n",
       "    <tr>\n",
       "      <th>9</th>\n",
       "      <td>Small Rigid91</td>\n",
       "      <td>591</td>\n",
       "      <td>613</td>\n",
       "      <td>sr</td>\n",
       "      <td>91</td>\n",
       "      <td>198.5760</td>\n",
       "      <td>316.7371</td>\n",
       "      <td>70000</td>\n",
       "      <td>70515.3131</td>\n",
       "    </tr>\n",
       "    <tr>\n",
       "      <th>10</th>\n",
       "      <td>Small Rigid92</td>\n",
       "      <td>564</td>\n",
       "      <td>586</td>\n",
       "      <td>sr</td>\n",
       "      <td>92</td>\n",
       "      <td>189.5040</td>\n",
       "      <td>302.7862</td>\n",
       "      <td>70000</td>\n",
       "      <td>70492.2902</td>\n",
       "    </tr>\n",
       "  </tbody>\n",
       "</table>\n",
       "</div>"
      ],
      "text/plain": [
       "             name  dist  time type vid  dist_cost  time_cost  vehicle_cost  \\\n",
       "0   Articulated01   304   602   ar  01   267.0640   311.0534        200000   \n",
       "1   Articulated02    61   195   ar  02    53.5885   100.7565        200000   \n",
       "2   Articulated03    76   300   ar  03    66.7660   155.0100        200000   \n",
       "3   Articulated04   107   333   ar  04    93.9995   172.0611        200000   \n",
       "4   Articulated05    62   199   ar  05    54.4670   102.8233        200000   \n",
       "5   Articulated06    74   308   ar  06    65.0090   159.1436        200000   \n",
       "6   Articulated91   504   649   ar  91   442.7640   335.3383        200000   \n",
       "7   Large Rigid01   130   238   lr  01    70.2000   122.9746         90000   \n",
       "8   Small Rigid03   172   249   sr  03    57.7920   128.6583         70000   \n",
       "9   Small Rigid91   591   613   sr  91   198.5760   316.7371         70000   \n",
       "10  Small Rigid92   564   586   sr  92   189.5040   302.7862         70000   \n",
       "\n",
       "           cost  \n",
       "0   200578.1174  \n",
       "1   200154.3450  \n",
       "2   200221.7760  \n",
       "3   200266.0606  \n",
       "4   200157.2903  \n",
       "5   200224.1526  \n",
       "6   200778.1023  \n",
       "7    90193.1746  \n",
       "8    70186.4503  \n",
       "9    70515.3131  \n",
       "10   70492.2902  "
      ]
     },
     "execution_count": 144,
     "metadata": {},
     "output_type": "execute_result"
    }
   ],
   "source": [
    "data_route = getData('3_11')\n",
    "cost = data_route['cost'].sum()\n",
    "print('Total cost:{:.2f}'.format(cost))\n",
    "dist_cost = data_route['dist_cost'].sum()\n",
    "time_cost = data_route['time_cost'].sum()\n",
    "vehicle_cost = data_route['vehicle_cost'].sum()\n",
    "dist_cost_rate = dist_cost / cost * 100\n",
    "time_cost_rate = time_cost / cost * 100\n",
    "vehicle_cost_rate = data_route['vehicle_cost'].sum() / cost * 100\n",
    "print('Dist cost rate: {:.4f}%,\\nTime cost rate: {:.4f}%,\\nVehicle cost rate: {:.4f}%'.format(dist_cost_rate, time_cost_rate, vehicle_cost_rate))\n",
    "dc_dict = {}\n",
    "dc_dict['cost'] = cost\n",
    "dc_dict['dist_cost'] = dist_cost\n",
    "dc_dict['time_cost'] = time_cost\n",
    "dc_dict['vehicle_cost'] = vehicle_cost\n",
    "dc_data.append(dc_dict)\n",
    "data_route"
   ]
  },
  {
   "cell_type": "markdown",
   "metadata": {},
   "source": [
    "## 4 DCs"
   ]
  },
  {
   "cell_type": "code",
   "execution_count": 145,
   "metadata": {},
   "outputs": [
    {
     "name": "stdout",
     "output_type": "stream",
     "text": [
      "Total cost:1703794.46\n",
      "Dist cost rate: 0.0926%,\n",
      "Time cost rate: 0.1301%,\n",
      "Vehicle cost rate: 99.7773%\n"
     ]
    },
    {
     "data": {
      "text/html": [
       "<div>\n",
       "<style scoped>\n",
       "    .dataframe tbody tr th:only-of-type {\n",
       "        vertical-align: middle;\n",
       "    }\n",
       "\n",
       "    .dataframe tbody tr th {\n",
       "        vertical-align: top;\n",
       "    }\n",
       "\n",
       "    .dataframe thead th {\n",
       "        text-align: right;\n",
       "    }\n",
       "</style>\n",
       "<table border=\"1\" class=\"dataframe\">\n",
       "  <thead>\n",
       "    <tr style=\"text-align: right;\">\n",
       "      <th></th>\n",
       "      <th>name</th>\n",
       "      <th>dist</th>\n",
       "      <th>time</th>\n",
       "      <th>type</th>\n",
       "      <th>vid</th>\n",
       "      <th>dist_cost</th>\n",
       "      <th>time_cost</th>\n",
       "      <th>vehicle_cost</th>\n",
       "      <th>cost</th>\n",
       "    </tr>\n",
       "  </thead>\n",
       "  <tbody>\n",
       "    <tr>\n",
       "      <th>0</th>\n",
       "      <td>Articulated01</td>\n",
       "      <td>304</td>\n",
       "      <td>602</td>\n",
       "      <td>ar</td>\n",
       "      <td>01</td>\n",
       "      <td>267.0640</td>\n",
       "      <td>311.0534</td>\n",
       "      <td>200000</td>\n",
       "      <td>200578.1174</td>\n",
       "    </tr>\n",
       "    <tr>\n",
       "      <th>1</th>\n",
       "      <td>Articulated02</td>\n",
       "      <td>61</td>\n",
       "      <td>195</td>\n",
       "      <td>ar</td>\n",
       "      <td>02</td>\n",
       "      <td>53.5885</td>\n",
       "      <td>100.7565</td>\n",
       "      <td>200000</td>\n",
       "      <td>200154.3450</td>\n",
       "    </tr>\n",
       "    <tr>\n",
       "      <th>2</th>\n",
       "      <td>Articulated03</td>\n",
       "      <td>74</td>\n",
       "      <td>308</td>\n",
       "      <td>ar</td>\n",
       "      <td>03</td>\n",
       "      <td>65.0090</td>\n",
       "      <td>159.1436</td>\n",
       "      <td>200000</td>\n",
       "      <td>200224.1526</td>\n",
       "    </tr>\n",
       "    <tr>\n",
       "      <th>3</th>\n",
       "      <td>Articulated04</td>\n",
       "      <td>107</td>\n",
       "      <td>333</td>\n",
       "      <td>ar</td>\n",
       "      <td>04</td>\n",
       "      <td>93.9995</td>\n",
       "      <td>172.0611</td>\n",
       "      <td>200000</td>\n",
       "      <td>200266.0606</td>\n",
       "    </tr>\n",
       "    <tr>\n",
       "      <th>4</th>\n",
       "      <td>Articulated05</td>\n",
       "      <td>78</td>\n",
       "      <td>286</td>\n",
       "      <td>ar</td>\n",
       "      <td>05</td>\n",
       "      <td>68.5230</td>\n",
       "      <td>147.7762</td>\n",
       "      <td>200000</td>\n",
       "      <td>200216.2992</td>\n",
       "    </tr>\n",
       "    <tr>\n",
       "      <th>5</th>\n",
       "      <td>Articulated06</td>\n",
       "      <td>80</td>\n",
       "      <td>232</td>\n",
       "      <td>ar</td>\n",
       "      <td>06</td>\n",
       "      <td>70.2800</td>\n",
       "      <td>119.8744</td>\n",
       "      <td>200000</td>\n",
       "      <td>200190.1544</td>\n",
       "    </tr>\n",
       "    <tr>\n",
       "      <th>6</th>\n",
       "      <td>Articulated91</td>\n",
       "      <td>504</td>\n",
       "      <td>649</td>\n",
       "      <td>ar</td>\n",
       "      <td>91</td>\n",
       "      <td>442.7640</td>\n",
       "      <td>335.3383</td>\n",
       "      <td>200000</td>\n",
       "      <td>200778.1023</td>\n",
       "    </tr>\n",
       "    <tr>\n",
       "      <th>7</th>\n",
       "      <td>Large Rigid01</td>\n",
       "      <td>130</td>\n",
       "      <td>238</td>\n",
       "      <td>lr</td>\n",
       "      <td>01</td>\n",
       "      <td>70.2000</td>\n",
       "      <td>122.9746</td>\n",
       "      <td>90000</td>\n",
       "      <td>90193.1746</td>\n",
       "    </tr>\n",
       "    <tr>\n",
       "      <th>8</th>\n",
       "      <td>Small Rigid03</td>\n",
       "      <td>172</td>\n",
       "      <td>249</td>\n",
       "      <td>sr</td>\n",
       "      <td>03</td>\n",
       "      <td>57.7920</td>\n",
       "      <td>128.6583</td>\n",
       "      <td>70000</td>\n",
       "      <td>70186.4503</td>\n",
       "    </tr>\n",
       "    <tr>\n",
       "      <th>9</th>\n",
       "      <td>Small Rigid91</td>\n",
       "      <td>564</td>\n",
       "      <td>586</td>\n",
       "      <td>sr</td>\n",
       "      <td>91</td>\n",
       "      <td>189.5040</td>\n",
       "      <td>302.7862</td>\n",
       "      <td>70000</td>\n",
       "      <td>70492.2902</td>\n",
       "    </tr>\n",
       "    <tr>\n",
       "      <th>10</th>\n",
       "      <td>Small Rigid92</td>\n",
       "      <td>591</td>\n",
       "      <td>613</td>\n",
       "      <td>sr</td>\n",
       "      <td>92</td>\n",
       "      <td>198.5760</td>\n",
       "      <td>316.7371</td>\n",
       "      <td>70000</td>\n",
       "      <td>70515.3131</td>\n",
       "    </tr>\n",
       "  </tbody>\n",
       "</table>\n",
       "</div>"
      ],
      "text/plain": [
       "             name  dist  time type vid  dist_cost  time_cost  vehicle_cost  \\\n",
       "0   Articulated01   304   602   ar  01   267.0640   311.0534        200000   \n",
       "1   Articulated02    61   195   ar  02    53.5885   100.7565        200000   \n",
       "2   Articulated03    74   308   ar  03    65.0090   159.1436        200000   \n",
       "3   Articulated04   107   333   ar  04    93.9995   172.0611        200000   \n",
       "4   Articulated05    78   286   ar  05    68.5230   147.7762        200000   \n",
       "5   Articulated06    80   232   ar  06    70.2800   119.8744        200000   \n",
       "6   Articulated91   504   649   ar  91   442.7640   335.3383        200000   \n",
       "7   Large Rigid01   130   238   lr  01    70.2000   122.9746         90000   \n",
       "8   Small Rigid03   172   249   sr  03    57.7920   128.6583         70000   \n",
       "9   Small Rigid91   564   586   sr  91   189.5040   302.7862         70000   \n",
       "10  Small Rigid92   591   613   sr  92   198.5760   316.7371         70000   \n",
       "\n",
       "           cost  \n",
       "0   200578.1174  \n",
       "1   200154.3450  \n",
       "2   200224.1526  \n",
       "3   200266.0606  \n",
       "4   200216.2992  \n",
       "5   200190.1544  \n",
       "6   200778.1023  \n",
       "7    90193.1746  \n",
       "8    70186.4503  \n",
       "9    70492.2902  \n",
       "10   70515.3131  "
      ]
     },
     "execution_count": 145,
     "metadata": {},
     "output_type": "execute_result"
    }
   ],
   "source": [
    "data_route = getData('4_11_2')\n",
    "cost = data_route['cost'].sum()\n",
    "print('Total cost:{:.2f}'.format(cost))\n",
    "dist_cost = data_route['dist_cost'].sum()\n",
    "time_cost = data_route['time_cost'].sum()\n",
    "vehicle_cost = data_route['vehicle_cost'].sum()\n",
    "dist_cost_rate = dist_cost / cost * 100\n",
    "time_cost_rate = time_cost / cost * 100\n",
    "vehicle_cost_rate = data_route['vehicle_cost'].sum() / cost * 100\n",
    "print('Dist cost rate: {:.4f}%,\\nTime cost rate: {:.4f}%,\\nVehicle cost rate: {:.4f}%'.format(dist_cost_rate, time_cost_rate, vehicle_cost_rate))\n",
    "dc_dict = {}\n",
    "dc_dict['cost'] = cost\n",
    "dc_dict['dist_cost'] = dist_cost\n",
    "dc_dict['time_cost'] = time_cost\n",
    "dc_dict['vehicle_cost'] = vehicle_cost\n",
    "dc_data.append(dc_dict)\n",
    "data_route"
   ]
  },
  {
   "cell_type": "markdown",
   "metadata": {},
   "source": [
    "## Conclusion"
   ]
  },
  {
   "cell_type": "code",
   "execution_count": 146,
   "metadata": {},
   "outputs": [
    {
     "data": {
      "text/html": [
       "<div>\n",
       "<style scoped>\n",
       "    .dataframe tbody tr th:only-of-type {\n",
       "        vertical-align: middle;\n",
       "    }\n",
       "\n",
       "    .dataframe tbody tr th {\n",
       "        vertical-align: top;\n",
       "    }\n",
       "\n",
       "    .dataframe thead th {\n",
       "        text-align: right;\n",
       "    }\n",
       "</style>\n",
       "<table border=\"1\" class=\"dataframe\">\n",
       "  <thead>\n",
       "    <tr style=\"text-align: right;\">\n",
       "      <th></th>\n",
       "      <th>number of facility</th>\n",
       "      <th>cost</th>\n",
       "      <th>dist_cost</th>\n",
       "      <th>time_cost</th>\n",
       "      <th>vehicle_cost</th>\n",
       "    </tr>\n",
       "  </thead>\n",
       "  <tbody>\n",
       "    <tr>\n",
       "      <th>0</th>\n",
       "      <td>1</td>\n",
       "      <td>1.764910e+06</td>\n",
       "      <td>2400.5655</td>\n",
       "      <td>2509.0952</td>\n",
       "      <td>1760000</td>\n",
       "    </tr>\n",
       "    <tr>\n",
       "      <th>1</th>\n",
       "      <td>2</td>\n",
       "      <td>1.704100e+06</td>\n",
       "      <td>1720.5085</td>\n",
       "      <td>2379.9202</td>\n",
       "      <td>1700000</td>\n",
       "    </tr>\n",
       "    <tr>\n",
       "      <th>2</th>\n",
       "      <td>3</td>\n",
       "      <td>1.703767e+06</td>\n",
       "      <td>1559.7300</td>\n",
       "      <td>2207.3424</td>\n",
       "      <td>1700000</td>\n",
       "    </tr>\n",
       "    <tr>\n",
       "      <th>3</th>\n",
       "      <td>4</td>\n",
       "      <td>1.703794e+06</td>\n",
       "      <td>1577.3000</td>\n",
       "      <td>2217.1597</td>\n",
       "      <td>1700000</td>\n",
       "    </tr>\n",
       "  </tbody>\n",
       "</table>\n",
       "</div>"
      ],
      "text/plain": [
       "   number of facility          cost  dist_cost  time_cost  vehicle_cost\n",
       "0                   1  1.764910e+06  2400.5655  2509.0952       1760000\n",
       "1                   2  1.704100e+06  1720.5085  2379.9202       1700000\n",
       "2                   3  1.703767e+06  1559.7300  2207.3424       1700000\n",
       "3                   4  1.703794e+06  1577.3000  2217.1597       1700000"
      ]
     },
     "execution_count": 146,
     "metadata": {},
     "output_type": "execute_result"
    }
   ],
   "source": [
    "data_output = pd.DataFrame(data=dc_data, index=dc_list).reset_index().rename(columns={'index':'number of facility'})\n",
    "data_output"
   ]
  },
  {
   "cell_type": "code",
   "execution_count": 172,
   "metadata": {},
   "outputs": [],
   "source": [
    "data_output.to_csv('output.csv')"
   ]
  },
  {
   "cell_type": "code",
   "execution_count": 167,
   "metadata": {},
   "outputs": [],
   "source": [
    "import plotly.graph_objects as go\n",
    "import plotly.express as px\n",
    "from plotly.subplots import make_subplots"
   ]
  },
  {
   "cell_type": "code",
   "execution_count": 171,
   "metadata": {},
   "outputs": [
    {
     "data": {
      "application/vnd.plotly.v1+json": {
       "config": {
        "plotlyServerURL": "https://plot.ly"
       },
       "data": [
        {
         "name": "distance cost",
         "type": "bar",
         "x": [
          1,
          2,
          3,
          4
         ],
         "xaxis": "x",
         "y": [
          2400.5655,
          1720.5085,
          1559.73,
          1577.2999999999997
         ],
         "yaxis": "y"
        },
        {
         "name": "time cost",
         "type": "bar",
         "x": [
          1,
          2,
          3,
          4
         ],
         "xaxis": "x",
         "y": [
          2509.0952,
          2379.9202,
          2207.3424000000005,
          2217.1597
         ],
         "yaxis": "y"
        },
        {
         "name": "total cost",
         "type": "scatter",
         "x": [
          1,
          2,
          3,
          4
         ],
         "xaxis": "x",
         "y": [
          1764909.6607000001,
          1704100.4286999998,
          1703767.0724,
          1703794.4596999998
         ],
         "yaxis": "y2"
        }
       ],
       "layout": {
        "barmode": "stack",
        "template": {
         "data": {
          "bar": [
           {
            "error_x": {
             "color": "#2a3f5f"
            },
            "error_y": {
             "color": "#2a3f5f"
            },
            "marker": {
             "line": {
              "color": "#E5ECF6",
              "width": 0.5
             },
             "pattern": {
              "fillmode": "overlay",
              "size": 10,
              "solidity": 0.2
             }
            },
            "type": "bar"
           }
          ],
          "barpolar": [
           {
            "marker": {
             "line": {
              "color": "#E5ECF6",
              "width": 0.5
             },
             "pattern": {
              "fillmode": "overlay",
              "size": 10,
              "solidity": 0.2
             }
            },
            "type": "barpolar"
           }
          ],
          "carpet": [
           {
            "aaxis": {
             "endlinecolor": "#2a3f5f",
             "gridcolor": "white",
             "linecolor": "white",
             "minorgridcolor": "white",
             "startlinecolor": "#2a3f5f"
            },
            "baxis": {
             "endlinecolor": "#2a3f5f",
             "gridcolor": "white",
             "linecolor": "white",
             "minorgridcolor": "white",
             "startlinecolor": "#2a3f5f"
            },
            "type": "carpet"
           }
          ],
          "choropleth": [
           {
            "colorbar": {
             "outlinewidth": 0,
             "ticks": ""
            },
            "type": "choropleth"
           }
          ],
          "contour": [
           {
            "colorbar": {
             "outlinewidth": 0,
             "ticks": ""
            },
            "colorscale": [
             [
              0,
              "#0d0887"
             ],
             [
              0.1111111111111111,
              "#46039f"
             ],
             [
              0.2222222222222222,
              "#7201a8"
             ],
             [
              0.3333333333333333,
              "#9c179e"
             ],
             [
              0.4444444444444444,
              "#bd3786"
             ],
             [
              0.5555555555555556,
              "#d8576b"
             ],
             [
              0.6666666666666666,
              "#ed7953"
             ],
             [
              0.7777777777777778,
              "#fb9f3a"
             ],
             [
              0.8888888888888888,
              "#fdca26"
             ],
             [
              1,
              "#f0f921"
             ]
            ],
            "type": "contour"
           }
          ],
          "contourcarpet": [
           {
            "colorbar": {
             "outlinewidth": 0,
             "ticks": ""
            },
            "type": "contourcarpet"
           }
          ],
          "heatmap": [
           {
            "colorbar": {
             "outlinewidth": 0,
             "ticks": ""
            },
            "colorscale": [
             [
              0,
              "#0d0887"
             ],
             [
              0.1111111111111111,
              "#46039f"
             ],
             [
              0.2222222222222222,
              "#7201a8"
             ],
             [
              0.3333333333333333,
              "#9c179e"
             ],
             [
              0.4444444444444444,
              "#bd3786"
             ],
             [
              0.5555555555555556,
              "#d8576b"
             ],
             [
              0.6666666666666666,
              "#ed7953"
             ],
             [
              0.7777777777777778,
              "#fb9f3a"
             ],
             [
              0.8888888888888888,
              "#fdca26"
             ],
             [
              1,
              "#f0f921"
             ]
            ],
            "type": "heatmap"
           }
          ],
          "heatmapgl": [
           {
            "colorbar": {
             "outlinewidth": 0,
             "ticks": ""
            },
            "colorscale": [
             [
              0,
              "#0d0887"
             ],
             [
              0.1111111111111111,
              "#46039f"
             ],
             [
              0.2222222222222222,
              "#7201a8"
             ],
             [
              0.3333333333333333,
              "#9c179e"
             ],
             [
              0.4444444444444444,
              "#bd3786"
             ],
             [
              0.5555555555555556,
              "#d8576b"
             ],
             [
              0.6666666666666666,
              "#ed7953"
             ],
             [
              0.7777777777777778,
              "#fb9f3a"
             ],
             [
              0.8888888888888888,
              "#fdca26"
             ],
             [
              1,
              "#f0f921"
             ]
            ],
            "type": "heatmapgl"
           }
          ],
          "histogram": [
           {
            "marker": {
             "pattern": {
              "fillmode": "overlay",
              "size": 10,
              "solidity": 0.2
             }
            },
            "type": "histogram"
           }
          ],
          "histogram2d": [
           {
            "colorbar": {
             "outlinewidth": 0,
             "ticks": ""
            },
            "colorscale": [
             [
              0,
              "#0d0887"
             ],
             [
              0.1111111111111111,
              "#46039f"
             ],
             [
              0.2222222222222222,
              "#7201a8"
             ],
             [
              0.3333333333333333,
              "#9c179e"
             ],
             [
              0.4444444444444444,
              "#bd3786"
             ],
             [
              0.5555555555555556,
              "#d8576b"
             ],
             [
              0.6666666666666666,
              "#ed7953"
             ],
             [
              0.7777777777777778,
              "#fb9f3a"
             ],
             [
              0.8888888888888888,
              "#fdca26"
             ],
             [
              1,
              "#f0f921"
             ]
            ],
            "type": "histogram2d"
           }
          ],
          "histogram2dcontour": [
           {
            "colorbar": {
             "outlinewidth": 0,
             "ticks": ""
            },
            "colorscale": [
             [
              0,
              "#0d0887"
             ],
             [
              0.1111111111111111,
              "#46039f"
             ],
             [
              0.2222222222222222,
              "#7201a8"
             ],
             [
              0.3333333333333333,
              "#9c179e"
             ],
             [
              0.4444444444444444,
              "#bd3786"
             ],
             [
              0.5555555555555556,
              "#d8576b"
             ],
             [
              0.6666666666666666,
              "#ed7953"
             ],
             [
              0.7777777777777778,
              "#fb9f3a"
             ],
             [
              0.8888888888888888,
              "#fdca26"
             ],
             [
              1,
              "#f0f921"
             ]
            ],
            "type": "histogram2dcontour"
           }
          ],
          "mesh3d": [
           {
            "colorbar": {
             "outlinewidth": 0,
             "ticks": ""
            },
            "type": "mesh3d"
           }
          ],
          "parcoords": [
           {
            "line": {
             "colorbar": {
              "outlinewidth": 0,
              "ticks": ""
             }
            },
            "type": "parcoords"
           }
          ],
          "pie": [
           {
            "automargin": true,
            "type": "pie"
           }
          ],
          "scatter": [
           {
            "marker": {
             "colorbar": {
              "outlinewidth": 0,
              "ticks": ""
             }
            },
            "type": "scatter"
           }
          ],
          "scatter3d": [
           {
            "line": {
             "colorbar": {
              "outlinewidth": 0,
              "ticks": ""
             }
            },
            "marker": {
             "colorbar": {
              "outlinewidth": 0,
              "ticks": ""
             }
            },
            "type": "scatter3d"
           }
          ],
          "scattercarpet": [
           {
            "marker": {
             "colorbar": {
              "outlinewidth": 0,
              "ticks": ""
             }
            },
            "type": "scattercarpet"
           }
          ],
          "scattergeo": [
           {
            "marker": {
             "colorbar": {
              "outlinewidth": 0,
              "ticks": ""
             }
            },
            "type": "scattergeo"
           }
          ],
          "scattergl": [
           {
            "marker": {
             "colorbar": {
              "outlinewidth": 0,
              "ticks": ""
             }
            },
            "type": "scattergl"
           }
          ],
          "scattermapbox": [
           {
            "marker": {
             "colorbar": {
              "outlinewidth": 0,
              "ticks": ""
             }
            },
            "type": "scattermapbox"
           }
          ],
          "scatterpolar": [
           {
            "marker": {
             "colorbar": {
              "outlinewidth": 0,
              "ticks": ""
             }
            },
            "type": "scatterpolar"
           }
          ],
          "scatterpolargl": [
           {
            "marker": {
             "colorbar": {
              "outlinewidth": 0,
              "ticks": ""
             }
            },
            "type": "scatterpolargl"
           }
          ],
          "scatterternary": [
           {
            "marker": {
             "colorbar": {
              "outlinewidth": 0,
              "ticks": ""
             }
            },
            "type": "scatterternary"
           }
          ],
          "surface": [
           {
            "colorbar": {
             "outlinewidth": 0,
             "ticks": ""
            },
            "colorscale": [
             [
              0,
              "#0d0887"
             ],
             [
              0.1111111111111111,
              "#46039f"
             ],
             [
              0.2222222222222222,
              "#7201a8"
             ],
             [
              0.3333333333333333,
              "#9c179e"
             ],
             [
              0.4444444444444444,
              "#bd3786"
             ],
             [
              0.5555555555555556,
              "#d8576b"
             ],
             [
              0.6666666666666666,
              "#ed7953"
             ],
             [
              0.7777777777777778,
              "#fb9f3a"
             ],
             [
              0.8888888888888888,
              "#fdca26"
             ],
             [
              1,
              "#f0f921"
             ]
            ],
            "type": "surface"
           }
          ],
          "table": [
           {
            "cells": {
             "fill": {
              "color": "#EBF0F8"
             },
             "line": {
              "color": "white"
             }
            },
            "header": {
             "fill": {
              "color": "#C8D4E3"
             },
             "line": {
              "color": "white"
             }
            },
            "type": "table"
           }
          ]
         },
         "layout": {
          "annotationdefaults": {
           "arrowcolor": "#2a3f5f",
           "arrowhead": 0,
           "arrowwidth": 1
          },
          "autotypenumbers": "strict",
          "coloraxis": {
           "colorbar": {
            "outlinewidth": 0,
            "ticks": ""
           }
          },
          "colorscale": {
           "diverging": [
            [
             0,
             "#8e0152"
            ],
            [
             0.1,
             "#c51b7d"
            ],
            [
             0.2,
             "#de77ae"
            ],
            [
             0.3,
             "#f1b6da"
            ],
            [
             0.4,
             "#fde0ef"
            ],
            [
             0.5,
             "#f7f7f7"
            ],
            [
             0.6,
             "#e6f5d0"
            ],
            [
             0.7,
             "#b8e186"
            ],
            [
             0.8,
             "#7fbc41"
            ],
            [
             0.9,
             "#4d9221"
            ],
            [
             1,
             "#276419"
            ]
           ],
           "sequential": [
            [
             0,
             "#0d0887"
            ],
            [
             0.1111111111111111,
             "#46039f"
            ],
            [
             0.2222222222222222,
             "#7201a8"
            ],
            [
             0.3333333333333333,
             "#9c179e"
            ],
            [
             0.4444444444444444,
             "#bd3786"
            ],
            [
             0.5555555555555556,
             "#d8576b"
            ],
            [
             0.6666666666666666,
             "#ed7953"
            ],
            [
             0.7777777777777778,
             "#fb9f3a"
            ],
            [
             0.8888888888888888,
             "#fdca26"
            ],
            [
             1,
             "#f0f921"
            ]
           ],
           "sequentialminus": [
            [
             0,
             "#0d0887"
            ],
            [
             0.1111111111111111,
             "#46039f"
            ],
            [
             0.2222222222222222,
             "#7201a8"
            ],
            [
             0.3333333333333333,
             "#9c179e"
            ],
            [
             0.4444444444444444,
             "#bd3786"
            ],
            [
             0.5555555555555556,
             "#d8576b"
            ],
            [
             0.6666666666666666,
             "#ed7953"
            ],
            [
             0.7777777777777778,
             "#fb9f3a"
            ],
            [
             0.8888888888888888,
             "#fdca26"
            ],
            [
             1,
             "#f0f921"
            ]
           ]
          },
          "colorway": [
           "#636efa",
           "#EF553B",
           "#00cc96",
           "#ab63fa",
           "#FFA15A",
           "#19d3f3",
           "#FF6692",
           "#B6E880",
           "#FF97FF",
           "#FECB52"
          ],
          "font": {
           "color": "#2a3f5f"
          },
          "geo": {
           "bgcolor": "white",
           "lakecolor": "white",
           "landcolor": "#E5ECF6",
           "showlakes": true,
           "showland": true,
           "subunitcolor": "white"
          },
          "hoverlabel": {
           "align": "left"
          },
          "hovermode": "closest",
          "mapbox": {
           "style": "light"
          },
          "paper_bgcolor": "white",
          "plot_bgcolor": "#E5ECF6",
          "polar": {
           "angularaxis": {
            "gridcolor": "white",
            "linecolor": "white",
            "ticks": ""
           },
           "bgcolor": "#E5ECF6",
           "radialaxis": {
            "gridcolor": "white",
            "linecolor": "white",
            "ticks": ""
           }
          },
          "scene": {
           "xaxis": {
            "backgroundcolor": "#E5ECF6",
            "gridcolor": "white",
            "gridwidth": 2,
            "linecolor": "white",
            "showbackground": true,
            "ticks": "",
            "zerolinecolor": "white"
           },
           "yaxis": {
            "backgroundcolor": "#E5ECF6",
            "gridcolor": "white",
            "gridwidth": 2,
            "linecolor": "white",
            "showbackground": true,
            "ticks": "",
            "zerolinecolor": "white"
           },
           "zaxis": {
            "backgroundcolor": "#E5ECF6",
            "gridcolor": "white",
            "gridwidth": 2,
            "linecolor": "white",
            "showbackground": true,
            "ticks": "",
            "zerolinecolor": "white"
           }
          },
          "shapedefaults": {
           "line": {
            "color": "#2a3f5f"
           }
          },
          "ternary": {
           "aaxis": {
            "gridcolor": "white",
            "linecolor": "white",
            "ticks": ""
           },
           "baxis": {
            "gridcolor": "white",
            "linecolor": "white",
            "ticks": ""
           },
           "bgcolor": "#E5ECF6",
           "caxis": {
            "gridcolor": "white",
            "linecolor": "white",
            "ticks": ""
           }
          },
          "title": {
           "x": 0.05
          },
          "xaxis": {
           "automargin": true,
           "gridcolor": "white",
           "linecolor": "white",
           "ticks": "",
           "title": {
            "standoff": 15
           },
           "zerolinecolor": "white",
           "zerolinewidth": 2
          },
          "yaxis": {
           "automargin": true,
           "gridcolor": "white",
           "linecolor": "white",
           "ticks": "",
           "title": {
            "standoff": 15
           },
           "zerolinecolor": "white",
           "zerolinewidth": 2
          }
         }
        },
        "title": {
         "text": "Number of facility vs Cost"
        },
        "xaxis": {
         "anchor": "y",
         "domain": [
          0,
          0.94
         ],
         "title": {
          "text": "Number of facility"
         }
        },
        "yaxis": {
         "anchor": "x",
         "domain": [
          0,
          1
         ],
         "title": {
          "text": "Distance & Time cost"
         }
        },
        "yaxis2": {
         "anchor": "x",
         "overlaying": "y",
         "side": "right",
         "title": {
          "text": "Total cost"
         }
        }
       }
      },
      "text/html": [
       "<div>                            <div id=\"bc96a0f7-c498-493a-9b57-cff615ada3f5\" class=\"plotly-graph-div\" style=\"height:525px; width:100%;\"></div>            <script type=\"text/javascript\">                require([\"plotly\"], function(Plotly) {                    window.PLOTLYENV=window.PLOTLYENV || {};                                    if (document.getElementById(\"bc96a0f7-c498-493a-9b57-cff615ada3f5\")) {                    Plotly.newPlot(                        \"bc96a0f7-c498-493a-9b57-cff615ada3f5\",                        [{\"name\":\"distance cost\",\"type\":\"bar\",\"x\":[1,2,3,4],\"xaxis\":\"x\",\"y\":[2400.5655,1720.5085,1559.73,1577.2999999999997],\"yaxis\":\"y\"},{\"name\":\"time cost\",\"type\":\"bar\",\"x\":[1,2,3,4],\"xaxis\":\"x\",\"y\":[2509.0952,2379.9202,2207.3424000000005,2217.1597],\"yaxis\":\"y\"},{\"name\":\"total cost\",\"type\":\"scatter\",\"x\":[1,2,3,4],\"xaxis\":\"x\",\"y\":[1764909.6607000001,1704100.4286999998,1703767.0724,1703794.4596999998],\"yaxis\":\"y2\"}],                        {\"barmode\":\"stack\",\"template\":{\"data\":{\"bar\":[{\"error_x\":{\"color\":\"#2a3f5f\"},\"error_y\":{\"color\":\"#2a3f5f\"},\"marker\":{\"line\":{\"color\":\"#E5ECF6\",\"width\":0.5},\"pattern\":{\"fillmode\":\"overlay\",\"size\":10,\"solidity\":0.2}},\"type\":\"bar\"}],\"barpolar\":[{\"marker\":{\"line\":{\"color\":\"#E5ECF6\",\"width\":0.5},\"pattern\":{\"fillmode\":\"overlay\",\"size\":10,\"solidity\":0.2}},\"type\":\"barpolar\"}],\"carpet\":[{\"aaxis\":{\"endlinecolor\":\"#2a3f5f\",\"gridcolor\":\"white\",\"linecolor\":\"white\",\"minorgridcolor\":\"white\",\"startlinecolor\":\"#2a3f5f\"},\"baxis\":{\"endlinecolor\":\"#2a3f5f\",\"gridcolor\":\"white\",\"linecolor\":\"white\",\"minorgridcolor\":\"white\",\"startlinecolor\":\"#2a3f5f\"},\"type\":\"carpet\"}],\"choropleth\":[{\"colorbar\":{\"outlinewidth\":0,\"ticks\":\"\"},\"type\":\"choropleth\"}],\"contour\":[{\"colorbar\":{\"outlinewidth\":0,\"ticks\":\"\"},\"colorscale\":[[0.0,\"#0d0887\"],[0.1111111111111111,\"#46039f\"],[0.2222222222222222,\"#7201a8\"],[0.3333333333333333,\"#9c179e\"],[0.4444444444444444,\"#bd3786\"],[0.5555555555555556,\"#d8576b\"],[0.6666666666666666,\"#ed7953\"],[0.7777777777777778,\"#fb9f3a\"],[0.8888888888888888,\"#fdca26\"],[1.0,\"#f0f921\"]],\"type\":\"contour\"}],\"contourcarpet\":[{\"colorbar\":{\"outlinewidth\":0,\"ticks\":\"\"},\"type\":\"contourcarpet\"}],\"heatmap\":[{\"colorbar\":{\"outlinewidth\":0,\"ticks\":\"\"},\"colorscale\":[[0.0,\"#0d0887\"],[0.1111111111111111,\"#46039f\"],[0.2222222222222222,\"#7201a8\"],[0.3333333333333333,\"#9c179e\"],[0.4444444444444444,\"#bd3786\"],[0.5555555555555556,\"#d8576b\"],[0.6666666666666666,\"#ed7953\"],[0.7777777777777778,\"#fb9f3a\"],[0.8888888888888888,\"#fdca26\"],[1.0,\"#f0f921\"]],\"type\":\"heatmap\"}],\"heatmapgl\":[{\"colorbar\":{\"outlinewidth\":0,\"ticks\":\"\"},\"colorscale\":[[0.0,\"#0d0887\"],[0.1111111111111111,\"#46039f\"],[0.2222222222222222,\"#7201a8\"],[0.3333333333333333,\"#9c179e\"],[0.4444444444444444,\"#bd3786\"],[0.5555555555555556,\"#d8576b\"],[0.6666666666666666,\"#ed7953\"],[0.7777777777777778,\"#fb9f3a\"],[0.8888888888888888,\"#fdca26\"],[1.0,\"#f0f921\"]],\"type\":\"heatmapgl\"}],\"histogram\":[{\"marker\":{\"pattern\":{\"fillmode\":\"overlay\",\"size\":10,\"solidity\":0.2}},\"type\":\"histogram\"}],\"histogram2d\":[{\"colorbar\":{\"outlinewidth\":0,\"ticks\":\"\"},\"colorscale\":[[0.0,\"#0d0887\"],[0.1111111111111111,\"#46039f\"],[0.2222222222222222,\"#7201a8\"],[0.3333333333333333,\"#9c179e\"],[0.4444444444444444,\"#bd3786\"],[0.5555555555555556,\"#d8576b\"],[0.6666666666666666,\"#ed7953\"],[0.7777777777777778,\"#fb9f3a\"],[0.8888888888888888,\"#fdca26\"],[1.0,\"#f0f921\"]],\"type\":\"histogram2d\"}],\"histogram2dcontour\":[{\"colorbar\":{\"outlinewidth\":0,\"ticks\":\"\"},\"colorscale\":[[0.0,\"#0d0887\"],[0.1111111111111111,\"#46039f\"],[0.2222222222222222,\"#7201a8\"],[0.3333333333333333,\"#9c179e\"],[0.4444444444444444,\"#bd3786\"],[0.5555555555555556,\"#d8576b\"],[0.6666666666666666,\"#ed7953\"],[0.7777777777777778,\"#fb9f3a\"],[0.8888888888888888,\"#fdca26\"],[1.0,\"#f0f921\"]],\"type\":\"histogram2dcontour\"}],\"mesh3d\":[{\"colorbar\":{\"outlinewidth\":0,\"ticks\":\"\"},\"type\":\"mesh3d\"}],\"parcoords\":[{\"line\":{\"colorbar\":{\"outlinewidth\":0,\"ticks\":\"\"}},\"type\":\"parcoords\"}],\"pie\":[{\"automargin\":true,\"type\":\"pie\"}],\"scatter\":[{\"marker\":{\"colorbar\":{\"outlinewidth\":0,\"ticks\":\"\"}},\"type\":\"scatter\"}],\"scatter3d\":[{\"line\":{\"colorbar\":{\"outlinewidth\":0,\"ticks\":\"\"}},\"marker\":{\"colorbar\":{\"outlinewidth\":0,\"ticks\":\"\"}},\"type\":\"scatter3d\"}],\"scattercarpet\":[{\"marker\":{\"colorbar\":{\"outlinewidth\":0,\"ticks\":\"\"}},\"type\":\"scattercarpet\"}],\"scattergeo\":[{\"marker\":{\"colorbar\":{\"outlinewidth\":0,\"ticks\":\"\"}},\"type\":\"scattergeo\"}],\"scattergl\":[{\"marker\":{\"colorbar\":{\"outlinewidth\":0,\"ticks\":\"\"}},\"type\":\"scattergl\"}],\"scattermapbox\":[{\"marker\":{\"colorbar\":{\"outlinewidth\":0,\"ticks\":\"\"}},\"type\":\"scattermapbox\"}],\"scatterpolar\":[{\"marker\":{\"colorbar\":{\"outlinewidth\":0,\"ticks\":\"\"}},\"type\":\"scatterpolar\"}],\"scatterpolargl\":[{\"marker\":{\"colorbar\":{\"outlinewidth\":0,\"ticks\":\"\"}},\"type\":\"scatterpolargl\"}],\"scatterternary\":[{\"marker\":{\"colorbar\":{\"outlinewidth\":0,\"ticks\":\"\"}},\"type\":\"scatterternary\"}],\"surface\":[{\"colorbar\":{\"outlinewidth\":0,\"ticks\":\"\"},\"colorscale\":[[0.0,\"#0d0887\"],[0.1111111111111111,\"#46039f\"],[0.2222222222222222,\"#7201a8\"],[0.3333333333333333,\"#9c179e\"],[0.4444444444444444,\"#bd3786\"],[0.5555555555555556,\"#d8576b\"],[0.6666666666666666,\"#ed7953\"],[0.7777777777777778,\"#fb9f3a\"],[0.8888888888888888,\"#fdca26\"],[1.0,\"#f0f921\"]],\"type\":\"surface\"}],\"table\":[{\"cells\":{\"fill\":{\"color\":\"#EBF0F8\"},\"line\":{\"color\":\"white\"}},\"header\":{\"fill\":{\"color\":\"#C8D4E3\"},\"line\":{\"color\":\"white\"}},\"type\":\"table\"}]},\"layout\":{\"annotationdefaults\":{\"arrowcolor\":\"#2a3f5f\",\"arrowhead\":0,\"arrowwidth\":1},\"autotypenumbers\":\"strict\",\"coloraxis\":{\"colorbar\":{\"outlinewidth\":0,\"ticks\":\"\"}},\"colorscale\":{\"diverging\":[[0,\"#8e0152\"],[0.1,\"#c51b7d\"],[0.2,\"#de77ae\"],[0.3,\"#f1b6da\"],[0.4,\"#fde0ef\"],[0.5,\"#f7f7f7\"],[0.6,\"#e6f5d0\"],[0.7,\"#b8e186\"],[0.8,\"#7fbc41\"],[0.9,\"#4d9221\"],[1,\"#276419\"]],\"sequential\":[[0.0,\"#0d0887\"],[0.1111111111111111,\"#46039f\"],[0.2222222222222222,\"#7201a8\"],[0.3333333333333333,\"#9c179e\"],[0.4444444444444444,\"#bd3786\"],[0.5555555555555556,\"#d8576b\"],[0.6666666666666666,\"#ed7953\"],[0.7777777777777778,\"#fb9f3a\"],[0.8888888888888888,\"#fdca26\"],[1.0,\"#f0f921\"]],\"sequentialminus\":[[0.0,\"#0d0887\"],[0.1111111111111111,\"#46039f\"],[0.2222222222222222,\"#7201a8\"],[0.3333333333333333,\"#9c179e\"],[0.4444444444444444,\"#bd3786\"],[0.5555555555555556,\"#d8576b\"],[0.6666666666666666,\"#ed7953\"],[0.7777777777777778,\"#fb9f3a\"],[0.8888888888888888,\"#fdca26\"],[1.0,\"#f0f921\"]]},\"colorway\":[\"#636efa\",\"#EF553B\",\"#00cc96\",\"#ab63fa\",\"#FFA15A\",\"#19d3f3\",\"#FF6692\",\"#B6E880\",\"#FF97FF\",\"#FECB52\"],\"font\":{\"color\":\"#2a3f5f\"},\"geo\":{\"bgcolor\":\"white\",\"lakecolor\":\"white\",\"landcolor\":\"#E5ECF6\",\"showlakes\":true,\"showland\":true,\"subunitcolor\":\"white\"},\"hoverlabel\":{\"align\":\"left\"},\"hovermode\":\"closest\",\"mapbox\":{\"style\":\"light\"},\"paper_bgcolor\":\"white\",\"plot_bgcolor\":\"#E5ECF6\",\"polar\":{\"angularaxis\":{\"gridcolor\":\"white\",\"linecolor\":\"white\",\"ticks\":\"\"},\"bgcolor\":\"#E5ECF6\",\"radialaxis\":{\"gridcolor\":\"white\",\"linecolor\":\"white\",\"ticks\":\"\"}},\"scene\":{\"xaxis\":{\"backgroundcolor\":\"#E5ECF6\",\"gridcolor\":\"white\",\"gridwidth\":2,\"linecolor\":\"white\",\"showbackground\":true,\"ticks\":\"\",\"zerolinecolor\":\"white\"},\"yaxis\":{\"backgroundcolor\":\"#E5ECF6\",\"gridcolor\":\"white\",\"gridwidth\":2,\"linecolor\":\"white\",\"showbackground\":true,\"ticks\":\"\",\"zerolinecolor\":\"white\"},\"zaxis\":{\"backgroundcolor\":\"#E5ECF6\",\"gridcolor\":\"white\",\"gridwidth\":2,\"linecolor\":\"white\",\"showbackground\":true,\"ticks\":\"\",\"zerolinecolor\":\"white\"}},\"shapedefaults\":{\"line\":{\"color\":\"#2a3f5f\"}},\"ternary\":{\"aaxis\":{\"gridcolor\":\"white\",\"linecolor\":\"white\",\"ticks\":\"\"},\"baxis\":{\"gridcolor\":\"white\",\"linecolor\":\"white\",\"ticks\":\"\"},\"bgcolor\":\"#E5ECF6\",\"caxis\":{\"gridcolor\":\"white\",\"linecolor\":\"white\",\"ticks\":\"\"}},\"title\":{\"x\":0.05},\"xaxis\":{\"automargin\":true,\"gridcolor\":\"white\",\"linecolor\":\"white\",\"ticks\":\"\",\"title\":{\"standoff\":15},\"zerolinecolor\":\"white\",\"zerolinewidth\":2},\"yaxis\":{\"automargin\":true,\"gridcolor\":\"white\",\"linecolor\":\"white\",\"ticks\":\"\",\"title\":{\"standoff\":15},\"zerolinecolor\":\"white\",\"zerolinewidth\":2}}},\"title\":{\"text\":\"Number of facility vs Cost\"},\"xaxis\":{\"anchor\":\"y\",\"domain\":[0.0,0.94],\"title\":{\"text\":\"Number of facility\"}},\"yaxis\":{\"anchor\":\"x\",\"domain\":[0.0,1.0],\"title\":{\"text\":\"Distance & Time cost\"}},\"yaxis2\":{\"anchor\":\"x\",\"overlaying\":\"y\",\"side\":\"right\",\"title\":{\"text\":\"Total cost\"}}},                        {\"responsive\": true}                    ).then(function(){\n",
       "                            \n",
       "var gd = document.getElementById('bc96a0f7-c498-493a-9b57-cff615ada3f5');\n",
       "var x = new MutationObserver(function (mutations, observer) {{\n",
       "        var display = window.getComputedStyle(gd).display;\n",
       "        if (!display || display === 'none') {{\n",
       "            console.log([gd, 'removed!']);\n",
       "            Plotly.purge(gd);\n",
       "            observer.disconnect();\n",
       "        }}\n",
       "}});\n",
       "\n",
       "// Listen for the removal of the full notebook cells\n",
       "var notebookContainer = gd.closest('#notebook-container');\n",
       "if (notebookContainer) {{\n",
       "    x.observe(notebookContainer, {childList: true});\n",
       "}}\n",
       "\n",
       "// Listen for the clearing of the current output cell\n",
       "var outputEl = gd.closest('.output');\n",
       "if (outputEl) {{\n",
       "    x.observe(outputEl, {childList: true});\n",
       "}}\n",
       "\n",
       "                        })                };                });            </script>        </div>"
      ]
     },
     "metadata": {},
     "output_type": "display_data"
    }
   ],
   "source": [
    "fig = make_subplots(specs=[[{\"secondary_y\": True}]])\n",
    "fig.add_trace(go.Bar(x=dc_list, y=data_output.iloc[:, 2], name='distance cost'), secondary_y=False)\n",
    "fig.add_trace(go.Bar(x=dc_list, y=data_output.iloc[:, 3], name='time cost'), secondary_y=False)\n",
    "fig.add_trace(go.Scatter(x=dc_list, y=data_output['cost'], name='total cost'), secondary_y=True)\n",
    "# fig.add_trace(go.Bar(x=dc_list, y=data_output.iloc[:, 4], name='vehicle'))\n",
    "fig.update_xaxes(title_text=\"Number of facility\")\n",
    "fig.update_yaxes(title_text=\"Distance & Time cost\", secondary_y=False)\n",
    "fig.update_yaxes(title_text=\"Total cost\", secondary_y=True)\n",
    "fig.update_layout(title_text=\"Number of facility vs Cost\", barmode='stack')\n",
    "fig.show()"
   ]
  },
  {
   "cell_type": "code",
   "execution_count": null,
   "metadata": {},
   "outputs": [],
   "source": []
  }
 ],
 "metadata": {
  "kernelspec": {
   "display_name": "Python 3 (ipykernel)",
   "language": "python",
   "name": "python3"
  },
  "language_info": {
   "codemirror_mode": {
    "name": "ipython",
    "version": 3
   },
   "file_extension": ".py",
   "mimetype": "text/x-python",
   "name": "python",
   "nbconvert_exporter": "python",
   "pygments_lexer": "ipython3",
   "version": "3.7.7"
  },
  "toc": {
   "base_numbering": 1,
   "nav_menu": {},
   "number_sections": true,
   "sideBar": true,
   "skip_h1_title": false,
   "title_cell": "Table of Contents",
   "title_sidebar": "Contents",
   "toc_cell": false,
   "toc_position": {},
   "toc_section_display": true,
   "toc_window_display": true
  }
 },
 "nbformat": 4,
 "nbformat_minor": 4
}
