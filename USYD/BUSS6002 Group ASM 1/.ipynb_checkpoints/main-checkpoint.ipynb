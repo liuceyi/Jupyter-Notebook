{
 "cells": [
  {
   "cell_type": "markdown",
   "metadata": {},
   "source": [
    "# 1. Ready for EDA"
   ]
  },
  {
   "cell_type": "markdown",
   "metadata": {},
   "source": [
    "## 1.1 Required libraries\n",
    "This EDA needs to import:\n",
    "* numpy\n",
    "* pandas\n",
    "* matplotlib\n",
    "* sqlite3\n",
    "* sklearn"
   ]
  },
  {
   "cell_type": "code",
   "execution_count": 354,
   "metadata": {},
   "outputs": [],
   "source": [
    "# For SQL\n",
    "import sqlite3\n",
    "\n",
    "# For data process\n",
    "import pandas as pd\n",
    "import numpy as np\n",
    "\n",
    "# For model\n",
    "from sklearn.model_selection import train_test_split\n",
    "from sklearn.linear_model import LogisticRegression\n",
    "from sklearn.linear_model import LinearRegression\n",
    "import sklearn\n",
    "import statsmodels.api as sm\n",
    "from sklearn.metrics import mean_squared_error as mse \n",
    "\n",
    "# For graphic\n",
    "import matplotlib.pyplot as plt"
   ]
  },
  {
   "cell_type": "markdown",
   "metadata": {},
   "source": [
    "## 1.2 Loading data\n",
    "The data is stored in the database file '*cafe_insomnia.sqlite*'. To load the data, a connection to this database is needed."
   ]
  },
  {
   "cell_type": "code",
   "execution_count": 355,
   "metadata": {},
   "outputs": [],
   "source": [
    "conn = sqlite3.connect('dataset/cafe_insomnia.sqlite')"
   ]
  },
  {
   "cell_type": "code",
   "execution_count": 356,
   "metadata": {
    "scrolled": false
   },
   "outputs": [
    {
     "data": {
      "text/html": [
       "<div>\n",
       "<style scoped>\n",
       "    .dataframe tbody tr th:only-of-type {\n",
       "        vertical-align: middle;\n",
       "    }\n",
       "\n",
       "    .dataframe tbody tr th {\n",
       "        vertical-align: top;\n",
       "    }\n",
       "\n",
       "    .dataframe thead th {\n",
       "        text-align: right;\n",
       "    }\n",
       "</style>\n",
       "<table border=\"1\" class=\"dataframe\">\n",
       "  <thead>\n",
       "    <tr style=\"text-align: right;\">\n",
       "      <th></th>\n",
       "      <th>id</th>\n",
       "      <th>date</th>\n",
       "      <th>days_after_open</th>\n",
       "      <th>day_of_week</th>\n",
       "      <th>hours_after_open</th>\n",
       "      <th>drink_id</th>\n",
       "      <th>quantity</th>\n",
       "      <th>raining</th>\n",
       "      <th>study_area_id</th>\n",
       "      <th>location_name</th>\n",
       "      <th>dist_to_cafe</th>\n",
       "      <th>drink_name</th>\n",
       "      <th>order_sales</th>\n",
       "    </tr>\n",
       "  </thead>\n",
       "  <tbody>\n",
       "    <tr>\n",
       "      <th>0</th>\n",
       "      <td>0</td>\n",
       "      <td>2019-07-22</td>\n",
       "      <td>0</td>\n",
       "      <td>Mon</td>\n",
       "      <td>0</td>\n",
       "      <td>5</td>\n",
       "      <td>1</td>\n",
       "      <td>No</td>\n",
       "      <td>3</td>\n",
       "      <td>Abercrombie (H70)</td>\n",
       "      <td>700.0</td>\n",
       "      <td>Flat White (L)</td>\n",
       "      <td>4.9</td>\n",
       "    </tr>\n",
       "    <tr>\n",
       "      <th>1</th>\n",
       "      <td>1</td>\n",
       "      <td>2019-07-22</td>\n",
       "      <td>0</td>\n",
       "      <td>Mon</td>\n",
       "      <td>0</td>\n",
       "      <td>5</td>\n",
       "      <td>1</td>\n",
       "      <td>No</td>\n",
       "      <td>1</td>\n",
       "      <td>Law Library (F10)</td>\n",
       "      <td>84.0</td>\n",
       "      <td>Flat White (L)</td>\n",
       "      <td>4.9</td>\n",
       "    </tr>\n",
       "    <tr>\n",
       "      <th>2</th>\n",
       "      <td>2</td>\n",
       "      <td>2019-07-22</td>\n",
       "      <td>0</td>\n",
       "      <td>Mon</td>\n",
       "      <td>0</td>\n",
       "      <td>2</td>\n",
       "      <td>1</td>\n",
       "      <td>No</td>\n",
       "      <td>5</td>\n",
       "      <td>Carslaw (F07)</td>\n",
       "      <td>150.0</td>\n",
       "      <td>Macchiato</td>\n",
       "      <td>3.8</td>\n",
       "    </tr>\n",
       "    <tr>\n",
       "      <th>3</th>\n",
       "      <td>3</td>\n",
       "      <td>2019-07-22</td>\n",
       "      <td>0</td>\n",
       "      <td>Mon</td>\n",
       "      <td>0</td>\n",
       "      <td>2</td>\n",
       "      <td>1</td>\n",
       "      <td>No</td>\n",
       "      <td>6</td>\n",
       "      <td>Peter Nicol Russell (PNR)</td>\n",
       "      <td>950.0</td>\n",
       "      <td>Macchiato</td>\n",
       "      <td>3.8</td>\n",
       "    </tr>\n",
       "    <tr>\n",
       "      <th>4</th>\n",
       "      <td>4</td>\n",
       "      <td>2019-07-22</td>\n",
       "      <td>0</td>\n",
       "      <td>Mon</td>\n",
       "      <td>0</td>\n",
       "      <td>5</td>\n",
       "      <td>1</td>\n",
       "      <td>No</td>\n",
       "      <td>5</td>\n",
       "      <td>Carslaw (F07)</td>\n",
       "      <td>150.0</td>\n",
       "      <td>Flat White (L)</td>\n",
       "      <td>4.9</td>\n",
       "    </tr>\n",
       "    <tr>\n",
       "      <th>...</th>\n",
       "      <td>...</td>\n",
       "      <td>...</td>\n",
       "      <td>...</td>\n",
       "      <td>...</td>\n",
       "      <td>...</td>\n",
       "      <td>...</td>\n",
       "      <td>...</td>\n",
       "      <td>...</td>\n",
       "      <td>...</td>\n",
       "      <td>...</td>\n",
       "      <td>...</td>\n",
       "      <td>...</td>\n",
       "      <td>...</td>\n",
       "    </tr>\n",
       "    <tr>\n",
       "      <th>27709</th>\n",
       "      <td>27709</td>\n",
       "      <td>2019-12-22</td>\n",
       "      <td>153</td>\n",
       "      <td>Sun</td>\n",
       "      <td>5</td>\n",
       "      <td>14</td>\n",
       "      <td>2</td>\n",
       "      <td>No</td>\n",
       "      <td>3</td>\n",
       "      <td>Abercrombie (H70)</td>\n",
       "      <td>700.0</td>\n",
       "      <td>Mocha (S)</td>\n",
       "      <td>9.0</td>\n",
       "    </tr>\n",
       "    <tr>\n",
       "      <th>27710</th>\n",
       "      <td>27710</td>\n",
       "      <td>2019-12-22</td>\n",
       "      <td>153</td>\n",
       "      <td>Sun</td>\n",
       "      <td>5</td>\n",
       "      <td>6</td>\n",
       "      <td>1</td>\n",
       "      <td>No</td>\n",
       "      <td>3</td>\n",
       "      <td>Abercrombie (H70)</td>\n",
       "      <td>700.0</td>\n",
       "      <td>Flat White (S)</td>\n",
       "      <td>4.0</td>\n",
       "    </tr>\n",
       "    <tr>\n",
       "      <th>27711</th>\n",
       "      <td>27711</td>\n",
       "      <td>2019-12-22</td>\n",
       "      <td>153</td>\n",
       "      <td>Sun</td>\n",
       "      <td>5</td>\n",
       "      <td>12</td>\n",
       "      <td>1</td>\n",
       "      <td>No</td>\n",
       "      <td>0</td>\n",
       "      <td>Fisher Library (F03)</td>\n",
       "      <td>70.0</td>\n",
       "      <td>Chai Latte (S)</td>\n",
       "      <td>3.6</td>\n",
       "    </tr>\n",
       "    <tr>\n",
       "      <th>27712</th>\n",
       "      <td>27712</td>\n",
       "      <td>2019-12-22</td>\n",
       "      <td>153</td>\n",
       "      <td>Sun</td>\n",
       "      <td>5</td>\n",
       "      <td>9</td>\n",
       "      <td>1</td>\n",
       "      <td>No</td>\n",
       "      <td>4</td>\n",
       "      <td>Brennan MacCallum (A18)</td>\n",
       "      <td>350.0</td>\n",
       "      <td>Cappuccino (L)</td>\n",
       "      <td>4.9</td>\n",
       "    </tr>\n",
       "    <tr>\n",
       "      <th>27713</th>\n",
       "      <td>27713</td>\n",
       "      <td>2019-12-22</td>\n",
       "      <td>153</td>\n",
       "      <td>Sun</td>\n",
       "      <td>5</td>\n",
       "      <td>9</td>\n",
       "      <td>1</td>\n",
       "      <td>No</td>\n",
       "      <td>3</td>\n",
       "      <td>Abercrombie (H70)</td>\n",
       "      <td>700.0</td>\n",
       "      <td>Cappuccino (L)</td>\n",
       "      <td>4.9</td>\n",
       "    </tr>\n",
       "  </tbody>\n",
       "</table>\n",
       "<p>27714 rows × 13 columns</p>\n",
       "</div>"
      ],
      "text/plain": [
       "          id        date  days_after_open day_of_week  hours_after_open  \\\n",
       "0          0  2019-07-22                0         Mon                 0   \n",
       "1          1  2019-07-22                0         Mon                 0   \n",
       "2          2  2019-07-22                0         Mon                 0   \n",
       "3          3  2019-07-22                0         Mon                 0   \n",
       "4          4  2019-07-22                0         Mon                 0   \n",
       "...      ...         ...              ...         ...               ...   \n",
       "27709  27709  2019-12-22              153         Sun                 5   \n",
       "27710  27710  2019-12-22              153         Sun                 5   \n",
       "27711  27711  2019-12-22              153         Sun                 5   \n",
       "27712  27712  2019-12-22              153         Sun                 5   \n",
       "27713  27713  2019-12-22              153         Sun                 5   \n",
       "\n",
       "       drink_id  quantity raining  study_area_id              location_name  \\\n",
       "0             5         1      No              3          Abercrombie (H70)   \n",
       "1             5         1      No              1          Law Library (F10)   \n",
       "2             2         1      No              5              Carslaw (F07)   \n",
       "3             2         1      No              6  Peter Nicol Russell (PNR)   \n",
       "4             5         1      No              5              Carslaw (F07)   \n",
       "...         ...       ...     ...            ...                        ...   \n",
       "27709        14         2      No              3          Abercrombie (H70)   \n",
       "27710         6         1      No              3          Abercrombie (H70)   \n",
       "27711        12         1      No              0       Fisher Library (F03)   \n",
       "27712         9         1      No              4    Brennan MacCallum (A18)   \n",
       "27713         9         1      No              3          Abercrombie (H70)   \n",
       "\n",
       "       dist_to_cafe      drink_name  order_sales  \n",
       "0             700.0  Flat White (L)          4.9  \n",
       "1              84.0  Flat White (L)          4.9  \n",
       "2             150.0       Macchiato          3.8  \n",
       "3             950.0       Macchiato          3.8  \n",
       "4             150.0  Flat White (L)          4.9  \n",
       "...             ...             ...          ...  \n",
       "27709         700.0       Mocha (S)          9.0  \n",
       "27710         700.0  Flat White (S)          4.0  \n",
       "27711          70.0  Chai Latte (S)          3.6  \n",
       "27712         350.0  Cappuccino (L)          4.9  \n",
       "27713         700.0  Cappuccino (L)          4.9  \n",
       "\n",
       "[27714 rows x 13 columns]"
      ]
     },
     "execution_count": 356,
     "metadata": {},
     "output_type": "execute_result"
    }
   ],
   "source": [
    "# Connect to database\n",
    "query = '''\n",
    "    SELECT c.*, s.name AS location_name, s.dist_to_cafe, d.name AS drink_name, c.quantity * d.unit_price AS order_sales\n",
    "    FROM (ci_transaction c LEFT JOIN drink d ON c.drink_id = d.id)\n",
    "    LEFT JOIN study_area s\n",
    "    ON c.study_area_id = s.id\n",
    "    '''\n",
    "data = pd.read_sql(query,conn)\n",
    "data"
   ]
  },
  {
   "cell_type": "markdown",
   "metadata": {},
   "source": [
    "## 1.3 Data Cleansing\n",
    "Data cleansing is inevitable. Firstly, dirty data should be detected, including empty values and missing values."
   ]
  },
  {
   "cell_type": "markdown",
   "metadata": {},
   "source": [
    "### 1.3.1 Missing values\n",
    "As the information in data dictionary, it's easy to find that there is some different types of missing data in the dataset, including '***NA***' in the '*raining*' column, and '***-1***' in the '*study_area_id*' column.\n",
    "<br><br>\n",
    "It is common to find that _raining_ is a boolean variable in the demension of _hours_after_open_, which means that only one result can occur (True & False) in an hour of a single day."
   ]
  },
  {
   "cell_type": "code",
   "execution_count": 357,
   "metadata": {
    "scrolled": false
   },
   "outputs": [
    {
     "data": {
      "text/html": [
       "<div>\n",
       "<style scoped>\n",
       "    .dataframe tbody tr th:only-of-type {\n",
       "        vertical-align: middle;\n",
       "    }\n",
       "\n",
       "    .dataframe tbody tr th {\n",
       "        vertical-align: top;\n",
       "    }\n",
       "\n",
       "    .dataframe thead th {\n",
       "        text-align: right;\n",
       "    }\n",
       "</style>\n",
       "<table border=\"1\" class=\"dataframe\">\n",
       "  <thead>\n",
       "    <tr style=\"text-align: right;\">\n",
       "      <th></th>\n",
       "      <th>id</th>\n",
       "      <th>date</th>\n",
       "      <th>days_after_open</th>\n",
       "      <th>day_of_week</th>\n",
       "      <th>hours_after_open</th>\n",
       "      <th>drink_id</th>\n",
       "      <th>quantity</th>\n",
       "      <th>raining</th>\n",
       "      <th>study_area_id</th>\n",
       "      <th>location_name</th>\n",
       "      <th>dist_to_cafe</th>\n",
       "      <th>drink_name</th>\n",
       "      <th>order_sales</th>\n",
       "    </tr>\n",
       "  </thead>\n",
       "  <tbody>\n",
       "    <tr>\n",
       "      <th>34</th>\n",
       "      <td>34</td>\n",
       "      <td>2019-07-22</td>\n",
       "      <td>0</td>\n",
       "      <td>Mon</td>\n",
       "      <td>3</td>\n",
       "      <td>1</td>\n",
       "      <td>1</td>\n",
       "      <td>No</td>\n",
       "      <td>-1</td>\n",
       "      <td>None</td>\n",
       "      <td>NaN</td>\n",
       "      <td>Ristretto</td>\n",
       "      <td>3.3</td>\n",
       "    </tr>\n",
       "    <tr>\n",
       "      <th>79</th>\n",
       "      <td>79</td>\n",
       "      <td>2019-07-23</td>\n",
       "      <td>1</td>\n",
       "      <td>Tue</td>\n",
       "      <td>2</td>\n",
       "      <td>9</td>\n",
       "      <td>1</td>\n",
       "      <td>No</td>\n",
       "      <td>-1</td>\n",
       "      <td>None</td>\n",
       "      <td>NaN</td>\n",
       "      <td>Cappuccino (L)</td>\n",
       "      <td>4.9</td>\n",
       "    </tr>\n",
       "    <tr>\n",
       "      <th>136</th>\n",
       "      <td>136</td>\n",
       "      <td>2019-07-24</td>\n",
       "      <td>2</td>\n",
       "      <td>Wed</td>\n",
       "      <td>1</td>\n",
       "      <td>14</td>\n",
       "      <td>1</td>\n",
       "      <td>No</td>\n",
       "      <td>-1</td>\n",
       "      <td>None</td>\n",
       "      <td>NaN</td>\n",
       "      <td>Mocha (S)</td>\n",
       "      <td>4.5</td>\n",
       "    </tr>\n",
       "    <tr>\n",
       "      <th>182</th>\n",
       "      <td>182</td>\n",
       "      <td>2019-07-25</td>\n",
       "      <td>3</td>\n",
       "      <td>Thu</td>\n",
       "      <td>0</td>\n",
       "      <td>4</td>\n",
       "      <td>3</td>\n",
       "      <td>Yes</td>\n",
       "      <td>-1</td>\n",
       "      <td>None</td>\n",
       "      <td>NaN</td>\n",
       "      <td>Long Black (S)</td>\n",
       "      <td>11.4</td>\n",
       "    </tr>\n",
       "    <tr>\n",
       "      <th>200</th>\n",
       "      <td>200</td>\n",
       "      <td>2019-07-25</td>\n",
       "      <td>3</td>\n",
       "      <td>Thu</td>\n",
       "      <td>1</td>\n",
       "      <td>7</td>\n",
       "      <td>1</td>\n",
       "      <td>No</td>\n",
       "      <td>-1</td>\n",
       "      <td>None</td>\n",
       "      <td>NaN</td>\n",
       "      <td>Latte (L)</td>\n",
       "      <td>4.9</td>\n",
       "    </tr>\n",
       "    <tr>\n",
       "      <th>...</th>\n",
       "      <td>...</td>\n",
       "      <td>...</td>\n",
       "      <td>...</td>\n",
       "      <td>...</td>\n",
       "      <td>...</td>\n",
       "      <td>...</td>\n",
       "      <td>...</td>\n",
       "      <td>...</td>\n",
       "      <td>...</td>\n",
       "      <td>...</td>\n",
       "      <td>...</td>\n",
       "      <td>...</td>\n",
       "      <td>...</td>\n",
       "    </tr>\n",
       "    <tr>\n",
       "      <th>27474</th>\n",
       "      <td>27474</td>\n",
       "      <td>2019-12-22</td>\n",
       "      <td>153</td>\n",
       "      <td>Sun</td>\n",
       "      <td>1</td>\n",
       "      <td>7</td>\n",
       "      <td>1</td>\n",
       "      <td>No</td>\n",
       "      <td>-1</td>\n",
       "      <td>None</td>\n",
       "      <td>NaN</td>\n",
       "      <td>Latte (L)</td>\n",
       "      <td>4.9</td>\n",
       "    </tr>\n",
       "    <tr>\n",
       "      <th>27499</th>\n",
       "      <td>27499</td>\n",
       "      <td>2019-12-22</td>\n",
       "      <td>153</td>\n",
       "      <td>Sun</td>\n",
       "      <td>2</td>\n",
       "      <td>5</td>\n",
       "      <td>3</td>\n",
       "      <td>No</td>\n",
       "      <td>-1</td>\n",
       "      <td>None</td>\n",
       "      <td>NaN</td>\n",
       "      <td>Flat White (L)</td>\n",
       "      <td>14.7</td>\n",
       "    </tr>\n",
       "    <tr>\n",
       "      <th>27605</th>\n",
       "      <td>27605</td>\n",
       "      <td>2019-12-22</td>\n",
       "      <td>153</td>\n",
       "      <td>Sun</td>\n",
       "      <td>4</td>\n",
       "      <td>1</td>\n",
       "      <td>1</td>\n",
       "      <td>No</td>\n",
       "      <td>-1</td>\n",
       "      <td>None</td>\n",
       "      <td>NaN</td>\n",
       "      <td>Ristretto</td>\n",
       "      <td>3.3</td>\n",
       "    </tr>\n",
       "    <tr>\n",
       "      <th>27619</th>\n",
       "      <td>27619</td>\n",
       "      <td>2019-12-22</td>\n",
       "      <td>153</td>\n",
       "      <td>Sun</td>\n",
       "      <td>4</td>\n",
       "      <td>9</td>\n",
       "      <td>1</td>\n",
       "      <td>No</td>\n",
       "      <td>-1</td>\n",
       "      <td>None</td>\n",
       "      <td>NaN</td>\n",
       "      <td>Cappuccino (L)</td>\n",
       "      <td>4.9</td>\n",
       "    </tr>\n",
       "    <tr>\n",
       "      <th>27661</th>\n",
       "      <td>27661</td>\n",
       "      <td>2019-12-22</td>\n",
       "      <td>153</td>\n",
       "      <td>Sun</td>\n",
       "      <td>5</td>\n",
       "      <td>2</td>\n",
       "      <td>1</td>\n",
       "      <td>No</td>\n",
       "      <td>-1</td>\n",
       "      <td>None</td>\n",
       "      <td>NaN</td>\n",
       "      <td>Macchiato</td>\n",
       "      <td>3.8</td>\n",
       "    </tr>\n",
       "  </tbody>\n",
       "</table>\n",
       "<p>543 rows × 13 columns</p>\n",
       "</div>"
      ],
      "text/plain": [
       "          id        date  days_after_open day_of_week  hours_after_open  \\\n",
       "34        34  2019-07-22                0         Mon                 3   \n",
       "79        79  2019-07-23                1         Tue                 2   \n",
       "136      136  2019-07-24                2         Wed                 1   \n",
       "182      182  2019-07-25                3         Thu                 0   \n",
       "200      200  2019-07-25                3         Thu                 1   \n",
       "...      ...         ...              ...         ...               ...   \n",
       "27474  27474  2019-12-22              153         Sun                 1   \n",
       "27499  27499  2019-12-22              153         Sun                 2   \n",
       "27605  27605  2019-12-22              153         Sun                 4   \n",
       "27619  27619  2019-12-22              153         Sun                 4   \n",
       "27661  27661  2019-12-22              153         Sun                 5   \n",
       "\n",
       "       drink_id  quantity raining  study_area_id location_name  dist_to_cafe  \\\n",
       "34            1         1      No             -1          None           NaN   \n",
       "79            9         1      No             -1          None           NaN   \n",
       "136          14         1      No             -1          None           NaN   \n",
       "182           4         3     Yes             -1          None           NaN   \n",
       "200           7         1      No             -1          None           NaN   \n",
       "...         ...       ...     ...            ...           ...           ...   \n",
       "27474         7         1      No             -1          None           NaN   \n",
       "27499         5         3      No             -1          None           NaN   \n",
       "27605         1         1      No             -1          None           NaN   \n",
       "27619         9         1      No             -1          None           NaN   \n",
       "27661         2         1      No             -1          None           NaN   \n",
       "\n",
       "           drink_name  order_sales  \n",
       "34          Ristretto          3.3  \n",
       "79     Cappuccino (L)          4.9  \n",
       "136         Mocha (S)          4.5  \n",
       "182    Long Black (S)         11.4  \n",
       "200         Latte (L)          4.9  \n",
       "...               ...          ...  \n",
       "27474       Latte (L)          4.9  \n",
       "27499  Flat White (L)         14.7  \n",
       "27605       Ristretto          3.3  \n",
       "27619  Cappuccino (L)          4.9  \n",
       "27661       Macchiato          3.8  \n",
       "\n",
       "[543 rows x 13 columns]"
      ]
     },
     "execution_count": 357,
     "metadata": {},
     "output_type": "execute_result"
    }
   ],
   "source": [
    "# Fill up missing values\n",
    "def fill_rain(arr):\n",
    "    if arr['raining'] == 'NA':\n",
    "        day = arr['days_after_open']\n",
    "        hour = arr['hours_after_open']\n",
    "        rain = data.query('days_after_open==@day & hours_after_open==@hour')['raining'].drop_duplicates()\n",
    "        rain = rain[rain!='NA'].values[0]\n",
    "    else:\n",
    "        rain = arr['raining']\n",
    "    return rain\n",
    "\n",
    "data['raining'] = data.apply(fill_rain, axis=1)\n",
    "data[data['study_area_id']==-1]"
   ]
  },
  {
   "cell_type": "markdown",
   "metadata": {},
   "source": [
    "### 1.3.2 Empty values\n"
   ]
  },
  {
   "cell_type": "code",
   "execution_count": 358,
   "metadata": {},
   "outputs": [
    {
     "data": {
      "text/plain": [
       "(27714, 13)"
      ]
     },
     "execution_count": 358,
     "metadata": {},
     "output_type": "execute_result"
    }
   ],
   "source": [
    "# Delete empty values\n",
    "data = data.fillna({'name':'unknown'})\n",
    "data.shape"
   ]
  },
  {
   "cell_type": "markdown",
   "metadata": {},
   "source": [
    "### 1.3.3 Data quality check\n",
    "Double check to detect if there is any empty value in the dataset."
   ]
  },
  {
   "cell_type": "code",
   "execution_count": 359,
   "metadata": {},
   "outputs": [
    {
     "data": {
      "text/plain": [
       "id                  False\n",
       "date                False\n",
       "days_after_open     False\n",
       "day_of_week         False\n",
       "hours_after_open    False\n",
       "drink_id            False\n",
       "quantity            False\n",
       "raining             False\n",
       "study_area_id       False\n",
       "location_name        True\n",
       "dist_to_cafe         True\n",
       "drink_name          False\n",
       "order_sales         False\n",
       "dtype: bool"
      ]
     },
     "execution_count": 359,
     "metadata": {},
     "output_type": "execute_result"
    }
   ],
   "source": [
    "data.isnull().any()"
   ]
  },
  {
   "cell_type": "markdown",
   "metadata": {},
   "source": [
    "All returns are **False**, which means that it doesn't have a empty value."
   ]
  },
  {
   "cell_type": "markdown",
   "metadata": {},
   "source": [
    "# 2. EDA"
   ]
  },
  {
   "cell_type": "markdown",
   "metadata": {},
   "source": [
    "## 2.1 Days after open\n",
    "\n",
    "Number of days since the pop-up store opened."
   ]
  },
  {
   "cell_type": "code",
   "execution_count": 360,
   "metadata": {},
   "outputs": [
    {
     "data": {
      "text/html": [
       "<div>\n",
       "<style scoped>\n",
       "    .dataframe tbody tr th:only-of-type {\n",
       "        vertical-align: middle;\n",
       "    }\n",
       "\n",
       "    .dataframe tbody tr th {\n",
       "        vertical-align: top;\n",
       "    }\n",
       "\n",
       "    .dataframe thead th {\n",
       "        text-align: right;\n",
       "    }\n",
       "</style>\n",
       "<table border=\"1\" class=\"dataframe\">\n",
       "  <thead>\n",
       "    <tr style=\"text-align: right;\">\n",
       "      <th></th>\n",
       "      <th>days_after_open</th>\n",
       "      <th>hours_after_open</th>\n",
       "      <th>order_sales</th>\n",
       "    </tr>\n",
       "  </thead>\n",
       "  <tbody>\n",
       "    <tr>\n",
       "      <th>0</th>\n",
       "      <td>0</td>\n",
       "      <td>0</td>\n",
       "      <td>49.0</td>\n",
       "    </tr>\n",
       "    <tr>\n",
       "      <th>1</th>\n",
       "      <td>0</td>\n",
       "      <td>1</td>\n",
       "      <td>83.6</td>\n",
       "    </tr>\n",
       "    <tr>\n",
       "      <th>2</th>\n",
       "      <td>0</td>\n",
       "      <td>2</td>\n",
       "      <td>37.3</td>\n",
       "    </tr>\n",
       "    <tr>\n",
       "      <th>3</th>\n",
       "      <td>0</td>\n",
       "      <td>3</td>\n",
       "      <td>53.9</td>\n",
       "    </tr>\n",
       "    <tr>\n",
       "      <th>4</th>\n",
       "      <td>0</td>\n",
       "      <td>4</td>\n",
       "      <td>16.1</td>\n",
       "    </tr>\n",
       "  </tbody>\n",
       "</table>\n",
       "</div>"
      ],
      "text/plain": [
       "   days_after_open  hours_after_open  order_sales\n",
       "0                0                 0         49.0\n",
       "1                0                 1         83.6\n",
       "2                0                 2         37.3\n",
       "3                0                 3         53.9\n",
       "4                0                 4         16.1"
      ]
     },
     "execution_count": 360,
     "metadata": {},
     "output_type": "execute_result"
    }
   ],
   "source": [
    "data_q1 = data.groupby(['days_after_open','hours_after_open'],as_index=False)['order_sales'].sum()\n",
    "data_q1.head()"
   ]
  },
  {
   "cell_type": "code",
   "execution_count": 372,
   "metadata": {
    "scrolled": false
   },
   "outputs": [
    {
     "data": {
      "image/png": "[encoded data removed]",
      "text/plain": [
       "<Figure size 1440x720 with 1 Axes>"
      ]
     },
     "metadata": {
      "needs_background": "light"
     },
     "output_type": "display_data"
    }
   ],
   "source": [
    "labels = data_q1['days_after_open'].unique()\n",
    "plt.figure(figsize=(20,10))\n",
    "bottom_temp = [0] * len(labels)\n",
    "for i in range(6):\n",
    "    plt.bar(labels,data_q1[data_q1['hours_after_open']==i]['order_sales'],bottom=bottom_temp, width=0.7,label='hour '+str(i))\n",
    "    bottom_temp += data_q1[data_q1['hours_after_open']==i]['order_sales'].values\n",
    "\n",
    "plt.xlabel('Days after open', size=14)\n",
    "plt.ylabel('Total sales', size=14)\n",
    "plt.legend()\n",
    "plt.title('Days after open vs Sales', size=18)\n",
    "plt.show()"
   ]
  },
  {
   "cell_type": "code",
   "execution_count": 362,
   "metadata": {},
   "outputs": [
    {
     "data": {
      "image/png": "[encoded data removed]",
      "text/plain": [
       "<Figure size 432x288 with 1 Axes>"
      ]
     },
     "metadata": {
      "needs_background": "light"
     },
     "output_type": "display_data"
    }
   ],
   "source": [
    "data_q1_1 = data.groupby(['days_after_open'],as_index=False)['order_sales'].sum().reset_index().drop('index', axis=1)\n",
    "\n",
    "for i in range(2, 7 + 1):\n",
    "    data_q1_1['days^'+str(i)] = data_q1_1['days_after_open'] ** i\n",
    "    \n",
    "X = data_q1_1.drop('order_sales', axis=1).to_numpy()\n",
    "y = data_q1_1['order_sales'].to_numpy()\n",
    "X_tv, X_test, y_tv, y_test = train_test_split(X, y, test_size=0.2, random_state = 1)\n",
    "X_train, X_valid, y_train, y_valid = train_test_split(X_tv, y_tv, test_size=0.25, random_state = 1)\n",
    "\n",
    "mse_train = []\n",
    "mse_valid = []\n",
    "\n",
    "degrees = range(1, 7 + 1)\n",
    "\n",
    "for deg in degrees:\n",
    "    lr = LinearRegression()\n",
    "    lr.fit(X_train[:,:deg], y_train)\n",
    "    pred_train = lr.predict(X_train[:,:deg])\n",
    "    pred_valid = lr.predict(X_valid[:,:deg])\n",
    "    mse_train.append(mse(pred_train, y_train))\n",
    "    mse_valid.append(mse(pred_valid, y_valid))\n",
    "\n",
    "plt.plot(degrees, mse_train, color = 'green', label = 'Training data')\n",
    "plt.plot(degrees, mse_valid, color = 'orange', label = 'Validation data')\n",
    "plt.xlabel('Polynomial degree', size=14)\n",
    "plt.ylabel('Mean squared error', size=14)\n",
    "plt.title('Holdout', size=18)\n",
    "plt.xticks(degrees)\n",
    "plt.legend()\n",
    "plt.show()"
   ]
  },
  {
   "cell_type": "markdown",
   "metadata": {},
   "source": [
    "From the graph above, we found that after **4** degrees, the effects of polynomials become weak. Consequently, we choose 4 degree as the best degree to fit in the model."
   ]
  },
  {
   "cell_type": "code",
   "execution_count": 363,
   "metadata": {
    "scrolled": false
   },
   "outputs": [
    {
     "data": {
      "image/png": "[encoded data removed]",
      "text/plain": [
       "<Figure size 432x288 with 1 Axes>"
      ]
     },
     "metadata": {
      "needs_background": "light"
     },
     "output_type": "display_data"
    }
   ],
   "source": [
    "X = X[:,:4]\n",
    "plt.scatter(data_q1_1.index, y, label='Data')\n",
    "lr.fit(X, y)\n",
    "plt.plot(lr.predict(X), c='red', label='Model')\n",
    "plt.xlabel('Days after open', size=14)\n",
    "plt.ylabel('Sales (AUD)', size=14)\n",
    "plt.title('Daily Sales', size=18)\n",
    "plt.legend()\n",
    "plt.show()"
   ]
  },
  {
   "cell_type": "markdown",
   "metadata": {},
   "source": [
    "It is obvious that _days after open_ has a strong correlation with _total sales_ and _hourly sales_ (in different colors)."
   ]
  },
  {
   "cell_type": "markdown",
   "metadata": {},
   "source": [
    "## 2.2 Seasonal factors\n",
    "\n",
    "Seasonal variables include: _hours_after_open_, _day_of_week_.\n",
    "These variables are periodic. The following sections discuss their types and how to process them, which may help to investigate the effects of them on _houly sales_."
   ]
  },
  {
   "cell_type": "markdown",
   "metadata": {},
   "source": [
    "### 2.2.1 Hours after open"
   ]
  },
  {
   "cell_type": "code",
   "execution_count": 379,
   "metadata": {
    "scrolled": false
   },
   "outputs": [
    {
     "data": {
      "image/png": "[encoded data removed]",
      "text/plain": [
       "<Figure size 432x288 with 1 Axes>"
      ]
     },
     "metadata": {
      "needs_background": "light"
     },
     "output_type": "display_data"
    }
   ],
   "source": [
    "data_q2_1 = data.groupby('hours_after_open')['order_sales'].sum()\n",
    "colors = plt.get_cmap('Pastel2').colors\n",
    "plt.bar(data_q2_1.index, data_q2_1.values, color=colors)\n",
    "plt.xlabel('Hours after open', size=14)\n",
    "plt.ylabel('Total Sales (AUD)', size=14)\n",
    "plt.title('Total hourly Sales', size=18)\n",
    "plt.show()"
   ]
  },
  {
   "cell_type": "code",
   "execution_count": 366,
   "metadata": {},
   "outputs": [
    {
     "data": {
      "image/png": "[encoded data removed]",
      "text/plain": [
       "<Figure size 432x288 with 1 Axes>"
      ]
     },
     "metadata": {
      "needs_background": "light"
     },
     "output_type": "display_data"
    }
   ],
   "source": [
    "data_q2_1 = data.groupby(['days_after_open', 'hours_after_open'], as_index=False)['order_sales'].sum()\n",
    "\n",
    "for i in range(2, 7 + 1):\n",
    "    data_q2_1['hours^'+str(i)] = data_q2_1['hours_after_open'] ** i\n",
    "    \n",
    "X = data_q2_1.drop('order_sales', axis=1).to_numpy()\n",
    "y = data_q2_1['order_sales'].to_numpy()\n",
    "X_tv, X_test, y_tv, y_test = train_test_split(X, y, test_size=0.2, random_state = 1)\n",
    "X_train, X_valid, y_train, y_valid = train_test_split(X_tv, y_tv, test_size=0.25, random_state = 1)\n",
    "\n",
    "mse_train = []\n",
    "mse_valid = []\n",
    "\n",
    "degrees = range(1, 7 + 1)\n",
    "\n",
    "for deg in degrees:\n",
    "    lr = LinearRegression()\n",
    "    lr.fit(X_train[:,:deg], y_train)\n",
    "    pred_train = lr.predict(X_train[:,:deg])\n",
    "    pred_valid = lr.predict(X_valid[:,:deg])\n",
    "    mse_train.append(mse(pred_train, y_train))\n",
    "    mse_valid.append(mse(pred_valid, y_valid))\n",
    "\n",
    "plt.plot(degrees, mse_train, color = 'green', label = 'Training data')\n",
    "plt.plot(degrees, mse_valid, color = 'orange', label = 'Validation data')\n",
    "plt.xlabel('Polynomial degree', size=14)\n",
    "plt.ylabel('Mean squared error', size=14)\n",
    "plt.title('Holdout', size=18)\n",
    "plt.xticks(degrees)\n",
    "plt.legend()\n",
    "plt.show()"
   ]
  },
  {
   "cell_type": "code",
   "execution_count": 367,
   "metadata": {
    "scrolled": false
   },
   "outputs": [
    {
     "data": {
      "image/png": "[encoded data removed]",
      "text/plain": [
       "<Figure size 432x288 with 1 Axes>"
      ]
     },
     "metadata": {
      "needs_background": "light"
     },
     "output_type": "display_data"
    }
   ],
   "source": [
    "for i in range(data_q2_1['days_after_open'].drop_duplicates().count()):\n",
    "    data_q2_1.loc[data_q2_1['days_after_open']==i, 'order_sales'] = data_q2_1[data_q2_1['days_after_open']==i]['order_sales'] / data_q2_1[data_q2_1['days_after_open']==i]['order_sales'].sum()\n",
    "\n",
    "y_list = []\n",
    "for i in range(6):\n",
    "    y = data_q2_1[data_q2_1['hours_after_open']==i]['order_sales']\n",
    "    y_list.append(y)\n",
    "\n",
    "bpt = plt.boxplot(y_list, labels=list(range(6)), showfliers=False, patch_artist=True)\n",
    "colors = plt.get_cmap('Pastel1').colors\n",
    "for patch, color in zip(bpt['boxes'], colors):\n",
    "    patch.set_facecolor(color)\n",
    "plt.title('Hours vs Sales', size=18)\n",
    "plt.ylabel('Percentage of hourly sales each day (%)', size=14)\n",
    "plt.xlabel('Hours after open', size=14)\n",
    "plt.show()"
   ]
  },
  {
   "cell_type": "markdown",
   "metadata": {},
   "source": [
    "### 2.2.2 Day of week"
   ]
  },
  {
   "cell_type": "code",
   "execution_count": 368,
   "metadata": {},
   "outputs": [
    {
     "data": {
      "image/png": "[encoded data removed]",
      "text/plain": [
       "<Figure size 432x288 with 1 Axes>"
      ]
     },
     "metadata": {
      "needs_background": "light"
     },
     "output_type": "display_data"
    }
   ],
   "source": [
    "data_q2_2 = data.groupby('day_of_week')['order_sales'].sum().reset_index()\n",
    "list_week = ['Mon', 'Tue', 'Wed', 'Thu', 'Fri', 'Sat', 'Sun']\n",
    "data_q2_2['day_of_week'] = data_q2_2['day_of_week'].astype('category')\n",
    "data_q2_2['day_of_week'].cat.reorder_categories(list_week, inplace=True)\n",
    "data_q2_2 = data_q2_2.sort_values('day_of_week').reset_index().drop('index',axis=1)\n",
    "plt.bar(data_q2_2['day_of_week'], data_q2_2['order_sales'])\n",
    "plt.title('Day of week vs Sales', size=18)\n",
    "plt.ylabel('Total sales', size=14)\n",
    "plt.xlabel('Day of week', size=14)\n",
    "plt.show()"
   ]
  },
  {
   "cell_type": "code",
   "execution_count": 369,
   "metadata": {},
   "outputs": [
    {
     "data": {
      "image/png": "[encoded data removed]",
      "text/plain": [
       "<Figure size 432x288 with 1 Axes>"
      ]
     },
     "metadata": {
      "needs_background": "light"
     },
     "output_type": "display_data"
    }
   ],
   "source": [
    "data_q2_2_1 = data.groupby(['days_after_open', 'hours_after_open', 'day_of_week'])['order_sales'].sum().reset_index()\n",
    "data_q2_2_scale = data.groupby(['days_after_open', 'day_of_week'])['order_sales'].sum().reset_index()\n",
    "data_q2_2_scale['weeks_after_open'] = (data_q2_2_scale['days_after_open'] / 7).astype('int64')\n",
    "\n",
    "for i in range(data_q2_2_scale['weeks_after_open'].drop_duplicates().count()):\n",
    "    data_q2_2_scale.loc[data_q2_2_scale['weeks_after_open']==i, 'order_sales'] = data_q2_2_scale[data_q2_2_scale['weeks_after_open']==i]['order_sales'] / data_q2_2_scale[data_q2_2_scale['weeks_after_open']==i]['order_sales'].sum()\n",
    "\n",
    "y_list = []\n",
    "for i in range(7):\n",
    "    y = data_q2_2_scale[data_q2_2_scale['day_of_week']==list_week[i]]['order_sales']\n",
    "    y_list.append(y)\n",
    "\n",
    "bpt = plt.boxplot(y_list, labels=list(range(7)), showfliers=False, patch_artist=True)\n",
    "colors = plt.get_cmap('Pastel1').colors\n",
    "for patch, color in zip(bpt['boxes'], colors):\n",
    "    patch.set_facecolor(color)\n",
    "    \n",
    "plt.title('Day of week vs Sales', size=18)\n",
    "plt.ylabel('Percentage of daily sales each week(%)', size=14)\n",
    "plt.xlabel('Day of week', size=14)\n",
    "plt.show()"
   ]
  },
  {
   "cell_type": "code",
   "execution_count": 370,
   "metadata": {
    "scrolled": false
   },
   "outputs": [
    {
     "ename": "NameError",
     "evalue": "name 'df' is not defined",
     "output_type": "error",
     "traceback": [
      "\u001b[1;31m---------------------------------------------------------------------------\u001b[0m",
      "\u001b[1;31mNameError\u001b[0m                                 Traceback (most recent call last)",
      "\u001b[1;32m<ipython-input-370-e86020010140>\u001b[0m in \u001b[0;36m<module>\u001b[1;34m\u001b[0m\n\u001b[0;32m      1\u001b[0m \u001b[0mdata_q2_2_1\u001b[0m \u001b[1;33m=\u001b[0m \u001b[0madd_dummy\u001b[0m\u001b[1;33m(\u001b[0m\u001b[0mdata_q2_2_1\u001b[0m\u001b[1;33m,\u001b[0m \u001b[1;34m'day_of_week'\u001b[0m\u001b[1;33m)\u001b[0m\u001b[1;33m.\u001b[0m\u001b[0mdrop\u001b[0m\u001b[1;33m(\u001b[0m\u001b[1;34m'day_of_week'\u001b[0m\u001b[1;33m,\u001b[0m \u001b[0maxis\u001b[0m\u001b[1;33m=\u001b[0m\u001b[1;36m1\u001b[0m\u001b[1;33m)\u001b[0m\u001b[1;33m\u001b[0m\u001b[1;33m\u001b[0m\u001b[0m\n\u001b[1;32m----> 2\u001b[1;33m \u001b[0mdummy_cols\u001b[0m \u001b[1;33m=\u001b[0m \u001b[0mpd\u001b[0m\u001b[1;33m.\u001b[0m\u001b[0mget_dummies\u001b[0m\u001b[1;33m(\u001b[0m\u001b[0mdf\u001b[0m\u001b[1;33m[\u001b[0m\u001b[0mcol_name\u001b[0m\u001b[1;33m]\u001b[0m\u001b[1;33m,\u001b[0m \u001b[0mdrop_first\u001b[0m\u001b[1;33m=\u001b[0m\u001b[1;32mTrue\u001b[0m\u001b[1;33m,\u001b[0m \u001b[0mprefix\u001b[0m\u001b[1;33m=\u001b[0m\u001b[0mprefix\u001b[0m\u001b[1;33m)\u001b[0m\u001b[1;33m\u001b[0m\u001b[1;33m\u001b[0m\u001b[0m\n\u001b[0m\u001b[0;32m      3\u001b[0m \u001b[0mdf\u001b[0m \u001b[1;33m=\u001b[0m \u001b[0mdf\u001b[0m\u001b[1;33m.\u001b[0m\u001b[0mjoin\u001b[0m\u001b[1;33m(\u001b[0m\u001b[0mdummy_cols\u001b[0m\u001b[1;33m)\u001b[0m\u001b[1;33m\u001b[0m\u001b[1;33m\u001b[0m\u001b[0m\n\u001b[0;32m      4\u001b[0m \u001b[0mX\u001b[0m \u001b[1;33m=\u001b[0m \u001b[0mdata_q2_2_1\u001b[0m\u001b[1;33m.\u001b[0m\u001b[0mdrop\u001b[0m\u001b[1;33m(\u001b[0m\u001b[1;34m'order_sales'\u001b[0m\u001b[1;33m,\u001b[0m \u001b[0maxis\u001b[0m\u001b[1;33m=\u001b[0m\u001b[1;36m1\u001b[0m\u001b[1;33m)\u001b[0m\u001b[1;33m\u001b[0m\u001b[1;33m\u001b[0m\u001b[0m\n\u001b[0;32m      5\u001b[0m \u001b[0my\u001b[0m \u001b[1;33m=\u001b[0m \u001b[0mdata_q2_2_1\u001b[0m\u001b[1;33m[\u001b[0m\u001b[1;34m'order_sales'\u001b[0m\u001b[1;33m]\u001b[0m\u001b[1;33m\u001b[0m\u001b[1;33m\u001b[0m\u001b[0m\n",
      "\u001b[1;31mNameError\u001b[0m: name 'df' is not defined"
     ]
    }
   ],
   "source": [
    "\n",
    "data_q2_2_1 = add_dummy(data_q2_2_1, 'day_of_week').drop('day_of_week', axis=1)\n",
    "dummy_cols = pd.get_dummies(df[col_name], drop_first=True, prefix=prefix)\n",
    "df = df.join(dummy_cols)\n",
    "X = data_q2_2_1.drop('order_sales', axis=1)\n",
    "y = data_q2_2_1['order_sales']\n"
   ]
  },
  {
   "cell_type": "markdown",
   "metadata": {},
   "source": [
    "## 2.3 Location & raining\n",
    "Where on campus their customers are studying and whether it is raining."
   ]
  },
  {
   "cell_type": "code",
   "execution_count": null,
   "metadata": {},
   "outputs": [],
   "source": [
    "data_q3 = data.groupby(['days_after_open', 'hours_after_open', 'raining'], as_index=False)['order_sales'].sum()\n",
    "data_q3 = add_dummy(data_q3, 'raining').drop('raining', axis=1)\n",
    "X = data_q3.drop('order_sales', axis=1)\n",
    "y = data_q3['order_sales']\n",
    "plt.scatter(data_q3.index, y, label='Data')\n",
    "lr.fit(X, y)\n",
    "plt.plot(lr.predict(X), c='red', label='Model')\n",
    "plt.xlabel('Days after open')\n",
    "plt.ylabel('Sales (AUD)')\n",
    "plt.title('Raining vs Hourly Sales')\n",
    "plt.legend()\n",
    "plt.show()"
   ]
  },
  {
   "cell_type": "code",
   "execution_count": null,
   "metadata": {},
   "outputs": [],
   "source": [
    "model = sm.OLS(y, sm.add_constant(X, prepend=True))\n",
    "result = model.fit()\n",
    "result.summary()"
   ]
  },
  {
   "cell_type": "code",
   "execution_count": null,
   "metadata": {},
   "outputs": [],
   "source": [
    "query = '''\n",
    "    SELECT c.*, s.name, s.dist_to_cafe, c.quantity * d.unit_price AS order_sales\n",
    "    FROM (ci_transaction c LEFT JOIN drink d ON c.drink_id = d.id)\n",
    "    LEFT JOIN study_area s\n",
    "    ON c.study_area_id = s.id\n",
    "    '''\n",
    "data_q3 = pd.read_sql(query,conn)\n",
    "# Delete empty values\n",
    "data_q3 = data.dropna()\n",
    "data_q3"
   ]
  },
  {
   "cell_type": "markdown",
   "metadata": {},
   "source": [
    "### 2.3.1 Raining vs Sales (Different locations)\n",
    "The first perspective is mainly viewing the correlation between **raining** and **hourly sales on average**, which will be influenced by the locations at the same time."
   ]
  },
  {
   "cell_type": "code",
   "execution_count": null,
   "metadata": {},
   "outputs": [],
   "source": [
    "# Group and count the data\n",
    "data_grouped = data_q3[['days_after_open','hours_after_open','raining']].drop_duplicates().groupby(['hours_after_open','raining'],as_index=False).count()\n",
    "data_grouped.rename(columns={'days_after_open':'count of hours'},inplace=True)\n",
    "data_grouped"
   ]
  },
  {
   "cell_type": "code",
   "execution_count": null,
   "metadata": {},
   "outputs": [],
   "source": [
    "data_q3_sum = data.groupby(['hours_after_open', 'raining'], as_index=False)['order_sales'].sum()\n",
    "data_q3_sum['count of hours'] = data_q3_sum.apply(get_avg_sales, axis=1)\n",
    "data_q3_sum['avg_sales'] = data_q3_sum['order_sales'] / data_q3_sum['count of hours']\n",
    "plt.boxplot([data_q3_sum[data_q3_sum['raining']=='Yes']['avg_sales'], data_q3_sum[data_q3_sum['raining']=='No']['avg_sales']],\n",
    "            labels=['raining', 'not raining'])\n",
    "plt.xlabel('Raining status', size=14)\n",
    "plt.ylabel('Hourly sales (AUD)', size=14)\n",
    "plt.title('Raining vs Not raining', size=18)\n",
    "plt.show()"
   ]
  },
  {
   "cell_type": "code",
   "execution_count": null,
   "metadata": {},
   "outputs": [],
   "source": [
    "# Divide into 2 groups\n",
    "data_rain = data_grouped[data_grouped['raining']=='Yes']\n",
    "data_not_rain = data_grouped[data_grouped['raining']=='No']\n",
    "# Group and sum\n",
    "data_1 = data_q3.groupby(['location_name', 'dist_to_cafe', 'hours_after_open', 'raining'],as_index=False)['order_sales'].sum()\n",
    "\n",
    "# Define a function to count the hours\n",
    "def get_avg_sales(arr):\n",
    "    hour = arr['hours_after_open']\n",
    "    raining = arr['raining']\n",
    "    if raining == 'Yes':\n",
    "        num = data_rain[data_rain['hours_after_open']==hour]['count of hours']\n",
    "        \n",
    "    else:\n",
    "        num = data_not_rain[data_not_rain['hours_after_open']==hour]['count of hours']\n",
    "\n",
    "    return num.values[0]\n",
    "\n",
    "# Using apply to add the column\n",
    "data_1['count of hours'] = data_1.apply(get_avg_sales, axis=1)\n",
    "# Calculate the average sales\n",
    "data_1['avg_sales'] = data_1['order_sales']/data_1['count of hours']\n",
    "# Sort in descending order\n",
    "data_1 = data_1.sort_values('hours_after_open')\n",
    "data_1.head()"
   ]
  },
  {
   "cell_type": "code",
   "execution_count": null,
   "metadata": {},
   "outputs": [],
   "source": [
    "data_1_1 = data_q3.groupby(['hours_after_open', 'raining'],as_index=False)['order_sales'].sum()\n",
    "data_1_1['count of hour'] = data_1_1.apply(get_avg_sales, axis=1)\n",
    "data_1_1['avg_sales'] = data_1_1['order_sales'] / data_1_1['count of hour']\n",
    "data_rain_temp = data_1_1[data_1_1['raining']=='Yes']['avg_sales']\n",
    "data_not_rain_temp = data_1_1[data_1_1['raining']=='No']['avg_sales']\n",
    "index = list(range(6))\n",
    "bars_width = 0.3\n",
    "index_left = np.add(index, -0.5 * bars_width)\n",
    "plt.bar(index_left, \n",
    "        height=data_rain_temp, \n",
    "        width=bars_width,  \n",
    "        label='raining', \n",
    "        color='royalblue',\n",
    "        edgecolor='#708090'\n",
    "       )\n",
    "index_right = np.add(index, 0.5 * bars_width)\n",
    "plt.bar(index_right, \n",
    "        height=data_not_rain_temp, \n",
    "        width=bars_width,  \n",
    "        label='not raining',\n",
    "        color='lightblue',\n",
    "        edgecolor='#708090'\n",
    "       )\n",
    "\n",
    "plt.xlabel('Hours after open',size=14)\n",
    "plt.ylabel('Average hourly sales (AUD)',size=14)\n",
    "plt.title('Hourly sales & raining',size=18)\n",
    "plt.legend()\n",
    "plt.show()"
   ]
  },
  {
   "cell_type": "code",
   "execution_count": null,
   "metadata": {},
   "outputs": [],
   "source": [
    "# Divide data for graphs\n",
    "data_rain_loc = data_1[data_1['raining']=='Yes']\n",
    "data_not_rain_loc = data_1[data_1['raining']=='No']\n",
    "\n",
    "# Graph's property\n",
    "index = list(range(6))\n",
    "bars_width = 0.3\n",
    "index_left = np.add(index, -0.5 * bars_width)\n",
    "bottom_temp = [0] * 6\n",
    "color_dict = {\n",
    "    'Abercrombie (H70)':'#DDDDFF',\n",
    "    'Brennan MacCallum (A18)':'#7D7DFF',\n",
    "    'Carslaw (F07)':'#98F5FF',\n",
    "    'Fisher Library (F03)':'#B4EEB4',\n",
    "    'Law Library (F10)':'#FFE4B5',\n",
    "    'Peter Nicol Russell (PNR)':'#FFC0CB',\n",
    "    'The Quarter (A16)':'#FFD700'\n",
    "    }\n",
    "# Loading data with name in loops\n",
    "for name in data_rain_loc['location_name'].drop_duplicates():\n",
    "    data_name = data_rain_loc[data_rain_loc['location_name']==name]['avg_sales']\n",
    "    plt.bar(\n",
    "        index_left, \n",
    "        height=data_name, \n",
    "        bottom=bottom_temp, \n",
    "        width=bars_width, \n",
    "        color=color_dict[name], \n",
    "        label='raining-'+name, \n",
    "        hatch='//',\n",
    "        edgecolor='#708090'\n",
    "        )\n",
    "    bottom_temp += data_name.values\n",
    "\n",
    "# Property of another part of graph\n",
    "index_right = np.add(index, 0.5 * bars_width)\n",
    "# Reset bottom list\n",
    "bottom_temp = [0] * 6\n",
    "for name in data_not_rain_loc['location_name'].drop_duplicates():\n",
    "    data_name = data_not_rain_loc[data_not_rain_loc['location_name']==name]['avg_sales']\n",
    "    plt.bar(\n",
    "        index_right, \n",
    "        height=data_name, \n",
    "        bottom=bottom_temp, \n",
    "        width=bars_width, \n",
    "        color=color_dict[name], \n",
    "        label='not raining-'+name,\n",
    "        edgecolor='#708090'\n",
    "        )\n",
    "    bottom_temp += data_name.values\n",
    "# Setting graph details\n",
    "plt.xlabel('Hours after open',size=14)\n",
    "plt.ylabel('Average hourly sales (AUD)',size=14)\n",
    "plt.title('Hourly sales & raining & location',size=18)\n",
    "plt.legend(bbox_to_anchor=(1.05, 1), loc=2, borderaxespad=0,ncol=2)\n",
    "plt.show()"
   ]
  },
  {
   "cell_type": "markdown",
   "metadata": {},
   "source": [
    "### 2.3.2 Conclusion 1\n",
    "From the bar chart above, we can observe that:\n",
    "\n",
    "\n",
    "1. it is obvious that the sales when raining are **less than** the sales when it's not raining.<br><br>\n",
    "2. When it's raining, **only** the students from ***Carslaw***, ***Fisher Library*** and ***Law Library***, which are the 3 nearest locations, would come here to purchase.\n",
    "<br><br>\n",
    "3. The sales from these 3 locations when it's raining are **more than** that when it's not raining.\n"
   ]
  },
  {
   "cell_type": "markdown",
   "metadata": {},
   "source": [
    "### 2.3.3 Location vs Sales (Raining or not)\n",
    "The second perspective is mainly viewing the correlation between **location** and **hourly sales on average**, which will be influenced by whether it rains at the same time. <br><br>\n",
    "This time, I divide the graph to two parts (rain & not rain), making them easily to compare."
   ]
  },
  {
   "cell_type": "code",
   "execution_count": null,
   "metadata": {},
   "outputs": [],
   "source": [
    "# Group data\n",
    "data_2 = data_q3.groupby(['location_name', 'dist_to_cafe', 'hours_after_open', 'raining'],as_index=False)['order_sales'].sum()\n",
    "data_2.head()"
   ]
  },
  {
   "cell_type": "code",
   "execution_count": null,
   "metadata": {
    "scrolled": false
   },
   "outputs": [],
   "source": [
    "data_2_temp = data_2.groupby(['location_name', 'dist_to_cafe'], as_index=False)['order_sales'].sum()\n",
    "data_2_temp['avg_sales'] = data_2_temp['order_sales'] / 154\n",
    "data_2_temp = data_2_temp.sort_values(['dist_to_cafe']) \n",
    "plt.figure(figsize=(15, 8))\n",
    "plt.bar(data_2_temp['location_name'], data_2_temp['avg_sales'], color='lightskyblue')\n",
    "plt.plot(data_2_temp['location_name'], data_2_temp['avg_sales'], color='royalblue')\n",
    "plt.xlabel('Locations (From near to far)', fontsize=14)\n",
    "plt.ylabel('Average hourly sales (AUD)', fontsize=14)\n",
    "plt.title('Location vs Hourly sales', fontsize=18)\n",
    "plt.show()"
   ]
  },
  {
   "cell_type": "code",
   "execution_count": null,
   "metadata": {},
   "outputs": [],
   "source": [
    "# Prepare data of rain\n",
    "data_rain = data_2[data_2['raining']=='Yes'].sort_values('dist_to_cafe')\n",
    "labels_rain_name = data_rain['location_name'].drop_duplicates()\n",
    "labels_rain_hour = list(range(6))\n",
    "data_rain.head()"
   ]
  },
  {
   "cell_type": "code",
   "execution_count": null,
   "metadata": {},
   "outputs": [],
   "source": [
    "# Prepare data of non-rain\n",
    "data_not_rain = data_2[data_2['raining']=='No'].sort_values('dist_to_cafe')\n",
    "labels_not_rain_name = data_not_rain['location_name'].drop_duplicates()\n",
    "labels_not_rain_hour = list(range(6))\n",
    "data_not_rain.head()"
   ]
  },
  {
   "cell_type": "markdown",
   "metadata": {},
   "source": [
    "Sales at the **3 closest locations** were much **higher than** those at the other locations, but the correlation dropped sharply at a certain distance."
   ]
  },
  {
   "cell_type": "code",
   "execution_count": null,
   "metadata": {},
   "outputs": [],
   "source": [
    "# Bar Attribute\n",
    "bottom_temp = [0] * len(labels_rain_name)\n",
    "colors = ['aquamarine', 'dodgerblue', 'mediumseagreen', 'wheat', 'mediumslateblue', 'lightpink']\n",
    "plt.figure(figsize=(15, 15))\n",
    "# Divide the figure\n",
    "# Part 1\n",
    "ax1 = plt.subplot(2, 2, 1)\n",
    "# Plot property\n",
    "rain_plot = data_rain.groupby(['location_name','dist_to_cafe'])['order_sales'].sum().sort_index(level='dist_to_cafe')\n",
    "plt.plot(rain_plot.index.get_level_values('location_name'), rain_plot.values, linestyle='--', linewidth=5, color='#FF69B4')\n",
    "for i in labels_rain_hour:\n",
    "    plt.bar(\n",
    "        labels_rain_name,\n",
    "        data_rain[data_rain['hours_after_open']==i]['order_sales'],\n",
    "        bottom=bottom_temp,\n",
    "        width=0.3,\n",
    "        label='Hour '+str(i),\n",
    "        color=colors[i], \n",
    "        edgecolor='#708090'\n",
    "        )\n",
    "    bottom_temp += data_rain[data_rain['hours_after_open']==i]['order_sales'].values\n",
    "\n",
    "plt.xlabel('Locations (From near to far)', fontsize=12)\n",
    "plt.ylabel('Total hourly sales (AUD)', fontsize=12)\n",
    "plt.legend()\n",
    "plt.title('Location vs sales (Raining)', fontsize=20)\n",
    "# Reset bottom list\n",
    "bottom_temp = [0] * len(labels_not_rain_name)\n",
    "# Part 2\n",
    "ax2 = plt.subplot(2, 1, 2)\n",
    "# Plot property\n",
    "non_rain_plot = data_not_rain.groupby(['location_name','dist_to_cafe'])['order_sales'].sum().sort_index(level='dist_to_cafe')\n",
    "plt.plot(non_rain_plot.index.get_level_values('location_name'), non_rain_plot.values, linestyle='--', linewidth=5, color='#FF69B4')\n",
    "for i in labels_not_rain_hour:\n",
    "    plt.bar(\n",
    "        labels_not_rain_name,\n",
    "        data_not_rain[data_not_rain['hours_after_open']==i]['order_sales'],\n",
    "        bottom=bottom_temp, \n",
    "        width=0.3,\n",
    "        label='Hour '+str(i), \n",
    "        color=colors[i], \n",
    "        edgecolor='#708090'\n",
    "        )\n",
    "    bottom_temp += data_not_rain[data_not_rain['hours_after_open']==i]['order_sales'].values\n",
    "\n",
    "plt.xlabel('Locations (From near to far)', fontsize=12)\n",
    "plt.ylabel('Total hourly sales (AUD)', fontsize=12)\n",
    "plt.legend()\n",
    "plt.title('Location vs Hourly sales (Not raining)', fontsize=20)\n",
    "plt.show()"
   ]
  },
  {
   "cell_type": "markdown",
   "metadata": {},
   "source": [
    "### 2.3.4 Conclusion 2\n",
    "All of the locations on X axis are from near to far. <br>\n",
    "1. Consequently, it could be found that as the distance increases, students are **increasingly reluctant** to drink coffee in Café Insomnia when it rains. \n",
    "<br><br>\n",
    "2. Meanwhile, the **3 closest locations** are blessed with **high sales**, but there is **not a strong correlation** between location and sales when it doesn't rain."
   ]
  },
  {
   "cell_type": "code",
   "execution_count": null,
   "metadata": {},
   "outputs": [],
   "source": [
    "data_3 = data_q3.groupby(['days_after_open', 'hours_after_open', 'raining'],as_index=False)['order_sales'].sum()\n",
    "data_3_rain = data_3.query(\"raining=='Yes'\")\n",
    "print(data_3_rain)\n",
    "data_3_not_rain = data_3.query(\"raining=='No'\")\n",
    "a = data_3_rain.groupby('days_after_open')['order_sales'].mean()\n",
    "b = data_3_not_rain.groupby('days_after_open')['order_sales'].mean()\n",
    "plt.scatter(a.index, a, label='raining')\n",
    "plt.scatter(b.index, b, label='not raining')\n",
    "plt.legend()\n",
    "plt.xlabel('Days after open')\n",
    "plt.ylabel('Hourly sales')\n",
    "plt.show()"
   ]
  },
  {
   "cell_type": "markdown",
   "metadata": {},
   "source": [
    "# 3. Models"
   ]
  },
  {
   "cell_type": "markdown",
   "metadata": {},
   "source": [
    "## 3.1 Detect & Set variables\n",
    "Obviously, the dependent variable (y) is **hourly sales**;<br><br>\n",
    "the independent variables (X) include:<br>\n",
    "\n",
    "| Name | Description | Type |\n",
    "| --- | --- | --- |\n",
    "| days_after_open | number of days since opening the pop-up store on 2019-07-22 | interval |\n",
    "| day_of_week | 'Mon' - 'Sun' | nominal |\n",
    "| hours_after_open | number of hours since opening at 7pm (0-5) | ordinal |\n",
    "| raining | whether it is raining at the time of purchase ('Yes', 'No', missing indicated by 'NA') | nominal |\n",
    "| study_area_id | id of the customer's study area (0-6, missing indicated by -1) | nominal |\n",
    "| dist_to_cafe | distance to cafe insomnia (in meters) | interval |\n",
    "\n",
    "The independent variable *date* is removed because of its high correlation with days_after_open;<br>\n",
    "The independent variables such as *id*, *drink_id*, *quantity* are removed because they make no sense in the dimension of *hourly sales*."
   ]
  },
  {
   "cell_type": "markdown",
   "metadata": {},
   "source": [
    "### 3.1.1 Dummies encoding\n",
    "Nominal variables cannot calculate directly, so they should be encoded into dummy variables.<br><br>\n",
    "Preventing from dummy variable trap, we use\n",
    "*`drop_first=True`* in *`get_dummies()`* function."
   ]
  },
  {
   "cell_type": "markdown",
   "metadata": {},
   "source": [
    "$$ raining\\_Yes =\\begin {cases} 1\\ if\\ raining \\\\0\\ if\\ not\\ raining\\end {cases} $$\n",
    "<br>\n",
    "$$DOW\\_Mon =\\begin {cases} 1\\ if\\ Monday \\\\0\\ if\\ other\\ days\\end {cases} $$\n",
    "$$DOW\\_Tue =\\begin {cases} 1\\ if\\ Tuesday \\\\0\\ if\\ other\\ days\\end {cases} $$\n",
    "$$DOW\\_Wed =\\begin {cases} 1\\ if\\ Wednesday \\\\0\\ if\\ other\\ days\\end {cases} $$\n",
    "$$DOW\\_Thu =\\begin {cases} 1\\ if\\ Thursday \\\\0\\ if\\ other\\ days\\end {cases} $$\n",
    "$$DOW\\_Sat =\\begin {cases} 1\\ if\\ Saturday \\\\0\\ if\\ other\\ days\\end {cases} $$\n",
    "$$DOW\\_Sun =\\begin {cases} 1\\ if\\ Sunday \\\\0\\ if\\ other\\ days\\end {cases} $$"
   ]
  },
  {
   "cell_type": "code",
   "execution_count": null,
   "metadata": {},
   "outputs": [],
   "source": [
    "def add_dummy(df, col_name, prefix=''):\n",
    "    dummy_cols = pd.get_dummies(df[col_name], drop_first=True, prefix=prefix)\n",
    "    df = df.join(dummy_cols)\n",
    "    return df"
   ]
  },
  {
   "cell_type": "code",
   "execution_count": null,
   "metadata": {},
   "outputs": [],
   "source": [
    "data_model = data\n",
    "data_model = add_dummy(data_model, 'raining', prefix='raining')\n",
    "data_model = add_dummy(data_model, 'day_of_week', prefix='DOW')\n",
    "#data_model = add_dummy(data_model, 'study_area_id', prefix='saID')\n",
    "data_model = data_model.drop(['id', 'date', 'day_of_week', 'dist_to_cafe', 'raining', 'drink_id', 'quantity', 'study_area_id', 'location_name', 'drink_name'], axis=1)\n",
    "model_col = data_model.columns.tolist()\n",
    "model_col.remove('order_sales')\n",
    "data_model = data_model.groupby(by=model_col, as_index=False)['order_sales'].sum()\n",
    "data_model.head(10)"
   ]
  },
  {
   "cell_type": "markdown",
   "metadata": {},
   "source": [
    "### 3.1.2 Detect Multicollinearity\n",
    "In a multivariate regression, **multicollinearity**, which could greatly influence the statistical significance of an independent variable, should be detected. "
   ]
  },
  {
   "cell_type": "code",
   "execution_count": null,
   "metadata": {},
   "outputs": [],
   "source": [
    "corr = data_model.corr()\n",
    "n_var = len(corr)\n",
    "plt.figure(figsize=(20, 20))\n",
    "# Plot the heatmap\n",
    "plt.imshow(corr, cmap = 'cool')\n",
    "plt.xticks(range(n_var), corr.columns)\n",
    "plt.yticks(range(n_var), corr.columns)\n",
    "\n",
    "for i in range(n_var):\n",
    "    for j in range(n_var):\n",
    "        plt.text(i, j, '{:.2f}'.format(corr.iloc[i, j]), ha=\"center\", va=\"center\", color=\"k\", fontsize = 15)\n",
    "\n",
    "plt.colorbar()\n",
    "plt.title('Correlations')\n",
    "plt.show()"
   ]
  },
  {
   "cell_type": "markdown",
   "metadata": {},
   "source": [
    "## 3.2 Model Preset\n",
    "We assume that the model is a **multiple linear regression**.\n",
    "\n",
    "$y=\\beta_0+\\beta_1x_1+\\beta_2x_2+...+\\beta_rx_r+\\epsilon$"
   ]
  },
  {
   "cell_type": "markdown",
   "metadata": {},
   "source": [
    "## 3.3 Split data\n",
    "As the generally good rule of thumb, the way we split the dataset is:<br>\n",
    "60% for training, 20% for validation and 20% for testing.\n"
   ]
  },
  {
   "cell_type": "code",
   "execution_count": null,
   "metadata": {},
   "outputs": [],
   "source": [
    "X_full = data_model.drop('order_sales',axis=1)\n",
    "y_full = data_model['order_sales']\n",
    "X_tv, X_test, y_tv, y_test = train_test_split(X_full, y_full, test_size = 0.2, random_state=1)\n",
    "X_train, X_valid, y_train, y_valid = train_test_split(X_tv, y_tv, test_size = 0.25, random_state=1)\n",
    "print('X_train.shape: ',X_train.shape)\n",
    "print('X_valid.shape: ',X_valid.shape)\n",
    "print('X_test.shape: ',X_test.shape)"
   ]
  },
  {
   "cell_type": "markdown",
   "metadata": {},
   "source": [
    "## 3.4 Build & Compare models"
   ]
  },
  {
   "cell_type": "code",
   "execution_count": null,
   "metadata": {
    "scrolled": true
   },
   "outputs": [],
   "source": [
    "class LRModel:\n",
    "    # Init the model\n",
    "    def __init__(self, X, y):\n",
    "        self.fit(X, y)\n",
    "        self.summary()\n",
    "\n",
    "    # Fit the model\n",
    "    def fit(self, X, y):\n",
    "        self.X = X\n",
    "        self.y = y\n",
    "        self.model = LinearRegression()\n",
    "        self.model.fit(X, y)\n",
    "        self.OLS = sm.OLS(y, sm.add_constant(X, prepend=True)).fit()\n",
    "    \n",
    "    def get_SSE(self, y_true, y_pred):\n",
    "        SSE = np.sum((y_true - y_pred) ** 2)\n",
    "        return SSE\n",
    "    \n",
    "    def get_SST(self, y_true):\n",
    "        SST = np.sum((y_true - np.mean(y_true)) ** 2)\n",
    "        return SST\n",
    "                                                                                  \n",
    "    def get_MSE(self, y_true, y_pred):\n",
    "        MSE = sklearn.metrics.mean_squared_error(y_true, y_pred)\n",
    "        return MSE                                                                          \n",
    "    \n",
    "    def get_R2(self):  \n",
    "        #self.R2 = 1 - self.SSE/self.SST\n",
    "        self.R2 = self.model.score(self.X, self.y)\n",
    "        return self.R2\n",
    "                                                                                \n",
    "    def get_AdR2(self):\n",
    "        n = self.X.shape[0]\n",
    "        k = self.X.shape[1]\n",
    "        self.Ad_R2 = 1 - (1 - self.R2)*(n - 1)/(n - k - 1)\n",
    "        return self.Ad_R2\n",
    "                                                                             \n",
    "    def get_P(self):\n",
    "        p_values = self.OLS.pvalues.round(decimals=3)\n",
    "        return p_values\n",
    "    \n",
    "    # Get statistic summary\n",
    "    def summary(self):\n",
    "        y_pred = self.model.predict(self.X)\n",
    "        summary_dict = {'SSE':self.get_SSE(self.y, y_pred),\n",
    "                        'SST':self.get_SST(self.y),\n",
    "                        'MSE':self.get_MSE(self.y, y_pred),\n",
    "                        'R2':self.get_R2(),\n",
    "                        'Adjusted_R2':self.get_AdR2()\n",
    "                       }\n",
    "        return pd.Series(summary_dict).round(decimals=3)\n",
    "    # Evaluate the predictors\n",
    "    def predictor_eva(self):\n",
    "        return pd.DataFrame({'P':self.get_P(),'coef':np.append(self.model.intercept_, self.model.coef_)})"
   ]
  },
  {
   "cell_type": "markdown",
   "metadata": {},
   "source": [
    "### 3.4.1 Model 0: Days & Hours\n",
    "$\\widehat{HourlySales} = \\beta_0+\\beta_1 DaysAfterOpen + \\beta_2 HoursAfterOpen$"
   ]
  },
  {
   "cell_type": "code",
   "execution_count": null,
   "metadata": {
    "scrolled": false
   },
   "outputs": [],
   "source": [
    "model0 = LRModel(X_train[['days_after_open','hours_after_open']], y_train)\n",
    "model0.summary()"
   ]
  },
  {
   "cell_type": "code",
   "execution_count": null,
   "metadata": {},
   "outputs": [],
   "source": [
    "model0.predictor_eva()"
   ]
  },
  {
   "cell_type": "markdown",
   "metadata": {},
   "source": [
    "### 3.4.2 Model 1: Days, Hours & Raining\n",
    "$\\widehat{HourlySales} = \\beta_0+\\beta_1 DaysAfterOpen + \\beta_2 HoursAfterOpen+\\beta_3 Raining\\_Yes$"
   ]
  },
  {
   "cell_type": "code",
   "execution_count": null,
   "metadata": {
    "scrolled": false
   },
   "outputs": [],
   "source": [
    "model1 = LRModel(X_train[['days_after_open', 'hours_after_open', 'raining_Yes']], y_train)\n",
    "model1.summary()"
   ]
  },
  {
   "cell_type": "code",
   "execution_count": null,
   "metadata": {
    "scrolled": true
   },
   "outputs": [],
   "source": [
    "model1.predictor_eva()"
   ]
  },
  {
   "cell_type": "markdown",
   "metadata": {},
   "source": [
    "### 3.4.3 Model 2: Days, Hours, Raining & Days of Week\n",
    "$\\widehat{HourlySales} = \\beta_0+\\beta_1 DaysAfterOpen + \\beta_2 HoursAfterOpen+\\beta_3 Raining+\\underbrace{\\beta_4 Monday+\\cdots+\\beta_9 Sunday}_{6 Days Of Week}$"
   ]
  },
  {
   "cell_type": "code",
   "execution_count": null,
   "metadata": {
    "scrolled": false
   },
   "outputs": [],
   "source": [
    "model2 = LRModel(X_train, y_train)\n",
    "model2.summary()"
   ]
  },
  {
   "cell_type": "code",
   "execution_count": null,
   "metadata": {},
   "outputs": [],
   "source": [
    "model2.predictor_eva()"
   ]
  },
  {
   "cell_type": "markdown",
   "metadata": {},
   "source": [
    "### 3.4.4 Model 3: Add Interact based on Model 2\n",
    "$$\\widehat{HourlySales} = \\beta_0+\\beta_1 DaysAfterOpen + \\beta_2 HoursAfterOpen+\\beta_3 Raining+\\\\\n",
    "\\underbrace{\\beta_4 Monday+\\cdots+\\beta_9 Sunday}_{6 Days Of Week} + \\beta_{10} Raining*DaysAfterOpen$$"
   ]
  },
  {
   "cell_type": "code",
   "execution_count": null,
   "metadata": {
    "scrolled": false
   },
   "outputs": [],
   "source": [
    "def trans_model3(data):\n",
    "    data_temp = data.copy(deep=True)\n",
    "    data_temp['rain*days'] = data_temp['raining_Yes'] * data_temp['days_after_open']\n",
    "    return data_temp\n",
    "\n",
    "model3 = LRModel(trans_model3(X_train), y_train)\n",
    "model3.summary()"
   ]
  },
  {
   "cell_type": "code",
   "execution_count": null,
   "metadata": {
    "scrolled": false
   },
   "outputs": [],
   "source": [
    "model3.predictor_eva()"
   ]
  },
  {
   "cell_type": "markdown",
   "metadata": {},
   "source": [
    "### 3.4.5 Model 4: Polynomial test based on Model 3"
   ]
  },
  {
   "cell_type": "markdown",
   "metadata": {},
   "source": [
    "$$\\widehat{HourlySales} = \\beta_0+\\beta_1 DaysAfterOpen +\\beta_2 Days^2 +\\beta_3 Days^3 + \\beta_4 Days^4\\\\\n",
    "+\\beta_5 HoursAfterOpen + \\beta_6 Hours^2 + \\beta_7 Hours^3\\\\\n",
    "+\\underbrace{\\beta_8 Monday+\\cdots+\\beta_{13} Sunday}_{6 Days Of Week} \\\\\n",
    "+\\beta_{14} Raining + \\beta_{15} Raining*DaysAfterOpen$$"
   ]
  },
  {
   "cell_type": "code",
   "execution_count": null,
   "metadata": {
    "scrolled": true
   },
   "outputs": [],
   "source": [
    "def trans_model4(data):\n",
    "    data_temp = data.copy(deep=True)\n",
    "    data_temp['rain*days'] = data_temp['raining_Yes'] * data_temp['days_after_open']\n",
    "    data_temp['days^2'] = data_temp['days_after_open'] ** 2\n",
    "    data_temp['days^3'] = data_temp['days_after_open'] ** 3\n",
    "    data_temp['days^4'] = data_temp['days_after_open'] ** 4\n",
    "    #data_temp['days^5'] = data_temp['days_after_open'] ** 5\n",
    "    data_temp['hours^2'] = data_temp['hours_after_open'] ** 2\n",
    "    data_temp['hours^3'] = data_temp['hours_after_open'] ** 3\n",
    "    return data_temp\n",
    "\n",
    "model4 = LRModel(trans_model4(X_train), y_train)\n",
    "model4.summary()"
   ]
  },
  {
   "cell_type": "code",
   "execution_count": null,
   "metadata": {
    "scrolled": false
   },
   "outputs": [],
   "source": [
    "model4.predictor_eva()"
   ]
  },
  {
   "cell_type": "markdown",
   "metadata": {},
   "source": [
    "### 3.4.6 Model Comparation"
   ]
  },
  {
   "cell_type": "code",
   "execution_count": null,
   "metadata": {},
   "outputs": [],
   "source": [
    "models = pd.DataFrame({'Model_0':model0.summary(), \n",
    "                       'Model_1':model1.summary(), \n",
    "                       'Model_2':model2.summary(), \n",
    "                       'Model_3':model3.summary(), \n",
    "                       'Model_4':model4.summary()})\n",
    "models"
   ]
  },
  {
   "cell_type": "code",
   "execution_count": null,
   "metadata": {},
   "outputs": [],
   "source": [
    "plt.plot(models.columns, (models.loc['MSE']-models.loc['MSE'].min())/(models.loc['MSE'].max()-models.loc['MSE'].min()), label='MSE')\n",
    "plt.plot(models.columns, (models.loc['Adjusted_R2']-models.loc['Adjusted_R2'].min())/(models.loc['Adjusted_R2'].max()-models.loc['Adjusted_R2'].min()), label='Adjusted R2')\n",
    "plt.legend()\n",
    "plt.title('Model Comparation')\n",
    "plt.xlabel('Model')\n",
    "plt.ylabel('Ratio')\n",
    "plt.show()"
   ]
  },
  {
   "cell_type": "markdown",
   "metadata": {},
   "source": [
    "## 3.5 Validate and Evaluate"
   ]
  },
  {
   "cell_type": "code",
   "execution_count": null,
   "metadata": {},
   "outputs": [],
   "source": [
    "MSE_valid=[\n",
    "    model0.get_MSE(y_valid, model0.model.predict(X_valid[['days_after_open','hours_after_open']])),\n",
    "    model1.get_MSE(y_valid, model1.model.predict(X_valid[['days_after_open', 'hours_after_open', 'raining_Yes']])),\n",
    "    model2.get_MSE(y_valid, model2.model.predict(X_valid)),\n",
    "    model3.get_MSE(y_valid, model3.model.predict(trans_model3(X_valid))),\n",
    "    model4.get_MSE(y_valid, model4.model.predict(trans_model4(X_valid)))\n",
    "]\n",
    "plt.plot(models.columns, MSE_valid, color='green')\n",
    "for a,b in zip(models.columns, MSE_valid):\n",
    "    plt.text(a, b + 0.1, '%.2f' % b, ha = 'center', va = 'bottom',fontsize = 10)\n",
    "plt.title('Model Validation Test')\n",
    "plt.xlabel('Model')\n",
    "plt.ylabel('MSE')\n",
    "plt.show()"
   ]
  },
  {
   "cell_type": "markdown",
   "metadata": {},
   "source": [
    "## 3.6 Predict and Evaluate"
   ]
  },
  {
   "cell_type": "code",
   "execution_count": null,
   "metadata": {},
   "outputs": [],
   "source": [
    "model0.fit(X_tv[['days_after_open','hours_after_open']], y_tv)\n",
    "model1.fit(X_tv[['days_after_open', 'hours_after_open', 'raining_Yes']], y_tv)\n",
    "model2.fit(X_tv, y_tv)\n",
    "model3.fit(trans_model3(X_tv), y_tv)\n",
    "model4.fit(trans_model4(X_tv), y_tv)\n",
    "MSE_test=[\n",
    "    model0.get_MSE(y_test, model0.model.predict(X_test[['days_after_open','hours_after_open']])),\n",
    "    model1.get_MSE(y_test, model1.model.predict(X_test[['days_after_open', 'hours_after_open', 'raining_Yes']])),\n",
    "    model2.get_MSE(y_test, model2.model.predict(X_test)),\n",
    "    model3.get_MSE(y_test, model3.model.predict(trans_model3(X_test))),\n",
    "    model4.get_MSE(y_test, model4.model.predict(trans_model4(X_test)))\n",
    "]\n",
    "plt.plot(models.columns, MSE_test)\n",
    "for a,b in zip(models.columns, MSE_test):\n",
    "    plt.text(a, b + 0.1, '%.2f' % b, ha = 'center', va = 'bottom',fontsize = 10)\n",
    "plt.title('Model Prediction Test')\n",
    "plt.xlabel('Model')\n",
    "plt.ylabel('MSE')\n",
    "plt.show()"
   ]
  },
  {
   "cell_type": "code",
   "execution_count": null,
   "metadata": {},
   "outputs": [],
   "source": [
    "MSE_train = models.loc['MSE']\n",
    "plt.plot(models.columns, MSE_train, label='Training')\n",
    "plt.plot(models.columns, MSE_valid, label='Validation')\n",
    "plt.plot(models.columns, MSE_test, label='Test')\n",
    "\n",
    "plt.title('Model Fitting')\n",
    "plt.xlabel('Model')\n",
    "plt.ylabel('MSE')\n",
    "plt.legend()\n",
    "plt.show()"
   ]
  },
  {
   "cell_type": "code",
   "execution_count": null,
   "metadata": {},
   "outputs": [],
   "source": [
    "model4.fit(trans_model4(X_full), y_full)\n",
    "y_pred = model4.model.predict(trans_model4(X_full))\n",
    "plt.scatter(y_pred, y_pred-y_full)\n",
    "plt.title('Residual Plot', size=18)\n",
    "plt.xlabel('Fitted Value', size=14)\n",
    "plt.ylabel('Residual', size=14)\n",
    "plt.show()"
   ]
  },
  {
   "cell_type": "markdown",
   "metadata": {},
   "source": [
    "# Data Dictionary\n",
    "The database consists of three tables: <br>\n",
    "_ci_transaction_, _study_area_,  _drink_.\n",
    "\n",
    "## _**ci_transaction**_\n",
    "| Name | Description | Type |\n",
    "| --- | --- | --- |\n",
    "| <u>id</u> | unique transaction id | int |\n",
    "| date | transaction date | string |\n",
    "| days_after_open | number of days since opening the pop-up store on 2019-07-22 | int |\n",
    "| day_of_week | 'Mon' - 'Sun' | string |\n",
    "| hours_after_open | number of hours since opening at 7pm (0-5) | int |\n",
    "| drink_id | id of the drink being purchased (0-16) | int |\n",
    "| quantity | quantity of purchase | int |\n",
    "| raining | whether it is raining at the time of purchase ('Yes', 'No', missing indicated by 'NA') | string |\n",
    "| study_area_id | id of the customer's study area (0-6, missing indicated by -1) | int |\n",
    "\n",
    "## _**study_area**_\n",
    "| Name | Description | Type |\n",
    "| --- | --- | --- |\n",
    "| <u>id</u> | unique study area id (0-6) | int |\n",
    "| name | building name | string |\n",
    "| dist_to_cafe | distance to cafe insomnia (in meters) | int |\n",
    "\n",
    "## _**drink**_\n",
    "| Name | Description | Type |\n",
    "| --- | --- | --- |\n",
    "| <u>id</u> | unique drink id (0-16) | int |\n",
    "| name | drink name | string |\n",
    "| unit_price | unit price of the drink in AUD | float |"
   ]
  }
 ],
 "metadata": {
  "kernelspec": {
   "display_name": "Python 3",
   "language": "python",
   "name": "python3"
  },
  "language_info": {
   "codemirror_mode": {
    "name": "ipython",
    "version": 3
   },
   "file_extension": ".py",
   "mimetype": "text/x-python",
   "name": "python",
   "nbconvert_exporter": "python",
   "pygments_lexer": "ipython3",
   "version": "3.8.5"
  },
  "toc": {
   "base_numbering": 1,
   "nav_menu": {},
   "number_sections": true,
   "sideBar": true,
   "skip_h1_title": false,
   "title_cell": "Table of Contents",
   "title_sidebar": "Contents",
   "toc_cell": false,
   "toc_position": {
    "height": "calc(100% - 180px)",
    "left": "10px",
    "top": "150px",
    "width": "384px"
   },
   "toc_section_display": true,
   "toc_window_display": true
  }
 },
 "nbformat": 4,
 "nbformat_minor": 2
}
