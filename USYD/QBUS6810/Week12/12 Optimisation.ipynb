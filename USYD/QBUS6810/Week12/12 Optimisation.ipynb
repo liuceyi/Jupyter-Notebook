{
 "cells": [
  {
   "cell_type": "markdown",
   "metadata": {},
   "source": [
    "<center>\n",
    "<img align=\"center\" src=\"http://sydney.edu.au/images/content/about/logo-mono.jpg\">\n",
    "</center>\n",
    "<h1 align=\"center\" style=\"margin-top:10px\">Statistical Learning and Data Mining</h1>\n",
    "<h2 align=\"center\" style=\"margin-top:20px\">Week 12 Tutorial: Logistic Regression from Scratch</h2>\n",
    "<br>\n",
    "\n",
    "In this tutorial, we'll use our knowledge of maximum likelihood and optimisation methods to code an implementation of the logistic regression algorithm using general Python libraries. \n",
    "\n",
    "As we've seen throughout the unit, you don't need to understand the technical details behind most machine learning methods to be able to use them in applications. However, if you want to take your skills to the next level and develop deep understanding, then implementing methods is one the best things that you can do."
   ]
  },
  {
   "cell_type": "code",
   "execution_count": 1,
   "metadata": {},
   "outputs": [],
   "source": [
    "# Packages\n",
    "import numpy as np\n",
    "import pandas as pd\n",
    "import matplotlib.pyplot as plt\n",
    "import seaborn as sns\n",
    "\n",
    "import warnings\n",
    "warnings.filterwarnings('ignore')"
   ]
  },
  {
   "cell_type": "code",
   "execution_count": 2,
   "metadata": {},
   "outputs": [],
   "source": [
    "# Plot settings\n",
    "sns.set_context('notebook') # optimises figures for notebook display\n",
    "sns.set_style('ticks') # set default plot style\n",
    "colours = ['#4E79A7','#F28E2C','#E15759','#76B7B2','#59A14F', \n",
    "          '#EDC949','#AF7AA1','#FF9DA7','#9C755F','#BAB0AB']\n",
    "sns.set_palette(colours) # set custom color scheme\n",
    "%matplotlib inline\n",
    "plt.rcParams['figure.figsize'] = (9, 6)"
   ]
  },
  {
   "cell_type": "markdown",
   "metadata": {},
   "source": [
    "# 1. Stepping Stone: Bernoulli Model\n",
    "\n",
    "To train a logistic regression method, we need to use algorithms such as Newton's method and gradient descent for optimisation. However, instead of jumping straight to this relatively complex task, it's useful to start with a simple special case to build understanding and test the code. \n",
    "\n",
    "We consider the model $Y_1,Y_2,\\ldots,Y_n\\sim \\operatorname{Bernoulli}\\Big(\\sigma(\\beta)\\Big)$, where $\\beta\\in \\mathbb{R}$ is a parameter and $\\sigma$ is the sigmoid function\n",
    "\\begin{equation}\n",
    "\\sigma(\\beta)=\\frac{1}{1+\\exp(-\\beta)},\n",
    "\\end{equation}\n",
    "as in the previous tutorial.\n",
    "\n",
    "Below, we will also refer to the probability $\\pi=\\sigma(\\beta)$, which is easier to interpret."
   ]
  },
  {
   "cell_type": "markdown",
   "metadata": {},
   "source": [
    "## 1.1 Simulated data\n",
    "\n",
    "The next cell generates some data from the model."
   ]
  },
  {
   "cell_type": "code",
   "execution_count": 3,
   "metadata": {},
   "outputs": [],
   "source": [
    "from scipy import stats\n",
    "\n",
    "np.random.seed(10) # setting the random seed ensures that we get the same sample if we run the code again\n",
    "prob = 0.7 # true value of the probability parameter pi\n",
    "y = stats.bernoulli.rvs(prob, size=1000) "
   ]
  },
  {
   "cell_type": "markdown",
   "metadata": {},
   "source": [
    "Last week, we derived that the MLE of $\\beta$ is $\\widehat{\\beta}=\\sigma^{-1}(\\overline{y})$ and that the MLE of $\\pi$ is the sample proportion $\\overline{y}$. \n",
    "\n",
    "We can then compare the results from numerical optimisation to the exact solution."
   ]
  },
  {
   "cell_type": "code",
   "execution_count": 4,
   "metadata": {},
   "outputs": [
    {
     "name": "stdout",
     "output_type": "stream",
     "text": [
      "The maximum likelihood estimate of beta is 0.824 \n",
      "\n",
      "The maximum likelihood estimate of pi is 0.695\n"
     ]
    }
   ],
   "source": [
    "from scipy.special import logit, expit # expit is the logistic function\n",
    "\n",
    "print(f'The maximum likelihood estimate of beta is {logit(np.mean(y)):.3f} \\n')\n",
    "print(f'The maximum likelihood estimate of pi is {np.mean(y)}')"
   ]
  },
  {
   "cell_type": "markdown",
   "metadata": {},
   "source": [
    "## 1.2 Cost function and derivatives\n",
    "\n",
    "Last week, we derived the following cost function for this estimating this model:\n",
    "\\begin{equation}\n",
    "J(\\beta)=\\frac{1}{n}\\sum_{i=1}^n \\left(-y_i\\log\\Big(\\sigma(\\beta)\\Big)-(1-y_i)\\log\\Big(1-\\sigma(\\beta)\\Big)\\right).\n",
    "\\end{equation}\n",
    "\n",
    "Dividing by $n$ is useful in practice for stability.\n",
    "\n",
    "We can implement the above equation directly or use the following simplification: \n",
    "\\begin{equation}\n",
    "J(\\beta)=\\log\\Big(1+\\exp(\\beta)\\Big)-\\overline{y}\\beta.\n",
    "\\end{equation}\n",
    "\n",
    "It's a good exercise to show  (in your own time) that this second expression is equivalent to the first . The function $\\zeta(x)=\\log\\Big(1+\\exp(x)\\Big)$ is known as the softplus function.\n",
    "\n",
    "While the computational cost is not an issue here, it's often useful to try to reduce the number of operations when working with more complex methods and large datasets.\n",
    "\n",
    "Below, we code a function to compute the cost function."
   ]
  },
  {
   "cell_type": "code",
   "execution_count": 5,
   "metadata": {},
   "outputs": [],
   "source": [
    "def cost(beta, y):\n",
    "    return np.log(1+np.exp(beta))-np.mean(y)*beta"
   ]
  },
  {
   "cell_type": "markdown",
   "metadata": {},
   "source": [
    "We also derived the following formulas for the first and second derivatives:\n",
    "\n",
    "\\begin{equation}\n",
    "J'(\\beta)=\\sigma(\\beta)-\\overline{y}\n",
    "\\end{equation}\n",
    "\n",
    "\\begin{equation}\n",
    "J''(\\beta)=\\sigma(\\beta)\\Big(1-\\sigma(\\beta)\\Big)\n",
    "\\end{equation}\n",
    "\n",
    "Now, the implementation."
   ]
  },
  {
   "cell_type": "code",
   "execution_count": 6,
   "metadata": {},
   "outputs": [],
   "source": [
    "def gradient(beta, y):\n",
    "    pi = expit(beta) \n",
    "    return pi-np.mean(y)\n",
    "\n",
    "def hessian(beta, y):\n",
    "    pi = expit(beta)\n",
    "    return pi*(1-pi)"
   ]
  },
  {
   "cell_type": "markdown",
   "metadata": {},
   "source": [
    "## 1.3 Newton's method\n",
    "\n",
    "From the lecture, Newton's method repeats the following update until convergence:\n",
    "\n",
    "\\begin{equation}\n",
    "\\theta^{(k+1)} \\leftarrow \\theta^{(k)}-\\frac{J'(\\theta^{(k)})}{J''(\\theta^{(k)})}\n",
    "\\end{equation}\n",
    "\n",
    "Two practical implementation details are the starting value $\\theta^{(0)}$ and the convergence criterion."
   ]
  },
  {
   "cell_type": "code",
   "execution_count": 7,
   "metadata": {},
   "outputs": [],
   "source": [
    "def newton(x0, y, grad, hess, tol = 1e-6):\n",
    "\n",
    "    '''\n",
    "    Newton's method for a single parameter problem\n",
    "\n",
    "        Parameters:\n",
    "\n",
    "        x0 : initial guess\n",
    "        y : sample\n",
    "        grad : first derivative of the objective function\n",
    "        hess : second derivative of the objective\n",
    "        tol : tolerance \n",
    "\n",
    "        Returns: \n",
    "\n",
    "        x: solution\n",
    "        history: the design point at every iteration\n",
    "\n",
    "    '''\n",
    "    \n",
    "    x = x0 # starting value\n",
    "    history = [x]\n",
    "    iterate = True\n",
    "    \n",
    "    while iterate:\n",
    "        \n",
    "        x0 = x  # current design point\n",
    "        x = x0 - grad(x0, y)/hess(x0, y) # updated design point\n",
    "        history.append(x) # saving the updated design point\n",
    "        \n",
    "        # Convergence criterion\n",
    "        iterate = np.abs(x-x0) > tol \n",
    "  \n",
    "    return x, history"
   ]
  },
  {
   "cell_type": "markdown",
   "metadata": {},
   "source": [
    "The method converges in four iterations and recovers the correct estimate (up to a small approximation error)."
   ]
  },
  {
   "cell_type": "code",
   "execution_count": 8,
   "metadata": {},
   "outputs": [
    {
     "name": "stdout",
     "output_type": "stream",
     "text": [
      "Newton's method converged in 4 iterations \n",
      "\n",
      "The solution for beta  0.824 \n",
      "\n",
      "The solution for pi is 0.695\n"
     ]
    }
   ],
   "source": [
    "beta, history = newton(0, y, gradient, hessian) # the starting value is beta = 0, which corresponds to pi = 0.5\n",
    "\n",
    "print(f'Newton\\'s method converged in {len(history)-1} iterations \\n')\n",
    "print(f'The solution for beta  {beta:.3f} \\n')\n",
    "print(f'The solution for pi is {expit(beta):.3f}')"
   ]
  },
  {
   "cell_type": "markdown",
   "metadata": {},
   "source": [
    "The next figure shows the solution's trajectory. The blue curve plots the cost function, while the ticks indicate the design point and the value of the cost function at every iteration. \n",
    "\n",
    "We can see that Newton's method jumps close to the global minimum in one iteration. The last update is so small that it's no visible in the plot."
   ]
  },
  {
   "cell_type": "code",
   "execution_count": 9,
   "metadata": {},
   "outputs": [
    {
     "data": {
      "image/png": "[encoded data removed]",
      "text/plain": [
       "<Figure size 648x432 with 1 Axes>"
      ]
     },
     "metadata": {
      "needs_background": "light"
     },
     "output_type": "display_data"
    }
   ],
   "source": [
    "# this code is just for running\n",
    "\n",
    "betas = np.linspace(-0.2, 1, 100) # grid of values for beta\n",
    "\n",
    "fig, ax = plt.subplots()\n",
    "\n",
    "\n",
    "ax.plot(betas, [cost(x, y) for x in betas]) # the list comprehension [] gives the cost function for each beta\n",
    "ax.scatter(history, [cost(x, y) for x in history], color = 'black', marker = '|', s=100)\n",
    "\n",
    "ax.set_xlabel(r'$\\beta$')\n",
    "ax.set_ylabel('Cost Function')\n",
    "ax.set_title('Newton\\'s method', fontsize=14)\n",
    "sns.despine()\n",
    "plt.show()"
   ]
  },
  {
   "cell_type": "markdown",
   "metadata": {},
   "source": [
    "## 1.5 Gradient descent\n",
    "\n",
    "Gradient descent updates the parameter according to:\n",
    "\n",
    "\\begin{equation}\n",
    "\\theta^{(k+1)} \\leftarrow \\theta^{(k)}-\\alpha^{(k)} J'(\\theta^{(k)})\n",
    "\\end{equation}\n",
    "\n",
    "The next cell implements gradient descent with a fixed learning rate."
   ]
  },
  {
   "cell_type": "code",
   "execution_count": 10,
   "metadata": {},
   "outputs": [],
   "source": [
    "def gradientdescent(x0, y, grad, alpha = 1, tol = 1e-6):\n",
    "    \n",
    "    x = x0\n",
    "    history = [x]\n",
    "    \n",
    "    iterate = True\n",
    "    while iterate:        \n",
    "        \n",
    "        x0 = x\n",
    "        x = x0 - alpha*grad(x0, y)\n",
    "        history.append(x)\n",
    "        \n",
    "        # Convergence criterion\n",
    "        iterate = np.abs(x-x0) > tol\n",
    "    \n",
    "    return x, history"
   ]
  },
  {
   "cell_type": "markdown",
   "metadata": {},
   "source": [
    "Let's try it with a learning rate of $\\alpha=0.1$."
   ]
  },
  {
   "cell_type": "code",
   "execution_count": 11,
   "metadata": {},
   "outputs": [
    {
     "name": "stdout",
     "output_type": "stream",
     "text": [
      "Gradient descent converged in 451 iterations \n",
      "\n",
      "The solution for beta  0.824 \n",
      "\n",
      "The solution for pi is 0.695\n"
     ]
    }
   ],
   "source": [
    "beta, history = gradientdescent(0, y, gradient, alpha=0.1)\n",
    "\n",
    "print(f'Gradient descent converged in {len(history)-1} iterations \\n')\n",
    "print(f'The solution for beta  {beta:.3f} \\n')\n",
    "print(f'The solution for pi is {expit(beta):.3f}')"
   ]
  },
  {
   "cell_type": "markdown",
   "metadata": {},
   "source": [
    "Correct answer but terrible convergence! This learning rate is too low. Let's visualise the method's performance."
   ]
  },
  {
   "cell_type": "code",
   "execution_count": 12,
   "metadata": {},
   "outputs": [
    {
     "data": {
      "image/png": "[encoded data removed]",
      "text/plain": [
       "<Figure size 648x432 with 1 Axes>"
      ]
     },
     "metadata": {
      "needs_background": "light"
     },
     "output_type": "display_data"
    }
   ],
   "source": [
    "# this code is just for running\n",
    "\n",
    "betas = np.linspace(-0.2, 1, 100) # grid of values for beta\n",
    "\n",
    "fig, ax = plt.subplots()\n",
    "\n",
    "\n",
    "ax.plot(betas, [cost(x, y) for x in betas]) # the list comprehension [] returns the cost function for each beta\n",
    "ax.scatter(history, [cost(x, y) for x in history], color = 'black', marker = '|', s = 100, alpha = 0.8)\n",
    "\n",
    "ax.set_xlabel(r'$\\beta$')\n",
    "ax.set_ylabel('Cost Function')\n",
    "ax.set_title(r'Gradient descent with $\\alpha=0.1$', fontsize=14)\n",
    "sns.despine()\n",
    "plt.show()"
   ]
  },
  {
   "cell_type": "markdown",
   "metadata": {},
   "source": [
    "Based on this, we increase the learning rate to $\\alpha=1$."
   ]
  },
  {
   "cell_type": "code",
   "execution_count": 13,
   "metadata": {},
   "outputs": [
    {
     "name": "stdout",
     "output_type": "stream",
     "text": [
      "Gradient descent converged after 51 iterations \n",
      "\n",
      "The solution for beta  0.824 \n",
      "\n",
      "The solution for pi is 0.695\n"
     ]
    }
   ],
   "source": [
    "beta, history = gradientdescent(0, y, gradient, alpha = 1)\n",
    "\n",
    "print(f'Gradient descent converged in {len(history)-1} iterations \\n')\n",
    "print(f'The solution for beta  {beta:.3f} \\n')\n",
    "print(f'The solution for pi is {expit(beta):.3f}')"
   ]
  },
  {
   "cell_type": "markdown",
   "metadata": {},
   "source": [
    "That's better, but still much worse than Newton's method. The plot below shows that the method gets close to the global minimum in about 10 iterations, but needs many additional iterations to refine the solution. That's because the derivative is very close to zero near the local minimum. "
   ]
  },
  {
   "cell_type": "code",
   "execution_count": 14,
   "metadata": {},
   "outputs": [
    {
     "data": {
      "image/png": "[encoded data removed]",
      "text/plain": [
       "<Figure size 648x432 with 1 Axes>"
      ]
     },
     "metadata": {
      "needs_background": "light"
     },
     "output_type": "display_data"
    }
   ],
   "source": [
    "# this code is just for running\n",
    "\n",
    "betas = np.linspace(-0.2, 1, 100) # grid of values for beta\n",
    "\n",
    "fig, ax = plt.subplots()\n",
    "\n",
    "ax.plot(betas, [cost(x, y) for x in betas]) # the list comprehension [] returns the cost function for each beta\n",
    "ax.scatter(history, [cost(x, y) for x in history], color = 'black', marker = '|', s = 100)\n",
    "\n",
    "ax.set_xlabel(r'$\\beta$')\n",
    "ax.set_ylabel('Cost Function')\n",
    "ax.set_title(r'Gradient descent with $\\alpha=1$', fontsize=14)\n",
    "sns.despine()\n",
    "plt.show()"
   ]
  },
  {
   "cell_type": "markdown",
   "metadata": {},
   "source": [
    "# 2. Logistic regression\n",
    "\n",
    "We now continue with our main goal of implementing a logistic regression.\n",
    "\n",
    "## 2.1 Data and benchmark\n",
    "\n",
    "We'll use a customer acquisition dataset to test the code. It's a subset of the data used in the GAM tutorial."
   ]
  },
  {
   "cell_type": "code",
   "execution_count": 15,
   "metadata": {},
   "outputs": [
    {
     "data": {
      "text/html": [
       "<div>\n",
       "<style scoped>\n",
       "    .dataframe tbody tr th:only-of-type {\n",
       "        vertical-align: middle;\n",
       "    }\n",
       "\n",
       "    .dataframe tbody tr th {\n",
       "        vertical-align: top;\n",
       "    }\n",
       "\n",
       "    .dataframe thead th {\n",
       "        text-align: right;\n",
       "    }\n",
       "</style>\n",
       "<table border=\"1\" class=\"dataframe\">\n",
       "  <thead>\n",
       "    <tr style=\"text-align: right;\">\n",
       "      <th></th>\n",
       "      <th>Acquisition</th>\n",
       "      <th>Acq_Expense</th>\n",
       "      <th>Industry</th>\n",
       "      <th>Revenue</th>\n",
       "      <th>Employees</th>\n",
       "    </tr>\n",
       "    <tr>\n",
       "      <th>Customer</th>\n",
       "      <th></th>\n",
       "      <th></th>\n",
       "      <th></th>\n",
       "      <th></th>\n",
       "      <th></th>\n",
       "    </tr>\n",
       "  </thead>\n",
       "  <tbody>\n",
       "    <tr>\n",
       "      <th>1</th>\n",
       "      <td>1</td>\n",
       "      <td>760.36</td>\n",
       "      <td>1</td>\n",
       "      <td>30.16</td>\n",
       "      <td>1240</td>\n",
       "    </tr>\n",
       "    <tr>\n",
       "      <th>2</th>\n",
       "      <td>0</td>\n",
       "      <td>147.70</td>\n",
       "      <td>1</td>\n",
       "      <td>39.80</td>\n",
       "      <td>166</td>\n",
       "    </tr>\n",
       "    <tr>\n",
       "      <th>3</th>\n",
       "      <td>0</td>\n",
       "      <td>252.56</td>\n",
       "      <td>1</td>\n",
       "      <td>54.93</td>\n",
       "      <td>1016</td>\n",
       "    </tr>\n",
       "    <tr>\n",
       "      <th>4</th>\n",
       "      <td>1</td>\n",
       "      <td>609.73</td>\n",
       "      <td>1</td>\n",
       "      <td>45.83</td>\n",
       "      <td>122</td>\n",
       "    </tr>\n",
       "    <tr>\n",
       "      <th>5</th>\n",
       "      <td>1</td>\n",
       "      <td>672.36</td>\n",
       "      <td>1</td>\n",
       "      <td>69.03</td>\n",
       "      <td>313</td>\n",
       "    </tr>\n",
       "  </tbody>\n",
       "</table>\n",
       "</div>"
      ],
      "text/plain": [
       "          Acquisition  Acq_Expense  Industry  Revenue  Employees\n",
       "Customer                                                        \n",
       "1                   1       760.36         1    30.16       1240\n",
       "2                   0       147.70         1    39.80        166\n",
       "3                   0       252.56         1    54.93       1016\n",
       "4                   1       609.73         1    45.83        122\n",
       "5                   1       672.36         1    69.03        313"
      ]
     },
     "execution_count": 15,
     "metadata": {},
     "output_type": "execute_result"
    }
   ],
   "source": [
    "data = pd.read_csv('Data\\Acquisition.csv', index_col=0)\n",
    "data.head()"
   ]
  },
  {
   "cell_type": "markdown",
   "metadata": {},
   "source": [
    "We use the `statsmodels` package to fit the model for comparison because it generates a more informative output than scikit-learn."
   ]
  },
  {
   "cell_type": "code",
   "execution_count": 16,
   "metadata": {},
   "outputs": [
    {
     "name": "stdout",
     "output_type": "stream",
     "text": [
      "Optimization terminated successfully.\n",
      "         Current function value: 0.217643\n",
      "         Iterations 9\n",
      "                           Logit Regression Results                           \n",
      "==============================================================================\n",
      "Dep. Variable:            Acquisition   No. Observations:                  500\n",
      "Model:                          Logit   Df Residuals:                      495\n",
      "Method:                           MLE   Df Model:                            4\n",
      "Date:                Thu, 28 Oct 2021   Pseudo R-squ.:                  0.6795\n",
      "Time:                        14:05:58   Log-Likelihood:                -108.82\n",
      "converged:                       True   LL-Null:                       -339.48\n",
      "Covariance Type:            nonrobust   LLR p-value:                 1.546e-98\n",
      "===============================================================================\n",
      "                  coef    std err          z      P>|z|      [0.025      0.975]\n",
      "-------------------------------------------------------------------------------\n",
      "const         -13.5205      1.497     -9.033      0.000     -16.454     -10.587\n",
      "Acq_Expense     0.0215      0.002      9.678      0.000       0.017       0.026\n",
      "Industry        0.1127      0.364      0.310      0.757      -0.601       0.826\n",
      "Revenue         0.0274      0.011      2.471      0.013       0.006       0.049\n",
      "Employees       0.0038      0.001      6.961      0.000       0.003       0.005\n",
      "===============================================================================\n"
     ]
    }
   ],
   "source": [
    "# this code is just for running\n",
    "\n",
    "import statsmodels.api as sm\n",
    "\n",
    "y_train= data['Acquisition']\n",
    "X_train= sm.add_constant(data.iloc[:, 1:]) # need to manually add a column of ones with statsmodels\n",
    "\n",
    "feature_names = X_train.columns\n",
    "\n",
    "sm_logit = sm.Logit(y_train, X_train).fit()\n",
    "\n",
    "print(sm_logit.summary())"
   ]
  },
  {
   "cell_type": "markdown",
   "metadata": {},
   "source": [
    "## 2.2 Newton's method\n",
    "\n",
    "The general update for Newton's method is:\n",
    "\n",
    "\\begin{equation}\n",
    "\\mathbf{\\theta}^{(k+1)} = \\mathbf{\\theta}^{(k)}-\\left(\\nabla^2 J(\\mathbf{\\theta}^{(k)})\\right)^{-1}\\nabla J(\\mathbf{\\theta}^{(k)})\n",
    "\\end{equation}\n",
    "\n",
    "In the lecture, we derived:\n",
    "\n",
    "\\begin{equation}\n",
    "\\frac{\\partial J}{\\partial \\beta_k}=n^{-1}\\sum_{i=1}^{n}x_{ik}\\left(\\pi_i-y_i\\right).\n",
    "\\end{equation}\n",
    "\n",
    "Define the following vector:\n",
    "\\begin{equation}\n",
    "{\\boldsymbol \\pi} = (\\pi_1,\\ldots,\\pi_n)\n",
    "\\end{equation}\n",
    "\n",
    "Then, it follows from definition of matrix multiplication (optional exercise) that we can write the gradient as\n",
    "\\begin{equation}\n",
    "\\nabla J(\\beta) =n^{-1} {\\boldsymbol X}^\\top ({\\boldsymbol \\pi} - {\\boldsymbol y}).\n",
    "\\end{equation}\n",
    "\n",
    "From the partial derivative, we can also obtain (optional exercise):\n",
    "\\begin{equation}\n",
    "\\frac{\\partial J}{\\partial \\beta_k \\partial \\beta_l}=n^{-1}\\sum_{i=1}^{n}x_{ik}x_{il}\\pi_i(1-\\pi_i).\n",
    "\\end{equation}\n",
    "\n",
    "This paragraph requires some familiarity with linear algebra. Let ${\\boldsymbol W}$ be a diagonal matrix with diagonal elements ${\\boldsymbol W}_{ii}=\\pi_i(1-\\pi_i)$. Then, we can write the Hessian compactly as \n",
    "\\begin{equation}\n",
    "\\nabla^2 J(\\beta)=n^{-1}({\\boldsymbol X}^\\top{\\boldsymbol W}{\\boldsymbol X}).\n",
    "\\end{equation}\n",
    "\n",
    "If you are not very familiar with linear algebra, you don't have worry about understanding how to go from the partial derivatives to the gradient and Hessian in matrix notation. The exam will not require you to work with matrices. Just do your best to understand how to get the partial derivatives.\n",
    "\n",
    "Let's turn the gradient and Hessian formulas into code."
   ]
  },
  {
   "cell_type": "code",
   "execution_count": 17,
   "metadata": {},
   "outputs": [],
   "source": [
    "def logistic_gradient(beta, X, y):\n",
    "    pi = expit(X @ beta) # the @ operator does multiplication with matrices and vectors\n",
    "    return (X.T @ (pi-y))/len(y)\n",
    "\n",
    "def logistic_hessian(beta, X, y):\n",
    "    pi = expit(X @ beta).reshape((-1,1)) # we need this to be a column vector for the next line\n",
    "    return ((X* (pi*(1-pi))).T @ X)/len(y)"
   ]
  },
  {
   "cell_type": "markdown",
   "metadata": {},
   "source": [
    "The implementation of Newton's method is similar to the one in the previous section. We only have to change one line. "
   ]
  },
  {
   "cell_type": "code",
   "execution_count": 18,
   "metadata": {},
   "outputs": [],
   "source": [
    "def logistic_train(x0, X, y, grad, hess, tol = 1e-6):\n",
    "    \n",
    "    x = x0 # starting value\n",
    "    \n",
    "    iterate = True\n",
    "    iterations = 0\n",
    "    \n",
    "    while iterate:\n",
    "        \n",
    "        iterations +=1\n",
    "        x0 = x\n",
    "        \n",
    "        # Below we compute the inverse hessian times the gradient as the solution to a linear system,\n",
    "        # which is the best way to do this numerically\n",
    "        x = x0 - np.linalg.solve(hess(x0, X, y), grad(x0, X, y)) \n",
    "        iterate = np.max(x-x0) > tol\n",
    "    \n",
    "    print(f'Newton\\'s method converged in {iterations} iterations \\n')\n",
    "    \n",
    "    return x"
   ]
  },
  {
   "cell_type": "markdown",
   "metadata": {},
   "source": [
    "Testing the function, we get the same learned parameters as the `statsmodels` package (up to small numerical differences)."
   ]
  },
  {
   "cell_type": "code",
   "execution_count": 19,
   "metadata": {},
   "outputs": [
    {
     "name": "stdout",
     "output_type": "stream",
     "text": [
      "Newton's method converged in 8 iterations \n",
      "\n",
      "const         -13.5205\n",
      "Acq_Expense     0.0215\n",
      "Industry        0.1127\n",
      "Revenue         0.0274\n",
      "Employees       0.0038\n",
      "dtype: float64\n"
     ]
    }
   ],
   "source": [
    "# Detail: easier to convert X_train and y_train to numpy arrays\n",
    "X_train = np.array(X_train)\n",
    "y_train = np.ravel(y_train)\n",
    "\n",
    "# Starting values: all coefficients set to zero except the intercept\n",
    "# Set the intercept to the MLE for a model that only has the constant\n",
    "initial = np.zeros(5)\n",
    "initial[0] = logit(np.mean(y_train))\n",
    "\n",
    "# Run the optimisation\n",
    "coef = logistic_train(initial, X_train, y_train, logistic_gradient, logistic_hessian)\n",
    "\n",
    "print(pd.Series(coef, index=feature_names).round(4))"
   ]
  },
  {
   "cell_type": "markdown",
   "metadata": {},
   "source": [
    "## 2.3 Scikit-Learn estimator\n",
    "\n",
    "This is a bonus section for those who are curious to know how to build a scikit-learn estimator.\n",
    "\n",
    "The next cell implements a Scikit-Learn class that wraps our logistic regression implementation. Then we have an implementation that works like other scikit-learn classifiers."
   ]
  },
  {
   "cell_type": "code",
   "execution_count": 20,
   "metadata": {},
   "outputs": [],
   "source": [
    "from sklearn.base import BaseEstimator, ClassifierMixin\n",
    "from sklearn.utils.validation import check_X_y, check_array, check_is_fitted\n",
    "\n",
    "class LogisticRegression(BaseEstimator, ClassifierMixin):\n",
    "\n",
    "    def __init__(self):\n",
    "        pass\n",
    "\n",
    "    def fit(self, X, y):\n",
    "        \n",
    "        # Type conversions (if needed) and array checks\n",
    "        X =  np.array(X)\n",
    "        y = np.array(y)\n",
    "        X, y = check_X_y(X, y)\n",
    "        \n",
    "        # Add a column of ones to the beginning of the design matrix\n",
    "        X = np.c_[np.ones(len(y)), X]\n",
    "\n",
    "        # Starting values for the parametres\n",
    "        initial = np.zeros(X.shape[1])\n",
    "        initial[0] = logit(np.mean(y))\n",
    "        \n",
    "        # Run Newton's method\n",
    "        beta = logistic_train(initial, X, y, logistic_gradient, logistic_hessian)\n",
    "\n",
    "        # Save intercept and coefficients as attributes\n",
    "        self.intercept_ = beta[0]\n",
    "        self.coef_ = beta[1:]\n",
    "\n",
    "        return self\n",
    "    \n",
    "    def predict_proba(self, X):\n",
    "\n",
    "        # Check is the model has been trained\n",
    "        check_is_fitted(self)\n",
    "\n",
    "        # Input validation\n",
    "        X = check_array(X)\n",
    "        \n",
    "        # Predicted probabilities     \n",
    "        probas= expit(self.intercept_ + X @ self.coef_)\n",
    "\n",
    "        # The output needs to have the probabilities for both classes\n",
    "        return np.c_[1-probas, probas]\n",
    "\n",
    "    def predict(self, X, tau = 0.5):\n",
    "\n",
    "        probas = self.predict_proba(self, X)\n",
    "        \n",
    "        return (probas > tau).astype(int)"
   ]
  },
  {
   "cell_type": "markdown",
   "metadata": {},
   "source": [
    "Instantiating and fitting the model:"
   ]
  },
  {
   "cell_type": "code",
   "execution_count": 21,
   "metadata": {},
   "outputs": [
    {
     "name": "stdout",
     "output_type": "stream",
     "text": [
      "Newton's method converged in 8 iterations \n",
      "\n"
     ]
    },
    {
     "data": {
      "text/plain": [
       "LogisticRegression()"
      ]
     },
     "execution_count": 21,
     "metadata": {},
     "output_type": "execute_result"
    }
   ],
   "source": [
    "X_train = X_train[:, 1:] # deleting the column of ones\n",
    "\n",
    "clf = LogisticRegression()\n",
    "clf.fit(X_train, y_train)"
   ]
  },
  {
   "cell_type": "markdown",
   "metadata": {},
   "source": [
    "Generating predictions:"
   ]
  },
  {
   "cell_type": "code",
   "execution_count": 22,
   "metadata": {},
   "outputs": [],
   "source": [
    "y_prob = clf.predict_proba(X_train)[:, 1]"
   ]
  }
 ],
 "metadata": {
  "kernelspec": {
   "display_name": "Python 3",
   "language": "python",
   "name": "python3"
  },
  "language_info": {
   "codemirror_mode": {
    "name": "ipython",
    "version": 3
   },
   "file_extension": ".py",
   "mimetype": "text/x-python",
   "name": "python",
   "nbconvert_exporter": "python",
   "pygments_lexer": "ipython3",
   "version": "3.7.10"
  }
 },
 "nbformat": 4,
 "nbformat_minor": 4
}
