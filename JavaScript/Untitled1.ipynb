{
 "cells": [
  {
   "cell_type": "code",
   "execution_count": 10,
   "id": "c679e3b1",
   "metadata": {},
   "outputs": [],
   "source": [
    "from IPython.core.magic import register_cell_magic\n",
    "from IPython.display import IFrame\n",
    "\n",
    "TEMPLATE = \"\"\"\n",
    "<html>\n",
    "<head>\n",
    "<meta charset=\"utf-8\"/>\n",
    "<script src=\"https://cdnjs.cloudflare.com/ajax/libs/p5.js/1.4.0/p5.min.js\"></script>\n",
    "</head>\n",
    "<body>\n",
    "<script>\n",
    "%(script)s\n",
    "</script>\n",
    "</body>\n",
    "</html>\n",
    "\"\"\"\n",
    "\n",
    "\n",
    "@register_cell_magic\n",
    "def p5(line, cell):\n",
    "    file_id = int(line)\n",
    "    filename = f\"p5js-html/p5-pre-{file_id}.html\"\n",
    "    with open(filename, \"w\", encoding='utf8') as fp:\n",
    "        fp.write(TEMPLATE % {\"script\": cell, \"name\": filename})\n",
    "    return IFrame(filename, width=\"100%\", height=\"500\")\n",
    "\n",
    "del p5"
   ]
  },
  {
   "cell_type": "markdown",
   "id": "c164aafa",
   "metadata": {},
   "source": [
    "## 1. Variable"
   ]
  },
  {
   "cell_type": "code",
   "execution_count": 26,
   "id": "4ed482ef",
   "metadata": {},
   "outputs": [
    {
     "data": {
      "application/javascript": [
       "let myVar = 5; // int (number)\n",
       "myVar = 5.5; // float (number)\n",
       "myVar = true; // boolean\n",
       "myVar = 'say hi'; // string\n"
      ],
      "text/plain": [
       "<IPython.core.display.Javascript object>"
      ]
     },
     "metadata": {},
     "output_type": "display_data"
    }
   ],
   "source": [
    "%%javascript\n",
    "let myVar = 5; // int (number)\n",
    "myVar = 5.5; // float (number)\n",
    "myVar = true; // boolean\n",
    "myVar = 'say hi'; // string"
   ]
  },
  {
   "cell_type": "markdown",
   "id": "9f1ceb84",
   "metadata": {},
   "source": [
    "### 1.1 Operation"
   ]
  },
  {
   "cell_type": "code",
   "execution_count": 12,
   "id": "a0314644",
   "metadata": {},
   "outputs": [
    {
     "data": {
      "application/javascript": [
       "let myVar = 10;\n",
       "let b = myVar + 1;\n",
       "myVar = b;\n",
       "// when it comes to number operation, if the diff is equal to 1, then you can write like:\n",
       "//myVar = myVar+1;\n",
       "alert(b)\n"
      ],
      "text/plain": [
       "<IPython.core.display.Javascript object>"
      ]
     },
     "metadata": {},
     "output_type": "display_data"
    }
   ],
   "source": [
    "%%javascript\n",
    "let myVar = 10;\n",
    "let b = myVar + 1;\n",
    "myVar = myVar + 1;\n",
    "// when it comes to number operation, if the diff is equal to 1, then you can write like:\n",
    "//myVar = myVar+1;\n",
    "alert(b)"
   ]
  },
  {
   "cell_type": "code",
   "execution_count": 12,
   "id": "155eb405",
   "metadata": {},
   "outputs": [
    {
     "data": {
      "text/html": [
       "\n",
       "        <iframe\n",
       "            width=\"100%\"\n",
       "            height=\"500\"\n",
       "            src=\"p5js-html/p5-pre-1.html\"\n",
       "            frameborder=\"0\"\n",
       "            allowfullscreen\n",
       "        ></iframe>\n",
       "        "
      ],
      "text/plain": [
       "<IPython.lib.display.IFrame at 0x6171550>"
      ]
     },
     "execution_count": 12,
     "metadata": {},
     "output_type": "execute_result"
    }
   ],
   "source": [
    "%%p5 1\n",
    "\n",
    "var n = 9;\n",
    "var w = 20;\n",
    "var h = 10;\n",
    "function setup () {\n",
    "  createCanvas(innerWidth, innerHeight);\n",
    "}\n",
    "function draw() {\n",
    "  for (let i = 0; i <= n; i++) {\n",
    "    let color = map(i, 0, n, 0, 255);\n",
    "    stroke(color);\n",
    "    fill(color);\n",
    "    rect(i*w, 0, w, h);\n",
    "  }\n",
    "}"
   ]
  },
  {
   "cell_type": "code",
   "execution_count": null,
   "id": "4c6f627f",
   "metadata": {},
   "outputs": [],
   "source": []
  }
 ],
 "metadata": {
  "kernelspec": {
   "display_name": "Python 3",
   "language": "python",
   "name": "python3"
  },
  "language_info": {
   "codemirror_mode": {
    "name": "ipython",
    "version": 3
   },
   "file_extension": ".py",
   "mimetype": "text/x-python",
   "name": "python",
   "nbconvert_exporter": "python",
   "pygments_lexer": "ipython3",
   "version": "3.8.8"
  }
 },
 "nbformat": 4,
 "nbformat_minor": 5
}
